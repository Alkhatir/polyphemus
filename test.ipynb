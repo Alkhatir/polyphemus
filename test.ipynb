{
 "cells": [
  {
   "cell_type": "code",
   "execution_count": 1,
   "id": "3726f725",
   "metadata": {},
   "outputs": [],
   "source": [
    "import torch\n",
    "import numpy as np\n",
    "import os\n",
    "from torch.utils.data import Subset\n",
    "from torch.utils.data import random_split\n",
    "from torch_geometric.loader import DataLoader"
   ]
  },
  {
   "cell_type": "code",
   "execution_count": 2,
   "id": "ca7fa60b",
   "metadata": {},
   "outputs": [],
   "source": [
    "from data import MIDIDataset, graph_from_tensor\n",
    "from model import VAE\n",
    "from utils import plot_struct, dense_from_sparse, muspy_from_dense\n",
    "from train import VAETrainer"
   ]
  },
  {
   "cell_type": "markdown",
   "id": "00280fb2",
   "metadata": {},
   "source": [
    "Load trained model:"
   ]
  },
  {
   "cell_type": "code",
   "execution_count": 3,
   "id": "8114a971",
   "metadata": {},
   "outputs": [],
   "source": [
    "model = 'models/16barsGNNDEF/'\n",
    "gpu = True\n",
    "device_idx = 3\n",
    "\n",
    "checkpoint = torch.load(os.path.join(model, 'checkpoint'), map_location='cpu')\n",
    "state_dict = checkpoint['model_state_dict']\n",
    "params = torch.load(os.path.join(model, 'params'), map_location='cpu')"
   ]
  },
  {
   "cell_type": "code",
   "execution_count": 4,
   "id": "b60d74c4",
   "metadata": {},
   "outputs": [
    {
     "name": "stdout",
     "output_type": "stream",
     "text": [
      "Device: cuda\n",
      "Device idx: 3\n"
     ]
    }
   ],
   "source": [
    "torch.cuda.set_device(device_idx)\n",
    "\n",
    "device = torch.device(\"cuda\") if gpu else torch.device(\"cpu\")\n",
    "print(\"Device:\", device)\n",
    "print(\"Device idx:\", torch.cuda.current_device())"
   ]
  },
  {
   "cell_type": "code",
   "execution_count": 5,
   "id": "46d5c2f6",
   "metadata": {},
   "outputs": [
    {
     "data": {
      "text/plain": [
       "{'training': {'batch_size': 32,\n",
       "  'num_workers': 4,\n",
       "  'ds_len': 2842739,\n",
       "  'tr_len': 1989917,\n",
       "  'vl_len': 284273,\n",
       "  'ts_len': 568549},\n",
       " 'model': {'dropout': 0,\n",
       "  'batch_norm': True,\n",
       "  'gnn_n_layers': 8,\n",
       "  'actsnn_n_layers': 2,\n",
       "  'd': 512,\n",
       "  'rnn_n_layers': 1,\n",
       "  'k_isgn': 3,\n",
       "  'd_token': 230,\n",
       "  'd_token_pitches': 131,\n",
       "  'd_token_dur': 99,\n",
       "  'n_bars': 16,\n",
       "  'n_relations': 6,\n",
       "  'n_tracks': 4,\n",
       "  'resolution': 8,\n",
       "  'max_simu_notes': 16},\n",
       " 'scheduler': {'peak_lr': 5e-05,\n",
       "  'final_lr_scale': 0.01,\n",
       "  'warmup_steps': 8000,\n",
       "  'decay_steps': 800000},\n",
       " 'optimizer': {'betas': (0.9, 0.98), 'eps': 1e-09, 'lr': 5e-06},\n",
       " 'beta_annealing': {'beta_update': True,\n",
       "  'anneal_start': 40000,\n",
       "  'beta_max': 0.01,\n",
       "  'step_size': 0.001,\n",
       "  'anneal_end': 500000}}"
      ]
     },
     "execution_count": 5,
     "metadata": {},
     "output_type": "execute_result"
    }
   ],
   "source": [
    "params"
   ]
  },
  {
   "cell_type": "code",
   "execution_count": 6,
   "id": "6500e350",
   "metadata": {},
   "outputs": [
    {
     "data": {
      "text/plain": [
       "VAE(\n",
       "  (encoder): Encoder(\n",
       "    (dropout_layer): Dropout(p=0, inplace=False)\n",
       "    (notes_pitch_emb): Linear(in_features=131, out_features=256, bias=True)\n",
       "    (bn_npe): BatchNorm1d(256, eps=1e-05, momentum=0.1, affine=True, track_running_stats=True)\n",
       "    (drums_pitch_emb): Linear(in_features=131, out_features=256, bias=True)\n",
       "    (bn_dpe): BatchNorm1d(256, eps=1e-05, momentum=0.1, affine=True, track_running_stats=True)\n",
       "    (dur_emb): Linear(in_features=99, out_features=256, bias=True)\n",
       "    (bn_de): BatchNorm1d(256, eps=1e-05, momentum=0.1, affine=True, track_running_stats=True)\n",
       "    (chord_encoder): Linear(in_features=7680, out_features=512, bias=True)\n",
       "    (graph_encoder): GraphEncoder(\n",
       "      (layers): ModuleList(\n",
       "        (0): RGCNConv(512, 512, num_relations=6)\n",
       "        (1): RGCNConv(512, 512, num_relations=6)\n",
       "        (2): RGCNConv(512, 512, num_relations=6)\n",
       "        (3): RGCNConv(512, 512, num_relations=6)\n",
       "        (4): RGCNConv(512, 512, num_relations=6)\n",
       "        (5): RGCNConv(512, 512, num_relations=6)\n",
       "        (6): RGCNConv(512, 512, num_relations=6)\n",
       "        (7): RGCNConv(512, 512, num_relations=6)\n",
       "      )\n",
       "      (norm_layers): ModuleList(\n",
       "        (0): BatchNorm(512)\n",
       "        (1): BatchNorm(512)\n",
       "        (2): BatchNorm(512)\n",
       "        (3): BatchNorm(512)\n",
       "        (4): BatchNorm(512)\n",
       "        (5): BatchNorm(512)\n",
       "        (6): BatchNorm(512)\n",
       "        (7): BatchNorm(512)\n",
       "      )\n",
       "    )\n",
       "    (graph_attention): GlobalAttention(gate_nn=Sequential(\n",
       "      (0): MLP(\n",
       "        (layers): ModuleList(\n",
       "          (0): Linear(in_features=512, out_features=1, bias=True)\n",
       "        )\n",
       "      )\n",
       "      (1): BatchNorm1d(1, eps=1e-05, momentum=0.1, affine=True, track_running_stats=True)\n",
       "    ), nn=None)\n",
       "    (bars_encoder_attr): Linear(in_features=8192, out_features=512, bias=True)\n",
       "    (cnn_encoder): CNNEncoder(\n",
       "      (conv): Sequential(\n",
       "        (0): Conv2d(1, 8, kernel_size=(3, 3), stride=(1, 1), padding=(1, 1))\n",
       "        (1): BatchNorm2d(8, eps=1e-05, momentum=0.1, affine=True, track_running_stats=True)\n",
       "        (2): ReLU(inplace=True)\n",
       "        (3): MaxPool2d(kernel_size=(1, 4), stride=(1, 4), padding=0, dilation=1, ceil_mode=False)\n",
       "        (4): Conv2d(8, 16, kernel_size=(3, 3), stride=(1, 1), padding=(1, 1))\n",
       "        (5): BatchNorm2d(16, eps=1e-05, momentum=0.1, affine=True, track_running_stats=True)\n",
       "        (6): ReLU(inplace=True)\n",
       "      )\n",
       "      (flatten): Flatten(start_dim=1, end_dim=-1)\n",
       "      (lin): Sequential(\n",
       "        (0): Dropout(p=0, inplace=False)\n",
       "        (1): Linear(in_features=512, out_features=512, bias=True)\n",
       "        (2): ReLU(inplace=True)\n",
       "        (3): Dropout(p=0, inplace=False)\n",
       "        (4): Linear(in_features=512, out_features=512, bias=True)\n",
       "      )\n",
       "    )\n",
       "    (bars_encoder_struct): Linear(in_features=8192, out_features=512, bias=True)\n",
       "    (linear_merge): Linear(in_features=1024, out_features=512, bias=True)\n",
       "    (bn_lm): BatchNorm1d(512, eps=1e-05, momentum=0.1, affine=True, track_running_stats=True)\n",
       "    (linear_mu): Linear(in_features=512, out_features=512, bias=True)\n",
       "    (linear_log_var): Linear(in_features=512, out_features=512, bias=True)\n",
       "  )\n",
       "  (decoder): Decoder(\n",
       "    (dropout_layer): Dropout(p=0, inplace=False)\n",
       "    (lin_divide): Linear(in_features=512, out_features=1024, bias=True)\n",
       "    (bn_ld): BatchNorm1d(1024, eps=1e-05, momentum=0.1, affine=True, track_running_stats=True)\n",
       "    (bars_decoder_attr): Linear(in_features=512, out_features=8192, bias=True)\n",
       "    (bars_decoder_struct): Linear(in_features=512, out_features=8192, bias=True)\n",
       "    (cnn_decoder): CNNDecoder(\n",
       "      (lin): Sequential(\n",
       "        (0): Dropout(p=0, inplace=False)\n",
       "        (1): Linear(in_features=512, out_features=512, bias=True)\n",
       "        (2): ReLU(inplace=True)\n",
       "        (3): Dropout(p=0, inplace=False)\n",
       "        (4): Linear(in_features=512, out_features=512, bias=True)\n",
       "        (5): ReLU(inplace=True)\n",
       "      )\n",
       "      (unflatten): Unflatten(dim=1, unflattened_size=(16, 4, 8))\n",
       "      (conv): Sequential(\n",
       "        (0): Upsample(scale_factor=(1.0, 4.0), mode=nearest)\n",
       "        (1): Conv2d(16, 8, kernel_size=(3, 3), stride=(1, 1), padding=(1, 1))\n",
       "        (2): BatchNorm2d(8, eps=1e-05, momentum=0.1, affine=True, track_running_stats=True)\n",
       "        (3): ReLU(inplace=True)\n",
       "        (4): Conv2d(8, 1, kernel_size=(3, 3), stride=(1, 1), padding=(1, 1))\n",
       "      )\n",
       "    )\n",
       "    (graph_decoder): GraphEncoder(\n",
       "      (layers): ModuleList(\n",
       "        (0): RGCNConv(512, 512, num_relations=6)\n",
       "        (1): RGCNConv(512, 512, num_relations=6)\n",
       "        (2): RGCNConv(512, 512, num_relations=6)\n",
       "        (3): RGCNConv(512, 512, num_relations=6)\n",
       "        (4): RGCNConv(512, 512, num_relations=6)\n",
       "        (5): RGCNConv(512, 512, num_relations=6)\n",
       "        (6): RGCNConv(512, 512, num_relations=6)\n",
       "        (7): RGCNConv(512, 512, num_relations=6)\n",
       "      )\n",
       "      (norm_layers): ModuleList(\n",
       "        (0): BatchNorm(512)\n",
       "        (1): BatchNorm(512)\n",
       "        (2): BatchNorm(512)\n",
       "        (3): BatchNorm(512)\n",
       "        (4): BatchNorm(512)\n",
       "        (5): BatchNorm(512)\n",
       "        (6): BatchNorm(512)\n",
       "        (7): BatchNorm(512)\n",
       "      )\n",
       "    )\n",
       "    (chord_decoder): Linear(in_features=512, out_features=7680, bias=True)\n",
       "    (drums_pitch_emb): Linear(in_features=256, out_features=131, bias=True)\n",
       "    (notes_pitch_emb): Linear(in_features=256, out_features=131, bias=True)\n",
       "    (dur_emb): Linear(in_features=256, out_features=99, bias=True)\n",
       "  )\n",
       ")"
      ]
     },
     "execution_count": 6,
     "metadata": {},
     "output_type": "execute_result"
    }
   ],
   "source": [
    "vae = VAE(**params['model'], device=device).to(device)\n",
    "vae.load_state_dict(state_dict)\n",
    "vae.eval()"
   ]
  },
  {
   "cell_type": "markdown",
   "id": "8bb0ab8f",
   "metadata": {},
   "source": [
    "## Reconstruction"
   ]
  },
  {
   "cell_type": "markdown",
   "id": "15b6558a",
   "metadata": {},
   "source": [
    "Load dataset:"
   ]
  },
  {
   "cell_type": "code",
   "execution_count": null,
   "id": "a5db7268",
   "metadata": {},
   "outputs": [],
   "source": [
    "n_bars = params['model']['n_bars']\n",
    "bs = params['training']['batch_size']\n",
    "nw = 4\n",
    "tr_split = 0.7\n",
    "val_split = 0.1\n",
    "\n",
    "ds_dir = \"/data/cosenza/datasets/preprocessed_\" + str(n_bars) + \"bars/\"\n",
    "dataset = MIDIDataset(ds_dir, n_bars=n_bars)\n",
    "print('Dataset len:', len(dataset))\n",
    "\n",
    "loader = DataLoader(dataset, batch_size=bs, shuffle=False, num_workers=nw)\n",
    "\n",
    "train_len = int(tr_split * len(dataset))\n",
    "valid_len = int(val_split * len(dataset))\n",
    "test_len = len(dataset) - train_len - valid_len\n",
    "tr_set, vl_set, ts_set = random_split(dataset, (train_len, valid_len, test_len))\n",
    "\n",
    "trainloader = DataLoader(tr_set, batch_size=bs, shuffle=True, num_workers=nw)\n",
    "validloader = DataLoader(vl_set, batch_size=bs, shuffle=False, num_workers=nw)\n",
    "testloader = DataLoader(ts_set, batch_size=bs, shuffle=False, num_workers=nw)\n",
    "\n",
    "tr_len = len(tr_set)\n",
    "vl_len = len(vl_set)\n",
    "ts_len = len(ts_set)\n",
    "\n",
    "print('TR set len:', len(tr_set))\n",
    "print('VL set len:', len(vl_set))\n",
    "print('TS set len:', len(ts_set))"
   ]
  },
  {
   "cell_type": "markdown",
   "id": "57562285",
   "metadata": {},
   "source": [
    "#### Reconstruction accuracy (TS)"
   ]
  },
  {
   "cell_type": "code",
   "execution_count": null,
   "id": "b4451858",
   "metadata": {},
   "outputs": [],
   "source": [
    "models_dir = 'models/test'\n",
    "trainer = VAETrainer(models_dir, model=vae)"
   ]
  },
  {
   "cell_type": "markdown",
   "id": "f5129b87",
   "metadata": {},
   "source": [
    "Compute TS losses and accuracies:"
   ]
  },
  {
   "cell_type": "code",
   "execution_count": null,
   "id": "ee23797c",
   "metadata": {
    "scrolled": true
   },
   "outputs": [],
   "source": [
    "losses, accuracies = trainer.evaluate(testloader)"
   ]
  },
  {
   "cell_type": "markdown",
   "id": "86124094",
   "metadata": {},
   "source": [
    "### Reconstruction"
   ]
  },
  {
   "cell_type": "code",
   "execution_count": null,
   "id": "d2051056",
   "metadata": {},
   "outputs": [],
   "source": [
    "x_graph = trainloader[0]\n",
    "x_graph = x_graph.to(device)\n",
    "x_seq, x_acts, src_mask = x_graph.x_seq, x_graph.x_acts, x_graph.src_mask\n",
    "tgt_mask = generate_square_subsequent_mask(x_seq.size(-2)-1).to(device)\n",
    "\n",
    "# Forward pass, get the reconstructions\n",
    "with torch.cuda.amp.autocast():\n",
    "    outputs, mu, log_var = vae(x_seq, x_acts, x_graph, src_mask, tgt_mask)\n",
    "\n",
    "structure, content = outputs"
   ]
  },
  {
   "cell_type": "markdown",
   "id": "8e68a7ed",
   "metadata": {},
   "source": [
    "### Generation\n",
    "1. sample z from normal (in batch)\n",
    "2. create dense structure\n",
    "3. sample structure\n",
    "4. create graph\n",
    "5. generate content\n",
    "6. put structure and content together and create muspy music"
   ]
  },
  {
   "cell_type": "code",
   "execution_count": 12,
   "id": "075031e9",
   "metadata": {},
   "outputs": [],
   "source": [
    "from torch_geometric.data import Batch\n",
    "from utils import midi_from_muspy\n",
    "\n",
    "def generate_music(vae, z):\n",
    "    \n",
    "    # Get structure and sample\n",
    "    s = vae.decoder.forward_struct(z)\n",
    "    s = torch.sigmoid(s)\n",
    "    s[s > 0.5] = 1\n",
    "    s[s <= 0.5] = 0\n",
    "    #s = torch.bernoulli(s)\n",
    "\n",
    "    s = s.detach().cpu().numpy()\n",
    "    \n",
    "    graphs = [0 for i in range(params['training']['batch_size'])]\n",
    "\n",
    "    # Create graph structures for each input in the batch\n",
    "    for i in range(s.shape[0]):\n",
    "        graphs[i] = graph_from_tensor(s[i])\n",
    "\n",
    "    # Create batch from graphs\n",
    "    graphs = Batch.from_data_list(graphs, exclude_keys=['batch'])\n",
    "    graphs = graphs.to(device)\n",
    "    \n",
    "    # Get content from z and structure\n",
    "    with torch.cuda.amp.autocast():\n",
    "        c = vae.decoder.forward_content(z, graphs)\n",
    "\n",
    "    c = c.detach().cpu().numpy()\n",
    "    \n",
    "    # Compute dense representation (pianoroll with silences)\n",
    "    dense = dense_from_sparse(c, s)\n",
    "    \n",
    "    # Collapse bars dimension\n",
    "    dense = np.transpose(dense, (0, 2, 1, 3, 4, 5))\n",
    "\n",
    "    size = (\n",
    "        dense.shape[0],\n",
    "        dense.shape[1],\n",
    "        -1,\n",
    "        dense.shape[4],\n",
    "        dense.shape[5]\n",
    "    )\n",
    "\n",
    "    dense = dense.reshape(size)\n",
    "    \n",
    "    return dense"
   ]
  },
  {
   "cell_type": "code",
   "execution_count": 8,
   "id": "8106380b",
   "metadata": {},
   "outputs": [],
   "source": [
    "z = torch.normal(torch.zeros((params['training']['batch_size'], params['model']['d']),\n",
    "                             device=device),\n",
    "                 torch.ones((params['training']['batch_size'], params['model']['d']),\n",
    "                            device=device))"
   ]
  },
  {
   "cell_type": "markdown",
   "id": "58085803",
   "metadata": {},
   "source": [
    "Compute structure:"
   ]
  },
  {
   "cell_type": "code",
   "execution_count": null,
   "id": "9e94eb40",
   "metadata": {
    "scrolled": true
   },
   "outputs": [],
   "source": [
    "# Get structure and sample\n",
    "s = vae.decoder.forward_struct(z)\n",
    "s = torch.sigmoid(s)\n",
    "#s[s > 0.5] = 1\n",
    "#s[s <= 0.5] = 0\n",
    "s = torch.bernoulli(s)\n",
    "# [bs x bars x tracks x ts]\n",
    "\n",
    "s = s.detach().cpu().numpy()"
   ]
  },
  {
   "cell_type": "markdown",
   "id": "93520e6b",
   "metadata": {},
   "source": [
    "Plot a bar:"
   ]
  },
  {
   "cell_type": "code",
   "execution_count": null,
   "id": "e5174355",
   "metadata": {
    "scrolled": false
   },
   "outputs": [],
   "source": [
    "plot_struct(s[1][0])"
   ]
  },
  {
   "cell_type": "markdown",
   "id": "26546763",
   "metadata": {},
   "source": [
    "Check for empty bars:"
   ]
  },
  {
   "cell_type": "code",
   "execution_count": null,
   "id": "43c084ba",
   "metadata": {},
   "outputs": [],
   "source": [
    "for i in range(s.shape[0]):\n",
    "    for j in range(s.shape[1]):\n",
    "        if not np.any(s[i][j]):\n",
    "            print(\"Empty\")"
   ]
  },
  {
   "cell_type": "markdown",
   "id": "085884e0",
   "metadata": {},
   "source": [
    "From tensor to graph:"
   ]
  },
  {
   "cell_type": "code",
   "execution_count": null,
   "id": "edf3d9b6",
   "metadata": {},
   "outputs": [],
   "source": [
    "from torch_geometric.data import Batch\n",
    "\n",
    "graphs = [0 for i in range(params['training']['batch_size'])]\n",
    "\n",
    "# Create graph structures for each input in the batch\n",
    "for i in range(s.shape[0]):\n",
    "    graphs[i] = graph_from_tensor(s[i])\n",
    "\n",
    "# Create batch from graphs\n",
    "graphs = Batch.from_data_list(graphs, exclude_keys=['batch'])\n",
    "graphs = graphs.to(device)"
   ]
  },
  {
   "cell_type": "markdown",
   "id": "c34acd2c",
   "metadata": {},
   "source": [
    "Get content:"
   ]
  },
  {
   "cell_type": "code",
   "execution_count": null,
   "id": "0fce63ab",
   "metadata": {},
   "outputs": [],
   "source": [
    "# Get content from z and structure\n",
    "with torch.cuda.amp.autocast():\n",
    "    c = vae.decoder.forward_content(z, graphs)\n",
    "    \n",
    "c = c.detach().cpu().numpy()"
   ]
  },
  {
   "cell_type": "code",
   "execution_count": null,
   "id": "9df052b5",
   "metadata": {},
   "outputs": [],
   "source": [
    "dense = dense_from_sparse(c, s)"
   ]
  },
  {
   "cell_type": "code",
   "execution_count": null,
   "id": "e8344e2e",
   "metadata": {},
   "outputs": [],
   "source": [
    "# Collapse bars dimension\n",
    "dense = np.transpose(dense, (0, 2, 1, 3, 4, 5))\n",
    "\n",
    "size = (\n",
    "    dense.shape[0],\n",
    "    dense.shape[1],\n",
    "    -1,\n",
    "    dense.shape[4],\n",
    "    dense.shape[5]\n",
    ")\n",
    "\n",
    "dense = dense.reshape(size)"
   ]
  },
  {
   "cell_type": "code",
   "execution_count": null,
   "id": "9bc1d822",
   "metadata": {},
   "outputs": [],
   "source": [
    "dense.shape"
   ]
  },
  {
   "cell_type": "code",
   "execution_count": null,
   "id": "eb236e05",
   "metadata": {},
   "outputs": [],
   "source": [
    "track_data = [('Drums', -1), ('Bass', 34), ('Guitar', 1), ('Strings', 41)]\n",
    "\n",
    "# 2\n",
    "# 22\n",
    "music = muspy_from_dense(dense[22], track_data, params['model']['resolution'])"
   ]
  },
  {
   "cell_type": "code",
   "execution_count": null,
   "id": "0ab2df01",
   "metadata": {
    "scrolled": true
   },
   "outputs": [],
   "source": [
    "from utils import plot_pianoroll\n",
    "plot_pianoroll(music)"
   ]
  },
  {
   "cell_type": "code",
   "execution_count": null,
   "id": "eedb1afc",
   "metadata": {},
   "outputs": [],
   "source": [
    "from utils import midi_from_muspy\n",
    "\n",
    "save_dir = \"data/music/\"\n",
    "midi_from_muspy(music, save_dir, name='music')"
   ]
  },
  {
   "cell_type": "code",
   "execution_count": 41,
   "id": "8f23165e",
   "metadata": {},
   "outputs": [],
   "source": [
    "from matplotlib import pyplot as plt\n",
    "import muspy\n",
    "def plot_pianoroll(music, save_dir=None, name=None):\n",
    "\n",
    "    fig, axs_ = plt.subplots(4, sharex=True, figsize=(20,10))\n",
    "    fig.subplots_adjust(hspace=0)\n",
    "    axs = axs_.tolist()\n",
    "    muspy.show_pianoroll(music=music, yticklabel='off', grid_axis='off', axs=axs)\n",
    "    \n",
    "    if save_dir:\n",
    "        plt.savefig(os.path.join(save_dir, name+\".png\"), dpi=200)"
   ]
  },
  {
   "cell_type": "code",
   "execution_count": 42,
   "id": "48360e0d",
   "metadata": {},
   "outputs": [
    {
     "data": {
      "image/png": "[encoded data removed]",
      "text/plain": [
       "<Figure size 1440x720 with 4 Axes>"
      ]
     },
     "metadata": {
      "image/png": {
       "height": 586,
       "width": 1165
      },
      "needs_background": "light"
     },
     "output_type": "display_data"
    }
   ],
   "source": [
    "#from utils import plot_pianoroll\n",
    "\n",
    "z_gen = z[31].repeat(params['training']['batch_size'], 1)\n",
    "\n",
    "track_data = [('Drums', -1), ('Bass', 34), ('Guitar', 1), ('Strings', 41)]\n",
    "save_dir = \"data/music/\"\n",
    "\n",
    "music = generate_music(vae, z_gen)\n",
    "music = muspy_from_dense(music[0], track_data, params['model']['resolution'])\n",
    "plot_pianoroll(music, save_dir, name='music')\n",
    "midi_from_muspy(music, save_dir, name='music')"
   ]
  },
  {
   "cell_type": "markdown",
   "id": "85a1feba",
   "metadata": {},
   "source": [
    "## Interpolation"
   ]
  },
  {
   "cell_type": "code",
   "execution_count": null,
   "id": "5966d20e",
   "metadata": {},
   "outputs": [],
   "source": [
    "def generate_music(vae, z):\n",
    "    \n",
    "    # Get structure and sample\n",
    "    s = vae.decoder.forward_struct(z)\n",
    "    s = torch.sigmoid(s)\n",
    "    s[s > 0.5] = 1\n",
    "    s[s <= 0.5] = 0\n",
    "    #s = torch.bernoulli(s)\n",
    "\n",
    "    s = s.detach().cpu().numpy()\n",
    "    \n",
    "    graphs = [0 for i in range(params['training']['batch_size'])]\n",
    "\n",
    "    # Create graph structures for each input in the batch\n",
    "    for i in range(s.shape[0]):\n",
    "        graphs[i] = graph_from_tensor(s[i])\n",
    "\n",
    "    # Create batch from graphs\n",
    "    graphs = Batch.from_data_list(graphs, exclude_keys=['batch'])\n",
    "    graphs = graphs.to(device)\n",
    "    \n",
    "    # Get content from z and structure\n",
    "    with torch.cuda.amp.autocast():\n",
    "        c = vae.decoder.forward_content(z, graphs)\n",
    "\n",
    "    c = c.detach().cpu().numpy()\n",
    "    \n",
    "    # Compute dense representation (pianoroll with silences)\n",
    "    dense = dense_from_sparse(c, s)\n",
    "    \n",
    "    # Collapse bars dimension\n",
    "    dense = np.transpose(dense, (0, 2, 1, 3, 4, 5))\n",
    "\n",
    "    size = (\n",
    "        dense.shape[0],\n",
    "        dense.shape[1],\n",
    "        -1,\n",
    "        dense.shape[4],\n",
    "        dense.shape[5]\n",
    "    )\n",
    "\n",
    "    dense = dense.reshape(size)\n",
    "    \n",
    "    return dense"
   ]
  },
  {
   "cell_type": "code",
   "execution_count": null,
   "id": "43b86d4c",
   "metadata": {},
   "outputs": [],
   "source": [
    "z_start = z[2].repeat(params['training']['batch_size'], 1)\n",
    "z_end = z[30].repeat(params['training']['batch_size'], 1)\n",
    "# Encode 1 in z1\n",
    "# Encode 2 in z2\n",
    "\n",
    "# Linear interpolation between z1 z2\n",
    "# For each point, produce decoding"
   ]
  },
  {
   "cell_type": "code",
   "execution_count": null,
   "id": "d492aa4d",
   "metadata": {
    "scrolled": true
   },
   "outputs": [],
   "source": [
    "n_interp = 8\n",
    "\n",
    "track_data = [('Drums', -1), ('Bass', 34), ('Guitar', 1), ('Strings', 41)]\n",
    "save_dir = \"data/music/interpolations\"\n",
    "\n",
    "for i, a in enumerate(np.linspace(0.0 , 1.0, n_interp, endpoint=True)):\n",
    "    \n",
    "    print(\"Generating piece \" + str(i) + \" out of \" + str(n_interp) + \"...\")\n",
    "    \n",
    "    z_curr = z_start + a*(z_end - z_start)\n",
    "    \n",
    "    music = generate_music(vae, z_curr)\n",
    "    music = muspy_from_dense(music[0], track_data, params['model']['resolution'])\n",
    "    midi_from_muspy(music, save_dir, name='z'+str(i))\n",
    "\n",
    "print(\"Finished.\")"
   ]
  },
  {
   "cell_type": "code",
   "execution_count": null,
   "id": "3aa54425",
   "metadata": {},
   "outputs": [],
   "source": []
  },
  {
   "cell_type": "code",
   "execution_count": null,
   "id": "69d272b0",
   "metadata": {},
   "outputs": [],
   "source": [
    "music = muspy_from_dense(music[0], track_data, params['model']['resolution'])\n",
    "\n",
    "save_dir = \"data/music/interpolations\"\n",
    "midi_from_muspy(music, save_dir, name='z1')"
   ]
  }
 ],
 "metadata": {
  "kernelspec": {
   "display_name": "Python 3 (ipykernel)",
   "language": "python",
   "name": "python3"
  },
  "language_info": {
   "codemirror_mode": {
    "name": "ipython",
    "version": 3
   },
   "file_extension": ".py",
   "mimetype": "text/x-python",
   "name": "python",
   "nbconvert_exporter": "python",
   "pygments_lexer": "ipython3",
   "version": "3.7.11"
  }
 },
 "nbformat": 4,
 "nbformat_minor": 5
}
