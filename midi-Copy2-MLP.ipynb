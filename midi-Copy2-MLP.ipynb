{
 "cells": [
  {
   "cell_type": "markdown",
   "metadata": {
    "colab_type": "text",
    "id": "view-in-github"
   },
   "source": [
    "<a href=\"https://colab.research.google.com/github/EmanueleCosenza/Polyphemus/blob/main/midi.ipynb\" target=\"_parent\"><img src=\"https://colab.research.google.com/assets/colab-badge.svg\" alt=\"Open In Colab\"/></a>"
   ]
  },
  {
   "cell_type": "code",
   "execution_count": null,
   "metadata": {
    "id": "50lpUn9bO0ug"
   },
   "outputs": [],
   "source": [
    "!pwd"
   ]
  },
  {
   "cell_type": "code",
   "execution_count": null,
   "metadata": {},
   "outputs": [],
   "source": [
    "!git branch"
   ]
  },
  {
   "cell_type": "markdown",
   "metadata": {},
   "source": [
    "Libraries installation"
   ]
  },
  {
   "cell_type": "code",
   "execution_count": null,
   "metadata": {},
   "outputs": [],
   "source": [
    "#!tar -C data -xvzf data/lmd_matched.tar.gz"
   ]
  },
  {
   "cell_type": "code",
   "execution_count": null,
   "metadata": {
    "colab": {
     "base_uri": "https://localhost:8080/"
    },
    "id": "She0QbN5Kopo",
    "outputId": "0f3fb4c7-bd7d-4ee4-b2cd-d567d8e490db"
   },
   "outputs": [],
   "source": [
    "# Install the required music libraries\n",
    "#!pip3 install muspy\n",
    "#!pip3 install pypianoroll"
   ]
  },
  {
   "cell_type": "code",
   "execution_count": null,
   "metadata": {
    "colab": {
     "base_uri": "https://localhost:8080/"
    },
    "id": "3uveQkY7O0CF",
    "outputId": "12e1f638-ee78-4617-844a-10e9a26c298e"
   },
   "outputs": [],
   "source": [
    "# Install torch_geometric\n",
    "#!v=$(python3 -c \"import torch; print(torch.__version__)\"); \\\n",
    "#pip3 install torch-scatter -f https://data.pyg.org/whl/torch-${v}.html; \\\n",
    "#pip3 install torch-sparse -f https://data.pyg.org/whl/torch-${v}.html; \\\n",
    "#pip3 install torch-geometric"
   ]
  },
  {
   "cell_type": "markdown",
   "metadata": {},
   "source": [
    "Reproducibility"
   ]
  },
  {
   "cell_type": "code",
   "execution_count": null,
   "metadata": {},
   "outputs": [],
   "source": [
    "import numpy as np\n",
    "import torch\n",
    "import random\n",
    "import os\n",
    "\n",
    "def set_seed(seed):\n",
    "    torch.manual_seed(seed)\n",
    "    torch.cuda.manual_seed_all(seed)\n",
    "    torch.backends.cudnn.deterministic = True\n",
    "    torch.backends.cudnn.benchmark = False\n",
    "    np.random.seed(seed)\n",
    "    random.seed(seed)\n",
    "    os.environ['PYTHONHASHSEED'] = str(seed)\n",
    "\n",
    "seed = 42\n",
    "set_seed(seed)"
   ]
  },
  {
   "cell_type": "code",
   "execution_count": null,
   "metadata": {
    "id": "B45l1513wJ1Q"
   },
   "outputs": [],
   "source": [
    "import os\n",
    "import muspy\n",
    "from itertools import product\n",
    "import pypianoroll as pproll\n",
    "import time\n",
    "from tqdm.auto import tqdm\n",
    "\n",
    "\n",
    "class MIDIPreprocessor():\n",
    "    \n",
    "    def __init__():\n",
    "        pass\n",
    "\n",
    "    def preprocess_dataset(self, dir, early_exit=None):\n",
    "        pass\n",
    "    \n",
    "    def preprocess_file(self, f):\n",
    "        pass\n",
    "\n",
    "\n",
    "# Todo: to config file (or separate files)\n",
    "MAX_SIMU_NOTES = 16 # 14 + SOS and EOS\n",
    "\n",
    "PITCH_SOS = 128\n",
    "PITCH_EOS = 129\n",
    "PITCH_PAD = 130\n",
    "DUR_SOS = 96\n",
    "DUR_EOS = 97\n",
    "DUR_PAD = 98\n",
    "\n",
    "MAX_DUR = 96\n",
    "\n",
    "# Number of time steps per quarter note\n",
    "# To get bar resolution -> RESOLUTION*4\n",
    "RESOLUTION = 8 \n",
    "NUM_BARS = 1\n",
    "\n",
    "\n",
    "def preprocess_file(filepath, dest_dir, num_samples):\n",
    "\n",
    "    saved_samples = 0\n",
    "\n",
    "    print(\"Preprocessing file \" + filepath)\n",
    "\n",
    "    # Load the file both as a pypianoroll song and a muspy song\n",
    "    # (Need to load both since muspy.to_pypianoroll() is expensive)\n",
    "    try:\n",
    "        pproll_song = pproll.read(filepath, resolution=RESOLUTION)\n",
    "        muspy_song = muspy.read(filepath)\n",
    "    except Exception as e:\n",
    "        print(\"Song skipped (Invalid song format)\")\n",
    "        return 0\n",
    "    \n",
    "    # Only accept songs that have a time signature of 4/4 and no time changes\n",
    "    for t in muspy_song.time_signatures:\n",
    "        if t.numerator != 4 or t.denominator != 4:\n",
    "            print(\"Song skipped ({}/{} time signature)\".\n",
    "                            format(t.numerator, t.denominator))\n",
    "            return 0\n",
    "\n",
    "    # Gather tracks of pypianoroll song based on MIDI program number\n",
    "    drum_tracks = []\n",
    "    bass_tracks = []\n",
    "    guitar_tracks = []\n",
    "    strings_tracks = []\n",
    "\n",
    "    for track in pproll_song.tracks:\n",
    "        if track.is_drum:\n",
    "            #continue\n",
    "            track.name = 'Drums'\n",
    "            drum_tracks.append(track)\n",
    "        elif 0 <= track.program <= 31:\n",
    "            track.name = 'Guitar'\n",
    "            guitar_tracks.append(track)\n",
    "        elif 32 <= track.program <= 39:\n",
    "            track.name = 'Bass'\n",
    "            bass_tracks.append(track)\n",
    "        else:\n",
    "            # Tracks with program > 39 are all considered as strings tracks\n",
    "            # and will be merged into a single track later on\n",
    "            strings_tracks.append(track)\n",
    "\n",
    "    # Filter song if it does not contain drum, guitar, bass or strings tracks\n",
    "    #if not guitar_tracks \\\n",
    "    if not drum_tracks or not guitar_tracks \\\n",
    "            or not bass_tracks or not strings_tracks:\n",
    "        print(\"Song skipped (does not contain drum or \"\n",
    "                \"guitar or bass or strings tracks)\")\n",
    "        return 0\n",
    "    \n",
    "    # Merge strings tracks into a single pypianoroll track\n",
    "    strings = pproll.Multitrack(tracks=strings_tracks)\n",
    "    strings_track = pproll.Track(pianoroll=strings.blend(mode='max'),\n",
    "                                 program=48, name='Strings')\n",
    "\n",
    "    combinations = list(product(drum_tracks, bass_tracks, guitar_tracks))\n",
    "    #combinations = list(product(bass_tracks, guitar_tracks))\n",
    "\n",
    "    # Single instruments can have multiple tracks.\n",
    "    # Consider all possible combinations of drum, bass, and guitar tracks\n",
    "    for i, combination in enumerate(combinations):\n",
    "\n",
    "        print(\"Processing combination\", i+1, \"of\", len(combinations))\n",
    "        \n",
    "        # Process combination (called 'subsong' from now on)\n",
    "        drum_track, bass_track, guitar_track = combination\n",
    "        tracks = [drum_track, bass_track, guitar_track, strings_track]\n",
    "        #bass_track, guitar_track = combination\n",
    "        #tracks = [bass_track, guitar_track, strings_track]\n",
    "        \n",
    "        pproll_subsong = pproll.Multitrack(\n",
    "            tracks=tracks,\n",
    "            tempo=pproll_song.tempo,\n",
    "            resolution=RESOLUTION\n",
    "        )\n",
    "        muspy_subsong = muspy.from_pypianoroll(pproll_subsong)\n",
    "        \n",
    "        tracks_notes = [track.notes for track in muspy_subsong.tracks]\n",
    "        \n",
    "        # Obtain length of subsong (maximum of each track's length)\n",
    "        length = 0\n",
    "        for notes in tracks_notes:\n",
    "            track_length = max(note.end for note in notes) if notes else 0\n",
    "            length = max(length, track_length)\n",
    "        length += 1\n",
    "\n",
    "        # Add timesteps until length is a multiple of RESOLUTION\n",
    "        length = length if length%(RESOLUTION*4) == 0 \\\n",
    "                            else length + (RESOLUTION*4-(length%(RESOLUTION*4)))\n",
    "\n",
    "\n",
    "        tracks_tensors = []\n",
    "        tracks_activations = []\n",
    "\n",
    "        # Todo: adapt to velocity\n",
    "        for notes in tracks_notes:\n",
    "\n",
    "            # Initialize encoder-ready track tensor\n",
    "            # track_tensor: (length x max_simu_notes x 2 (or 3 if velocity))\n",
    "            # The last dimension contains pitches and durations (and velocities)\n",
    "            # int16 is enough for small to medium duration values\n",
    "            track_tensor = np.zeros((length, MAX_SIMU_NOTES, 2), np.int16)\n",
    "\n",
    "            track_tensor[:, :, 0] = PITCH_PAD\n",
    "            track_tensor[:, 0, 0] = PITCH_SOS\n",
    "            track_tensor[:, :, 1] = DUR_PAD\n",
    "            track_tensor[:, 0, 1] = DUR_SOS\n",
    "\n",
    "            # Keeps track of how many notes have been stored in each timestep\n",
    "            # (int8 imposes that MAX_SIMU_NOTES < 256)\n",
    "            notes_counter = np.ones(length, dtype=np.int8)\n",
    "\n",
    "            # Todo: np.put_along_axis?\n",
    "            for note in notes:\n",
    "                # Insert note in the lowest position available in the timestep\n",
    "                \n",
    "                t = note.time\n",
    "                \n",
    "                if notes_counter[t] >= MAX_SIMU_NOTES-1:\n",
    "                    # Skip note if there is no more space\n",
    "                    continue\n",
    "                \n",
    "                track_tensor[t, notes_counter[t], 0] = note.pitch\n",
    "                dur = min(MAX_DUR, note.duration)\n",
    "                track_tensor[t, notes_counter[t], 1] = dur-1\n",
    "                notes_counter[t] += 1\n",
    "            \n",
    "            # Add end of sequence token\n",
    "            track_tensor[np.arange(0, length), notes_counter, 0] = PITCH_EOS\n",
    "            track_tensor[np.arange(0, length), notes_counter, 1] = DUR_EOS\n",
    "            \n",
    "            # Get track activations, a boolean tensor indicating whether notes\n",
    "            # are being played in a timestep (sustain does not count)\n",
    "            # (needed for graph rep.)\n",
    "            activations = np.array(notes_counter-1, dtype=bool)\n",
    "            \n",
    "            tracks_tensors.append(track_tensor)\n",
    "            tracks_activations.append(activations)\n",
    "        \n",
    "        # (#tracks x length x max_simu_notes x 2 (or 3))\n",
    "        subsong_tensor = np.stack(tracks_tensors, axis=0)\n",
    "\n",
    "        # (#tracks x length)\n",
    "        subsong_activations = np.stack(tracks_activations, axis=0)\n",
    "\n",
    "\n",
    "        # Slide window over 'subsong_tensor' and 'subsong_activations' along the\n",
    "        # time axis (2nd dimension) with the stride of a bar\n",
    "        # Todo: np.lib.stride_tricks.as_strided(song_proll)\n",
    "        for i in range(0, length-NUM_BARS*RESOLUTION*4+1, RESOLUTION*4):\n",
    "            \n",
    "            # Get the sequence and its activations\n",
    "            seq_tensor = subsong_tensor[:, i:i+NUM_BARS*RESOLUTION*4, :]\n",
    "            seq_acts = subsong_activations[:, i:i+NUM_BARS*RESOLUTION*4]\n",
    "            seq_tensor = np.copy(seq_tensor)\n",
    "            seq_acts = np.copy(seq_acts)\n",
    "\n",
    "            if NUM_BARS > 1:\n",
    "                # Skip sequence if it contains more than one bar of consecutive\n",
    "                # silence in at least one track\n",
    "                bars = seq_acts.reshape(seq_acts.shape[0], NUM_BARS, -1)\n",
    "                bars_acts = np.any(bars, axis=2)\n",
    "\n",
    "                if 1 in np.diff(np.where(bars_acts == 0)[1]):\n",
    "                    continue\n",
    "            else:\n",
    "                # In the case of just 1 bar, skip it if all tracks are silenced\n",
    "                bar_acts = np.any(seq_acts, axis=1)\n",
    "                if not np.any(bar_acts):\n",
    "                    continue\n",
    "            \n",
    "            # Randomly transpose the pitches of the sequence (-5 to 6 semitones)\n",
    "            # Not considering pad, sos, eos tokens\n",
    "            # Not transposing drums/percussions\n",
    "            shift = np.random.choice(np.arange(-5, 7), 1)\n",
    "            cond = (seq_tensor[1:, :, :, 0] != PITCH_PAD) &                     \\\n",
    "                   (seq_tensor[1:, :, :, 0] != PITCH_SOS) &                     \\\n",
    "                   (seq_tensor[1:, :, :, 0] != PITCH_EOS)\n",
    "            #cond = (seq_tensor[:, :, :, 0] != PITCH_PAD) &                     \\\n",
    "            #       (seq_tensor[:, :, :, 0] != PITCH_SOS) &                     \\\n",
    "            #       (seq_tensor[:, :, :, 0] != PITCH_EOS)\n",
    "            non_perc = seq_tensor[1:, ...]\n",
    "            #non_perc = seq_tensor\n",
    "            non_perc[cond, 0] += shift\n",
    "\n",
    "            # Save sample (seq_tensor and seq_acts) to file\n",
    "            curr_sample = str(num_samples + saved_samples)\n",
    "            sample_filepath = os.path.join(dest_dir, curr_sample)\n",
    "            np.savez(sample_filepath, seq_tensor=seq_tensor, seq_acts=seq_acts)\n",
    "\n",
    "            saved_samples += 1\n",
    "\n",
    "\n",
    "    print(\"File preprocessing finished. Saved samples:\", saved_samples)\n",
    "    print()\n",
    "\n",
    "    return saved_samples\n",
    "\n",
    "\n",
    "\n",
    "# Total number of files: 116189\n",
    "# Number of unique files: 45129\n",
    "def preprocess_dataset(dataset_dir, dest_dir, num_files=45129, early_exit=None):\n",
    "\n",
    "    files_dict = {}\n",
    "    seen = 0\n",
    "    tot_samples = 0\n",
    "    not_filtered = 0\n",
    "    finished = False\n",
    "    \n",
    "    print(\"Starting preprocessing\")\n",
    "    \n",
    "    progress_bar = tqdm(range(early_exit)) if early_exit is not None else tqdm(range(num_files))\n",
    "    start = time.time()\n",
    "\n",
    "    # Visit recursively the directories inside the dataset directory\n",
    "    for dirpath, dirs, files in os.walk(dataset_dir):\n",
    "\n",
    "        # Sort alphabetically the found directories\n",
    "        # (to help guess the remaining time) \n",
    "        dirs.sort()\n",
    "        \n",
    "        print(\"Current path:\", dirpath)\n",
    "        print()\n",
    "\n",
    "        for f in files:\n",
    "            \n",
    "            seen += 1\n",
    "\n",
    "            if f in files_dict:\n",
    "                # Skip already seen file\n",
    "                files_dict[f] += 1\n",
    "                continue\n",
    "\n",
    "            # File never seen before, add to dictionary of files\n",
    "            # (from filename to # of occurrences)\n",
    "            files_dict[f] = 1\n",
    "\n",
    "            # Preprocess file\n",
    "            filepath = os.path.join(dirpath, f)\n",
    "            n_saved = preprocess_file(filepath, dest_dir, tot_samples)\n",
    "\n",
    "            tot_samples += n_saved\n",
    "            if n_saved > 0:\n",
    "                not_filtered += 1\n",
    "            \n",
    "            progress_bar.update(1)\n",
    "            \n",
    "            # Todo: also print # of processed (not filtered) files\n",
    "            #       and # of produced sequences (samples)\n",
    "            print(\"Total number of seen files:\", seen)\n",
    "            print(\"Number of unique files:\", len(files_dict))\n",
    "            print(\"Total number of non filtered songs:\", not_filtered)\n",
    "            print(\"Total number of saved samples:\", tot_samples)\n",
    "            print()\n",
    "\n",
    "            # Exit when a maximum number of files has been processed (if set)\n",
    "            if early_exit != None and len(files_dict) >= early_exit:\n",
    "                finished = True\n",
    "                break\n",
    "\n",
    "        if finished:\n",
    "            break\n",
    "    \n",
    "    end = time.time()\n",
    "    hours, rem = divmod(end-start, 3600)\n",
    "    minutes, seconds = divmod(rem, 60)\n",
    "    print(\"Preprocessing completed in (h:m:s): {:0>2}:{:0>2}:{:05.2f}\"\n",
    "              .format(int(hours),int(minutes),seconds))\n"
   ]
  },
  {
   "cell_type": "code",
   "execution_count": null,
   "metadata": {
    "id": "aYc5y-CYyetK"
   },
   "outputs": [],
   "source": [
    "#!rm -rf data/preprocessed/\n",
    "#!mkdir data/preprocessed"
   ]
  },
  {
   "cell_type": "code",
   "execution_count": null,
   "metadata": {
    "colab": {
     "base_uri": "https://localhost:8080/"
    },
    "id": "xqnubg3oP4ES",
    "outputId": "40cc38a2-1f7d-4f6f-e6c9-9e14dfc7f683"
   },
   "outputs": [],
   "source": [
    "dataset_dir = 'data/lmd_matched/Y/G/'\n",
    "dest_dir = 'data/preprocessed'"
   ]
  },
  {
   "cell_type": "markdown",
   "metadata": {
    "id": "RG88mekfrrcp"
   },
   "source": [
    "Check preprocessed data:"
   ]
  },
  {
   "cell_type": "code",
   "execution_count": null,
   "metadata": {},
   "outputs": [],
   "source": [
    "#preprocess_dataset(dataset_dir, dest_dir, early_exit=50)"
   ]
  },
  {
   "cell_type": "code",
   "execution_count": null,
   "metadata": {
    "id": "JlP6iUNugNtP"
   },
   "outputs": [],
   "source": [
    "filepath = os.path.join(dest_dir, \"5.npz\")\n",
    "data = np.load(filepath)"
   ]
  },
  {
   "cell_type": "code",
   "execution_count": null,
   "metadata": {
    "colab": {
     "base_uri": "https://localhost:8080/"
    },
    "id": "3VUpOEObhwYQ",
    "outputId": "aac6e029-93b1-485f-f13a-2a00abedbc7a"
   },
   "outputs": [],
   "source": [
    "print(data[\"seq_tensor\"].shape)\n",
    "print(data[\"seq_acts\"].shape)"
   ]
  },
  {
   "cell_type": "code",
   "execution_count": null,
   "metadata": {
    "colab": {
     "base_uri": "https://localhost:8080/"
    },
    "id": "A6NA5IAAmtK8",
    "outputId": "6e661b3a-05a1-4e2d-9a3d-e1c037b4d04f"
   },
   "outputs": [],
   "source": [
    "data[\"seq_tensor\"][0, 1]"
   ]
  },
  {
   "cell_type": "markdown",
   "metadata": {
    "id": "C19X9m-3iMlm"
   },
   "source": [
    "# Model"
   ]
  },
  {
   "cell_type": "code",
   "execution_count": null,
   "metadata": {
    "id": "zymqD-UqR8wq"
   },
   "outputs": [],
   "source": [
    "import torch\n",
    "from torch.utils.data import Dataset\n",
    "from torch.utils.data import DataLoader\n",
    "from torch_geometric.loader import DataLoader\n",
    "from torch_geometric.data import Dataset\n",
    "from torch_geometric.data import Data\n",
    "import itertools\n",
    "\n",
    "\n",
    "def unpackbits(x, num_bits):\n",
    "\n",
    "    if np.issubdtype(x.dtype, np.floating):\n",
    "        raise ValueError(\"numpy data type needs to be int-like\")\n",
    "\n",
    "    xshape = list(x.shape)\n",
    "    x = x.reshape([-1, 1])\n",
    "    mask = 2**np.arange(num_bits, dtype=x.dtype).reshape([1, num_bits])\n",
    "\n",
    "    return (x & mask).astype(bool).astype(int).reshape(xshape + [num_bits])\n",
    "\n",
    "\n",
    "class MIDIDataset(Dataset):\n",
    "\n",
    "    def __init__(self, dir):\n",
    "        self.dir = dir\n",
    "\n",
    "    def __len__(self):\n",
    "        _, _, files = next(os.walk(self.dir))\n",
    "        return len(files)\n",
    "\n",
    "    \n",
    "    def __get_track_edges(self, acts, edge_type_ind=0):\n",
    "\n",
    "        a_t = acts.transpose()\n",
    "        inds = np.stack(np.where(a_t == 1)).transpose()\n",
    "        \n",
    "        # Create node labels\n",
    "        labels = np.zeros(acts.shape)\n",
    "        acts_inds = np.where(acts == 1)\n",
    "        num_nodes = len(acts_inds[0])\n",
    "        labels[acts_inds] = np.arange(num_nodes)\n",
    "        labels = labels.transpose()\n",
    "\n",
    "        track_edges = []\n",
    "\n",
    "        for track in range(a_t.shape[1]):\n",
    "            tr_inds = list(inds[inds[:,1] == track])\n",
    "            e_inds = [(tr_inds[i],\n",
    "                    tr_inds[i+1]) for i in range(len(tr_inds)-1)]\n",
    "            edges = [(labels[tuple(e[0])], labels[tuple(e[1])], edge_type_ind, e[1][0]-e[0][0]) for e in e_inds]\n",
    "            track_edges.extend(edges)\n",
    "\n",
    "        return np.array(track_edges, dtype='long')\n",
    "\n",
    "    \n",
    "    def __get_onset_edges(self, acts, edge_type_ind=1):\n",
    "\n",
    "        a_t = acts.transpose()\n",
    "        inds = np.stack(np.where(a_t == 1)).transpose()\n",
    "        ts_acts = np.any(a_t, axis=1)\n",
    "        ts_inds = np.where(ts_acts)[0]\n",
    "\n",
    "        # Create node labels\n",
    "        labels = np.zeros(acts.shape)\n",
    "        acts_inds = np.where(acts == 1)\n",
    "        num_nodes = len(acts_inds[0])\n",
    "        labels[acts_inds] = np.arange(num_nodes)\n",
    "        labels = labels.transpose()\n",
    "\n",
    "        onset_edges = []\n",
    "\n",
    "        for i in ts_inds:\n",
    "            ts_acts_inds = list(inds[inds[:,0] == i])\n",
    "            if len(ts_acts_inds) < 2:\n",
    "                continue\n",
    "            e_inds = list(itertools.combinations(ts_acts_inds, 2))\n",
    "            edges = [(labels[tuple(e[0])], labels[tuple(e[1])], edge_type_ind, 0) for e in e_inds]\n",
    "            inv_edges = [(e[1], e[0], *e[2:]) for e in edges]\n",
    "            onset_edges.extend(edges)\n",
    "            onset_edges.extend(inv_edges)\n",
    "\n",
    "        return np.array(onset_edges, dtype='long')\n",
    "\n",
    "\n",
    "    def __get_next_edges(self, acts, edge_type_ind=2):\n",
    "\n",
    "        a_t = acts.transpose()\n",
    "        inds = np.stack(np.where(a_t == 1)).transpose()\n",
    "        ts_acts = np.any(a_t, axis=1)\n",
    "        ts_inds = np.where(ts_acts)[0]\n",
    "\n",
    "        # Create node labels\n",
    "        labels = np.zeros(acts.shape)\n",
    "        acts_inds = np.where(acts == 1)\n",
    "        num_nodes = len(acts_inds[0])\n",
    "        labels[acts_inds] = np.arange(num_nodes)\n",
    "        labels = labels.transpose()\n",
    "\n",
    "        next_edges = []\n",
    "\n",
    "        for i in range(len(ts_inds)-1):\n",
    "\n",
    "            ind_s = ts_inds[i]\n",
    "            ind_e = ts_inds[i+1]\n",
    "            s = inds[inds[:,0] == ind_s]\n",
    "            e = inds[inds[:,0] == ind_e]\n",
    "\n",
    "            e_inds = [t for t in list(itertools.product(s, e)) if t[0][1] != t[1][1]]\n",
    "            edges = [(labels[tuple(e[0])],labels[tuple(e[1])], edge_type_ind, ind_e-ind_s) for e in e_inds]\n",
    "\n",
    "            next_edges.extend(edges)\n",
    "\n",
    "        return np.array(next_edges, dtype='long')\n",
    "    \n",
    "    \n",
    "    def _get_node_features(self, acts, num_nodes):\n",
    "        \n",
    "        num_tracks = acts.shape[0]\n",
    "        features = torch.zeros((num_nodes, num_tracks), dtype=torch.float)\n",
    "        features[np.arange(num_nodes), np.stack(np.where(acts))[0]] = 1.\n",
    "        \n",
    "        return features\n",
    "\n",
    "\n",
    "    def __getitem__(self, idx):\n",
    "\n",
    "        # Load tensors\n",
    "        sample_path = os.path.join(self.dir, str(idx) + \".npz\")\n",
    "        data = np.load(sample_path)\n",
    "\n",
    "        seq_tensor = data[\"seq_tensor\"]\n",
    "        seq_acts = data[\"seq_acts\"]\n",
    "        \n",
    "        # Construct src_key_padding_mask (PAD = 130)\n",
    "        src_mask = torch.from_numpy((seq_tensor[..., 0] == 130))\n",
    "\n",
    "        # From decimals to one-hot (pitch)\n",
    "        pitches = seq_tensor[:, :, :, 0]\n",
    "        onehot_p = np.zeros((pitches.shape[0]*pitches.shape[1]*pitches.shape[2],\n",
    "                            131), dtype=float)\n",
    "        onehot_p[np.arange(0, onehot_p.shape[0]), pitches.reshape(-1)] = 1.\n",
    "        onehot_p = onehot_p.reshape(-1, pitches.shape[1], seq_tensor.shape[2], 131)\n",
    "\n",
    "        # From decimals to one-hot (dur)\n",
    "        #durs = seq_tensor[:, :, :, 1]\n",
    "        #onehot_d = np.zeros((durs.shape[0]*durs.shape[1]*durs.shape[2],\n",
    "        #                    99), dtype=float)\n",
    "        #onehot_d[np.arange(0, onehot_d.shape[0]), durs.reshape(-1)] = 1.\n",
    "        #onehot_d = onehot_d.reshape(-1, durs.shape[1], seq_tensor.shape[2], 99)\n",
    "        #bin_durs = unpackbits(durs, 9)[:, :, :, ::-1]\n",
    "        \n",
    "        \n",
    "        # Concatenate pitches and durations\n",
    "        #new_seq_tensor = np.concatenate((onehot_p, onehot_d),\n",
    "        #                     axis=-1)\n",
    "        new_seq_tensor = onehot_p\n",
    "        \n",
    "        # Construct graph from boolean activations\n",
    "        # Todo: optimize and refactor\n",
    "        track_edges = self.__get_track_edges(seq_acts)\n",
    "        onset_edges = self.__get_onset_edges(seq_acts)\n",
    "        next_edges = self.__get_next_edges(seq_acts)\n",
    "        edges = [track_edges, onset_edges, next_edges]\n",
    "\n",
    "        # Concatenate edge tensors (N x 4) (if any)\n",
    "        # Third column -> edge_type, Fourth column -> timestep distance\n",
    "        no_edges = (len(track_edges) == 0 and \n",
    "                    len(onset_edges) == 0 and len(next_edges) == 0)\n",
    "        if not no_edges:\n",
    "            edge_list = np.concatenate([x for x in edges\n",
    "                                          if x.size > 0])\n",
    "            edge_list = torch.from_numpy(edge_list)\n",
    "        \n",
    "        # Adapt tensor to torch_geometric's Data\n",
    "        # Todo: re-check no edges case\n",
    "        edge_index = (torch.LongTensor([[], []]) if no_edges else\n",
    "                               edge_list[:, :2].t().contiguous())\n",
    "        edge_attr = (torch.Tensor([[0, 0]]) if no_edges else\n",
    "                                       edge_list[:, 2:])\n",
    "        \n",
    "        \n",
    "        #n = seq_acts.shape[0]*seq_acts.shape[1]\n",
    "        n = torch.sum(torch.Tensor(seq_acts), dtype=torch.long) # sparse\n",
    "        node_features = self._get_node_features(seq_acts, n)\n",
    "        graph = Data(edge_index=edge_index, edge_attr=edge_attr,\n",
    "                     num_nodes=n, node_features=node_features)\n",
    "        \n",
    "        # Todo: start with torch at mount\n",
    "        return torch.Tensor(new_seq_tensor), torch.Tensor(seq_acts), graph, src_mask\n"
   ]
  },
  {
   "cell_type": "code",
   "execution_count": 43,
   "metadata": {
    "id": "hSwcnlq4g50O"
   },
   "outputs": [],
   "source": [
    "import torch\n",
    "from torch import nn, Tensor\n",
    "from torch_geometric.nn.conv import GCNConv, RGCNConv\n",
    "import torch.nn.functional as F\n",
    "import math\n",
    "import torch.optim as optim\n",
    "from torch_scatter import scatter_mean\n",
    "\n",
    "\n",
    "# Todo: check and think about max_len\n",
    "class PositionalEncoding(nn.Module):\n",
    "\n",
    "    def __init__(self, d_model: int, dropout: float = 0.1, max_len: int = 256):\n",
    "        super().__init__()\n",
    "        self.dropout = nn.Dropout(p=dropout)\n",
    "\n",
    "        position = torch.arange(max_len).unsqueeze(1)\n",
    "        div_term = torch.exp(torch.arange(0, d_model, 2) *                     \\\n",
    "                             (-math.log(10000.0)/d_model))\n",
    "        pe = torch.zeros(max_len, 1, d_model)\n",
    "        pe[:, 0, 0::2] = torch.sin(position*div_term)\n",
    "        pe[:, 0, 1::2] = torch.cos(position*div_term)\n",
    "        self.register_buffer('pe', pe)\n",
    "\n",
    "    def forward(self, x: Tensor) -> Tensor:\n",
    "        \"\"\"\n",
    "        Args:\n",
    "            x: Tensor, shape [seq_len, batch_size, embedding_dim]\n",
    "        \"\"\"\n",
    "        x = x + self.pe[:x.size(0)]\n",
    "        return self.dropout(x)\n",
    "\n",
    "\n",
    "class GraphEncoder(nn.Module):\n",
    "    \n",
    "    def __init__(self, input_dim=256, dim_hidden=256, num_layers=3, num_relations=3,\n",
    "                    dropout=0.1):\n",
    "        super().__init__()\n",
    "        self.layers = torch.nn.ModuleList()\n",
    "        self.layers.append(RGCNConv(input_dim, dim_hidden, num_relations))\n",
    "        for i in range(num_layers-1):\n",
    "            self.layers.append(RGCNConv(dim_hidden, dim_hidden, num_relations))\n",
    "        self.p = dropout\n",
    "\n",
    "    def forward(self, data):\n",
    "        x, edge_index, edge_attrs = data.x, data.edge_index, data.edge_attrs\n",
    "        edge_type = edge_attrs[:, 0]\n",
    "        \n",
    "        for layer in self.layers:\n",
    "            x = F.dropout(x, p=self.p, training=self.training)\n",
    "            x = layer(x, edge_index, edge_type)\n",
    "            x = F.relu(x)\n",
    "\n",
    "        return x\n",
    "\n",
    "\n",
    "class Encoder(nn.Module):\n",
    "\n",
    "    # 140 = 128+3+9\n",
    "    def __init__(self, d_token=131, d_transf=256, nhead_transf=2, \n",
    "                 num_layers_transf=2, n_tracks=4, dropout=0.1):\n",
    "        super().__init__()\n",
    "\n",
    "        # Todo: one separate encoder for drums\n",
    "        # Transformer Encoder\n",
    "        self.embedding = nn.Linear(d_token, d_transf)\n",
    "        self.pos_encoder = PositionalEncoding(d_transf, dropout=dropout)\n",
    "        transf_layer = nn.TransformerEncoderLayer(\n",
    "            d_model=d_transf,\n",
    "            nhead=nhead_transf,\n",
    "            dropout=dropout\n",
    "        )\n",
    "        self.transformer_encoder = nn.TransformerEncoder(\n",
    "            transf_layer,\n",
    "            num_layers=num_layers_transf\n",
    "        )\n",
    "\n",
    "        # Graph encoder\n",
    "        self.graph_encoder = GCN(dropout=dropout, input_dim=n_tracks+256)\n",
    "\n",
    "        # (LSTM)\n",
    "        \n",
    "        # Linear layers that compute the final mu and log_var\n",
    "        # Todo: as parameters\n",
    "        self.linear_mu = nn.Linear(256, 256)\n",
    "        self.linear_log_var = nn.Linear(256, 256)\n",
    "\n",
    "        \n",
    "    def forward(self, x_seq, x_acts, x_graph, src_mask):\n",
    "\n",
    "        # Collapse track (and optionally batch) dimension\n",
    "        #print(\"Init input:\", x_seq.size())\n",
    "        x_seq = x_seq.view(-1, x_seq.size(-2), x_seq.size(-1))\n",
    "        #print(\"Reshaped input:\", x_seq.size())\n",
    "        \n",
    "        # Filter silences\n",
    "        x_acts = x_acts.view(-1)\n",
    "        x_seq = x_seq[x_acts.bool()]\n",
    "        src_mask = src_mask[x_acts.bool()]\n",
    "\n",
    "        # Compute embeddings\n",
    "        embs = self.embedding(x_seq)\n",
    "        #print(\"Embs:\", embs.size())\n",
    "\n",
    "        # batch_first = False\n",
    "        embs = embs.permute(1, 0, 2)\n",
    "        #print(\"Seq len first input:\", embs.size())\n",
    "\n",
    "        pos_encs = self.pos_encoder(embs)\n",
    "        #print(\"Pos encodings:\", pos_encs.size())\n",
    "\n",
    "        transformer_encs = self.transformer_encoder(pos_encs, \n",
    "                                                    src_key_padding_mask=src_mask)\n",
    "        #print(\"Transf encodings:\", transformer_encs.size())\n",
    "\n",
    "        pooled_encs = torch.mean(transformer_encs, 0)\n",
    "        #print(\"Pooled encodings:\", pooled_encs.size())\n",
    "\n",
    "        # Concatenate track one hot features with chord encodings\n",
    "        # and compute node encodings\n",
    "        x_graph.x = torch.cat((x_graph.node_features, pooled_encs), 1)\n",
    "        node_encs = self.graph_encoder(x_graph)\n",
    "        #print(\"Node encodings:\", node_encs.size())\n",
    "        \n",
    "        # Compute final graph latent vector(s)\n",
    "        # (taking into account the batch size)\n",
    "        encoding = scatter_mean(node_encs, x_graph.batch, dim=0)\n",
    "        #num_nodes = x_graph[0].num_nodes\n",
    "        #batch_sz = node_encs.size(0) // num_nodes\n",
    "        #node_encs = node_encs.view(batch_sz, num_nodes, -1)\n",
    "        #encoding = torch.mean(node_encs, 1)\n",
    "\n",
    "        # Compute mu and log(std^2)\n",
    "        mu = self.linear_mu(encoding)\n",
    "        log_var = self.linear_log_var(encoding)\n",
    "        \n",
    "        return mu, log_var\n",
    "\n",
    "\n",
    "class Decoder(nn.Module):\n",
    "\n",
    "    def __init__(self, d_z=256, n_tracks=4, resolution=32, d_token=131, d_model=256,\n",
    "                 d_transf=256, nhead_transf=2, num_layers_transf=2, dropout=0.1):\n",
    "        super().__init__()\n",
    "\n",
    "        # (LSTM)\n",
    "\n",
    "        # Boolean activations decoder (CNN/MLP)\n",
    "        self.acts_decoder = nn.Linear(d_z, n_tracks*resolution)\n",
    "\n",
    "        # GNN\n",
    "        self.graph_decoder = GCN(dropout=dropout, input_dim=n_tracks+256)\n",
    "        \n",
    "        # Transformer Decoder\n",
    "        self.embedding = nn.Linear(d_token, d_transf)\n",
    "        self.pos_encoder = PositionalEncoding(d_transf, dropout=dropout)\n",
    "        decoder_layer = nn.TransformerDecoderLayer(\n",
    "            d_model=d_model,\n",
    "            nhead=nhead_transf,\n",
    "            dropout=dropout\n",
    "        )\n",
    "        self.transf_decoder = nn.TransformerDecoder(\n",
    "            decoder_layer,\n",
    "            num_layers=num_layers_transf\n",
    "        )\n",
    "        \n",
    "        # Last linear layer\n",
    "        self.lin = nn.Linear(d_model, d_token)\n",
    "\n",
    "\n",
    "    def forward(self, z, x_seq, x_acts, x_graph, src_mask, tgt_mask):\n",
    "\n",
    "        # Compute activations from z\n",
    "        acts_out = self.acts_decoder(z)\n",
    "        acts_out = acts_out.view(x_acts.size())\n",
    "        #print(\"Acts out:\", acts_out.size())\n",
    "\n",
    "        # Initialize node features with z and propagate with GNN\n",
    "        _, counts = torch.unique(x_graph.batch, return_counts=True)\n",
    "        z_node_features = torch.repeat_interleave(z, counts, axis=0)\n",
    "        #print(\"Node features:\", node_features.size())\n",
    "        \n",
    "        # Add one-hot encoding of tracks\n",
    "        # Todo: use also edge info\n",
    "        x_graph.x = torch.cat((x_graph.node_features, z_node_features), 1)\n",
    "        node_decs = self.graph_decoder(x_graph)\n",
    "        #print(\"Node decodings:\", node_decs.size())\n",
    "        \n",
    "        # Prepare transformer memory\n",
    "        node_decs = node_decs.repeat(16, 1, 1)\n",
    "        #print(\"Tiled node decodings:\", node_decs.size())\n",
    "        \n",
    "        # Filter silences\n",
    "        x_seq = x_seq.view(-1, x_seq.size(-2), x_seq.size(-1))\n",
    "        x_acts = x_acts.view(-1)\n",
    "        x_seq = x_seq[x_acts.bool()]\n",
    "        src_mask = src_mask[x_acts.bool()]\n",
    "        #print(src_mask.size())\n",
    "        #print(x_seq.size())\n",
    "        \n",
    "        # Todo: same embeddings as encoder?\n",
    "        embs = self.embedding(x_seq)\n",
    "        embs = embs.permute(1, 0, 2)\n",
    "        pos_encs = self.pos_encoder(embs)\n",
    "\n",
    "        seq_out = self.transf_decoder(pos_encs, node_decs,\n",
    "                                      tgt_key_padding_mask=src_mask,\n",
    "                                      tgt_mask=tgt_mask)\n",
    "        #print(\"Seq out:\", seq_out.size())\n",
    "        \n",
    "        seq_out = self.lin(seq_out)\n",
    "        #print(\"Seq out after lin:\", seq_out.size())\n",
    "        \n",
    "        # Softmax on first 131 values (pitch), sigmoid on last 9 (dur)\n",
    "        #seq_out[:, :, :131] = F.log_softmax(seq_out[:, :, :131], dim=-1)\n",
    "        #seq_out[:, :, 131:] = torch.sigmoid(seq_out[:, :, 131:])\n",
    "        seq_out = seq_out.permute(1, 0, 2)\n",
    "        seq_out = seq_out.view(x_seq.size())\n",
    "        #print(\"Seq out after reshape\", seq_out.size())\n",
    "        \n",
    "\n",
    "        return seq_out, acts_out\n",
    "\n",
    "\n",
    "class VAE(nn.Module):\n",
    "\n",
    "    def __init__(self, dropout=0.1, **kwargs):\n",
    "        super().__init__()\n",
    "\n",
    "        self.encoder = Encoder(dropout=dropout)\n",
    "        self.decoder = Decoder(dropout=dropout)\n",
    "    \n",
    "    \n",
    "    def forward(self, x_seq, x_acts, x_graph, src_mask, tgt_mask):\n",
    "        \n",
    "        src_mask = src_mask.view(-1, src_mask.size(-1))\n",
    "        \n",
    "        mu, log_var = self.encoder(x_seq, x_acts, x_graph, src_mask)\n",
    "        #print(\"Mu:\", mu.size())\n",
    "        #print(\"log_var:\", log_var.size())\n",
    "        \n",
    "        # Reparameterization trick\n",
    "        sigma = torch.exp(0.5*log_var)\n",
    "        eps = torch.randn_like(sigma)\n",
    "        #print(\"eps:\", eps.size())\n",
    "        z = mu + eps*sigma\n",
    "        \n",
    "        tgt = x_seq[..., :-1, :]\n",
    "        src_mask = src_mask[:, :-1]\n",
    "        \n",
    "        out = self.decoder(z, tgt, x_acts, x_graph, src_mask, tgt_mask)\n",
    "        \n",
    "        return out, mu, log_var\n"
   ]
  },
  {
   "cell_type": "markdown",
   "metadata": {},
   "source": [
    "Trainer"
   ]
  },
  {
   "cell_type": "code",
   "execution_count": 44,
   "metadata": {},
   "outputs": [],
   "source": [
    "import torch.optim as optim\n",
    "import matplotlib.pyplot as plt\n",
    "import uuid\n",
    "import copy\n",
    "import time\n",
    "from statistics import mean\n",
    "from collections import defaultdict\n",
    "\n",
    "\n",
    "def generate_square_subsequent_mask(sz):\n",
    "    \"\"\"Generates an upper-triangular matrix of -inf, with zeros on diag.\"\"\"\n",
    "    return torch.triu(torch.ones(sz, sz) * float('-inf'), diagonal=1)\n",
    "\n",
    "\n",
    "class VAETrainer():\n",
    "    \n",
    "    def __init__(self, model, models_path, optimizer, init_lr,\n",
    "                 name=None, lr_scheduler=None, device=torch.device(\"cuda\"), \n",
    "                 print_every=1, save_every=1):\n",
    "        \n",
    "        self.model = model\n",
    "        self.models_path = models_path\n",
    "        self.optimizer = optimizer\n",
    "        self.init_lr = init_lr\n",
    "        self.name = name if name is not None else str(uuid.uuid4())\n",
    "        self.lr_scheduler = lr_scheduler\n",
    "        self.device = device\n",
    "        self.print_every = print_every\n",
    "        self.save_every = save_every\n",
    "        \n",
    "        self.model_path = os.path.join(self.models_path, self.name)\n",
    "        \n",
    "        # Criteria with ignored padding\n",
    "        self.bce_unreduced = nn.BCEWithLogitsLoss(reduction='none')\n",
    "        self.ce_p = nn.CrossEntropyLoss(ignore_index=130)\n",
    "        self.ce_d = nn.CrossEntropyLoss(ignore_index=98)\n",
    "        \n",
    "        # Training stats\n",
    "        self.losses = defaultdict(list)\n",
    "        self.accuracies = defaultdict(list)\n",
    "        self.lrs = []\n",
    "        self.times = []\n",
    "        \n",
    "    \n",
    "    def train(self, trainloader, validloader=None, epochs=1,\n",
    "              early_exit=None):\n",
    "        \n",
    "        n_batches = len(trainloader)\n",
    "\n",
    "        beta = 0 # Todo: _update_params()\n",
    "        \n",
    "        self.model.train()\n",
    "        \n",
    "        print(\"Starting training.\\n\")\n",
    "        \n",
    "        start = time.time()\n",
    "        self.times.append(start)\n",
    "        \n",
    "        tot_batches = 0\n",
    "        \n",
    "        for epoch in range(epochs):\n",
    "            \n",
    "            self.cur_epoch = epoch\n",
    "            progress_bar = tqdm(range(n_batches))\n",
    "            \n",
    "            for batch_idx, inputs in enumerate(trainloader):\n",
    "                \n",
    "                self.cur_batch_idx = batch_idx\n",
    "                \n",
    "                # Zero out the gradients\n",
    "                self.optimizer.zero_grad()\n",
    "                \n",
    "                # Get the inputs\n",
    "                x_seq, x_acts, x_graph, src_mask = inputs\n",
    "                x_seq = x_seq.float().to(self.device)\n",
    "                x_acts = x_acts.to(self.device)\n",
    "                x_graph = x_graph.to(self.device)\n",
    "                src_mask = src_mask.to(self.device)\n",
    "                tgt_mask = generate_square_subsequent_mask(x_seq.size(-2)-1).to(self.device)\n",
    "                inputs = (x_seq, x_acts, x_graph)\n",
    "\n",
    "                # Forward pass, get the reconstructions\n",
    "                outputs, mu, log_var = self.model(x_seq, x_acts, x_graph, src_mask, tgt_mask)\n",
    "                \n",
    "                # Compute the backprop loss and other required losses\n",
    "                tot_loss, losses = self._compute_losses(inputs, outputs, mu,\n",
    "                                                         log_var, beta)\n",
    "                \n",
    "                # Backprop and update lr\n",
    "                tot_loss.backward()\n",
    "                self.optimizer.step()\n",
    "                if self.lr_scheduler is not None:\n",
    "                    self.lr_scheduler.step()\n",
    "                    \n",
    "                # Update the stats\n",
    "                self._append_losses(losses)\n",
    "                \n",
    "                last_lr = (self.lr_scheduler.lr \n",
    "                               if self.lr_scheduler is not None else self.init_lr)\n",
    "                self.lrs.append(last_lr)\n",
    "                \n",
    "                accs = self._compute_accuracies(inputs, outputs)\n",
    "                self._append_accuracies(accs)\n",
    "                \n",
    "                now = time.time()\n",
    "                self.times.append(now)\n",
    "                \n",
    "                # Print stats\n",
    "                if (tot_batches + 1) % self.print_every == 0:\n",
    "                    print(\"Training on batch {}/{} of epoch {}/{} complete.\"\n",
    "                          .format(batch_idx+1, n_batches, epoch+1, epochs))\n",
    "                    self._print_stats()\n",
    "                    #print(\"Tot_loss: {:.4f} acts_loss: {:.4f} \"\n",
    "                          #.format(running_loss/self.print_every, acts_loss), end='')\n",
    "                    #print(\"pitches_loss: {:.4f} dur_loss: {:.4f} kld_loss: {:.4f}\"\n",
    "                          #.format(pitches_loss, dur_loss, kld_loss))\n",
    "                    print(\"\\n----------------------------------------\\n\")\n",
    "                    \n",
    "                # When appropriate, save model and stats on disk\n",
    "                if self.save_every > 0 and (tot_batches + 1) % self.save_every == 0:\n",
    "                    print(\"\\nSaving model to disk...\\n\")\n",
    "                    self._save_model()\n",
    "                \n",
    "                progress_bar.update(1)\n",
    "                \n",
    "                # Stop prematurely if early_exit is set and reached\n",
    "                if early_exit is not None and (tot_batches + 1) > early_exit:\n",
    "                    break\n",
    "                \n",
    "                tot_batches += 1\n",
    "            \n",
    "\n",
    "        end = time.time()\n",
    "        # Todo: self.__print_time()\n",
    "        hours, rem = divmod(end-start, 3600)\n",
    "        minutes, seconds = divmod(rem, 60)\n",
    "        print(\"Training completed in (h:m:s): {:0>2}:{:0>2}:{:05.2f}\"\n",
    "                  .format(int(hours),int(minutes),seconds))\n",
    "        \n",
    "        print(\"Saving model to disk...\")\n",
    "        self._save_model()\n",
    "        \n",
    "        print(\"Model saved.\")\n",
    "        \n",
    "    \n",
    "    def _compute_losses(self, inputs, outputs, mu, log_var, beta):\n",
    "        \n",
    "        x_seq, x_acts, _ = inputs\n",
    "        seq_rec, acts_rec = outputs\n",
    "        \n",
    "        # Shift outputs for transformer decoder loss and filter silences\n",
    "        x_seq = x_seq[..., 1:, :]\n",
    "        x_seq = x_seq[x_acts.bool()]\n",
    "        #print(x_seq.size())\n",
    "        #print(seq_rec.size())\n",
    "                \n",
    "        # Compute the losses\n",
    "        \n",
    "        #acts_loss = self.bce_unreduced(acts_rec.view(-1), x_acts.view(-1).float())\n",
    "        #weights = torch.zeros(acts_loss.size()).to(device)\n",
    "        #weights[x_acts.view(-1) == 1] = 0.9\n",
    "        #weights[x_acts.view(-1) == 0] = 0.1\n",
    "        #acts_loss = 50 * torch.mean(weights*acts_loss)\n",
    "        \n",
    "        pitches_loss = self.ce_p(seq_rec.reshape(-1, seq_rec.size(-1))[:, :131],\n",
    "                          x_seq.reshape(-1, x_seq.size(-1))[:, :131].argmax(dim=1))\n",
    "        #dur_loss = self.ce_d(seq_rec.reshape(-1, seq_rec.size(-1))[:, 131:],\n",
    "        #                  x_seq.reshape(-1, x_seq.size(-1))[:, 131:].argmax(dim=1))\n",
    "        #dur_loss = mask * dur_loss\n",
    "        #dur_loss = torch.sum(dur_loss) / torch.sum(mask)\n",
    "        kld_loss = -0.5 * torch.sum(1 + log_var - mu.pow(2) - log_var.exp())\n",
    "        rec_loss = pitches_loss #+ dur_loss# + acts_loss\n",
    "        tot_loss = rec_loss + beta*kld_loss\n",
    "        \n",
    "        losses = {\n",
    "            'tot': tot_loss.item(),\n",
    "            'pitches': pitches_loss.item(),\n",
    "            #'dur': dur_loss.item(),\n",
    "            #'acts': acts_loss.item(),\n",
    "            'rec': rec_loss.item(),\n",
    "            'kld': kld_loss.item(),\n",
    "            'beta*kld': beta*kld_loss.item()\n",
    "        }\n",
    "        \n",
    "        return tot_loss, losses\n",
    "\n",
    "    \n",
    "    def _append_losses(self, losses):\n",
    "        \n",
    "        for k, loss in losses.items():\n",
    "            self.losses[k].append(loss)\n",
    "            \n",
    "            \n",
    "    def _compute_accuracies(self, inputs, outputs):\n",
    "        \n",
    "        x_seq, x_acts, _ = inputs\n",
    "        seq_rec, acts_rec = outputs\n",
    "        \n",
    "        # Shift outputs for transformer decoder loss\n",
    "        x_seq = x_seq[..., 1:, :]\n",
    "        x_seq = x_seq[x_acts.bool()]\n",
    "        #print(x_seq.size())\n",
    "        #print(seq_rec.size())\n",
    "        \n",
    "        #notes_acc = self._note_accuracy(seq_rec, x_seq)\n",
    "        pitches_acc = self._pitches_accuracy(seq_rec, x_seq)\n",
    "        #dur_acc = self._dur_accuracy(seq_rec, x_seq)\n",
    "        #acts_acc = self._acts_accuracy(acts_rec, x_acts)\n",
    "        \n",
    "        accs = {\n",
    "            #'notes': notes_acc.item(),\n",
    "            'pitches': pitches_acc.item(),\n",
    "            #'dur': dur_acc.item(),\n",
    "            #'acts': acts_acc.item()\n",
    "        }\n",
    "        \n",
    "        return accs\n",
    "        \n",
    "        \n",
    "    def _append_accuracies(self, accs):\n",
    "        \n",
    "        for k, acc in accs.items():\n",
    "            self.accuracies[k].append(acc)\n",
    "    \n",
    "    \n",
    "    def _note_accuracy(self, seq_rec, x_seq):\n",
    "        \n",
    "        pitches_rec = F.softmax(seq_rec[..., :131], dim=-1)\n",
    "        pitches_rec = torch.argmax(pitches_rec, dim=-1)\n",
    "        pitches_true = torch.argmax(x_seq[..., :131], dim=-1)\n",
    "        \n",
    "        print(torch.all(pitches_rec == 129))\n",
    "        #print(pitches_rec)\n",
    "        \n",
    "        mask_p = (pitches_true != 130)\n",
    "        #mask = torch.logical_and(pitches_true != 128,\n",
    "         #                        pitches_true != 129)\n",
    "        #mask = torch.logical_and(mask,\n",
    "         #                        pitches_true != 130)\n",
    "        \n",
    "        preds_pitches = (pitches_rec == pitches_true)\n",
    "        preds_pitches = torch.logical_and(preds_pitches, mask_p)\n",
    "        \n",
    "        \n",
    "        dur_rec = F.softmax(seq_rec[..., 131:], dim=-1)\n",
    "        dur_rec = torch.argmax(dur_rec, dim=-1)\n",
    "        dur_true = torch.argmax(x_seq[..., 131:], dim=-1)\n",
    "        \n",
    "        print(torch.all(dur_rec == 97))\n",
    "        \n",
    "        mask_d = (dur_true != 98)\n",
    "        #mask = torch.logical_and(pitches_true != 128,\n",
    "         #                        pitches_true != 129)\n",
    "        #mask = torch.logical_and(mask,\n",
    "         #                        pitches_true != 130)\n",
    "        \n",
    "        preds_dur = (dur_rec == dur_true)\n",
    "        preds_dur = torch.logical_and(preds_dur, mask_d)\n",
    "        \n",
    "        return torch.sum(torch.logical_and(preds_pitches, \n",
    "                                           preds_dur)) / torch.sum(mask_p)\n",
    "    \n",
    "    \n",
    "    def _acts_accuracy(self, acts_rec, x_acts):\n",
    "        \n",
    "        acts_rec = torch.sigmoid(acts_rec)\n",
    "        acts_rec[acts_rec < 0.5] = 0\n",
    "        acts_rec[acts_rec >= 0.5] = 1\n",
    "        \n",
    "        print(torch.all(acts_rec == 0))\n",
    "        print(acts_rec)\n",
    "        \n",
    "        return torch.sum(acts_rec == x_acts) / x_acts.numel()\n",
    "    \n",
    "    \n",
    "    def _pitches_accuracy(self, seq_rec, x_seq):\n",
    "        \n",
    "        pitches_rec = F.softmax(seq_rec[..., :131], dim=-1)\n",
    "        pitches_rec = torch.argmax(pitches_rec, dim=-1)\n",
    "        pitches_true = torch.argmax(x_seq[..., :131], dim=-1)\n",
    "        \n",
    "        print(torch.all(pitches_rec == 129))\n",
    "        \n",
    "        mask = (pitches_true != 130)\n",
    "        #mask = torch.logical_and(pitches_true != 128,\n",
    "         #                        pitches_true != 129)\n",
    "        #mask = torch.logical_and(mask,\n",
    "         #                        pitches_true != 130)\n",
    "        \n",
    "        preds_pitches = (pitches_rec == pitches_true)\n",
    "        preds_pitches = torch.logical_and(preds_pitches, mask)\n",
    "        \n",
    "        return torch.sum(preds_pitches) / torch.sum(mask)\n",
    "    \n",
    "    \n",
    "    def _dur_accuracy(self, seq_rec, x_seq):\n",
    "        \n",
    "        dur_rec = F.softmax(seq_rec[..., 131:], dim=-1)\n",
    "        dur_rec = torch.argmax(dur_rec, dim=-1)\n",
    "        dur_true = torch.argmax(x_seq[..., 131:], dim=-1)\n",
    "        \n",
    "        mask = (dur_true != 98)\n",
    "        #mask = torch.logical_and(pitches_true != 128,\n",
    "         #                        pitches_true != 129)\n",
    "        #mask = torch.logical_and(mask,\n",
    "         #                        pitches_true != 130)\n",
    "        \n",
    "        preds_dur = (dur_rec == dur_true)\n",
    "        preds_dur = torch.logical_and(preds_dur, mask)\n",
    "        \n",
    "        return torch.sum(preds_dur) / torch.sum(mask)\n",
    "    \n",
    "    \n",
    "    def _save_model(self):\n",
    "        torch.save({\n",
    "            'epoch': self.cur_epoch,\n",
    "            'batch': self.cur_batch_idx,\n",
    "            'save_every': self.save_every,\n",
    "            'lrs': self.lrs,\n",
    "            'losses': self.losses,\n",
    "            'accuracies': self.accuracies,\n",
    "            'model_state_dict': self.model.state_dict(),\n",
    "            'optimizer_state_dict': self.optimizer.state_dict()\n",
    "        }, self.model_path)\n",
    "        \n",
    "        \n",
    "    def _print_stats(self):\n",
    "        \n",
    "        hours, rem = divmod(self.times[-1]-self.times[0], 3600)\n",
    "        minutes, seconds = divmod(rem, 60)\n",
    "        print(\"Elapsed time from start (h:m:s): {:0>2}:{:0>2}:{:05.2f}\"\n",
    "                  .format(int(hours), int(minutes), seconds))\n",
    "        \n",
    "        avg_lr = mean(self.lrs[-self.print_every:])\n",
    "        \n",
    "        # Take mean of the last non-printed batches for each stat\n",
    "        \n",
    "        avg_losses = {}\n",
    "        for k, l in self.losses.items():\n",
    "            avg_losses[k] = mean(l[-self.print_every:])\n",
    "        \n",
    "        avg_accs = {}\n",
    "        for k, l in self.accuracies.items():\n",
    "            avg_accs[k] = mean(l[-self.print_every:])\n",
    "        \n",
    "        print(\"Losses:\")\n",
    "        print(avg_losses)\n",
    "        print(\"Accuracies:\")\n",
    "        print(avg_accs)\n",
    "        \n"
   ]
  },
  {
   "cell_type": "markdown",
   "metadata": {},
   "source": [
    "Training"
   ]
  },
  {
   "cell_type": "code",
   "execution_count": 45,
   "metadata": {},
   "outputs": [],
   "source": [
    "models_path = \"models/\"\n",
    "os.makedirs(models_path, exist_ok=True)"
   ]
  },
  {
   "cell_type": "code",
   "execution_count": 46,
   "metadata": {},
   "outputs": [],
   "source": [
    "from torch.utils.data import Subset\n",
    "\n",
    "ds_dir = \"data/preprocessed\"\n",
    "dataset = MIDIDataset(ds_dir)\n",
    "#loader = DataLoader(dataset, batch_size=64, shuffle=True)\n",
    "len(dataset)\n",
    "\n",
    "n_samples = 64\n",
    "subset = Subset(dataset, np.arange(n_samples))\n",
    "loader = DataLoader(subset, batch_size=64, shuffle=True)"
   ]
  },
  {
   "cell_type": "code",
   "execution_count": 47,
   "metadata": {},
   "outputs": [
    {
     "data": {
      "text/plain": [
       "torch.Size([4, 32, 16, 131])"
      ]
     },
     "execution_count": 47,
     "metadata": {},
     "output_type": "execute_result"
    }
   ],
   "source": [
    "dataset[1][0].size()"
   ]
  },
  {
   "cell_type": "code",
   "execution_count": 48,
   "metadata": {},
   "outputs": [
    {
     "name": "stdout",
     "output_type": "stream",
     "text": [
      "Device: cuda\n",
      "Current device idx: 0\n"
     ]
    }
   ],
   "source": [
    "import torch\n",
    "torch.cuda.set_device(0)\n",
    "\n",
    "device = torch.device(\"cuda\") if torch.cuda.is_available() else torch.device(\"cpu\")\n",
    "#decive = torch.device(\"cpu\")\n",
    "print(\"Device:\", device)\n",
    "print(\"Current device idx:\", torch.cuda.current_device())"
   ]
  },
  {
   "cell_type": "code",
   "execution_count": 49,
   "metadata": {},
   "outputs": [],
   "source": [
    "#!rm models/vae"
   ]
  },
  {
   "cell_type": "code",
   "execution_count": 50,
   "metadata": {},
   "outputs": [],
   "source": [
    "from prettytable import PrettyTable\n",
    "\n",
    "\n",
    "def print_params(model):\n",
    "    \n",
    "    table = PrettyTable([\"Modules\", \"Parameters\"])\n",
    "    total_params = 0\n",
    "    \n",
    "    for name, parameter in model.named_parameters():\n",
    "        \n",
    "        if not parameter.requires_grad:\n",
    "            continue\n",
    "            \n",
    "        param = parameter.numel()\n",
    "        table.add_row([name, param])\n",
    "        total_params += param\n",
    "        \n",
    "    print(table)\n",
    "    print(f\"Total Trainable Params: {total_params}\")\n",
    "    \n",
    "    return total_params"
   ]
  },
  {
   "cell_type": "code",
   "execution_count": 51,
   "metadata": {},
   "outputs": [],
   "source": [
    "import math\n",
    "import torch\n",
    "from typing import Optional\n",
    "from torch.optim import Optimizer\n",
    "\n",
    "from lr_scheduler.lr_scheduler import LearningRateScheduler\n",
    "\n",
    "class TransformerLRScheduler(LearningRateScheduler):\n",
    "    r\"\"\"\n",
    "    Transformer Learning Rate Scheduler proposed in \"Attention Is All You Need\"\n",
    "    Args:\n",
    "        optimizer (Optimizer): Optimizer.\n",
    "        init_lr (float): Initial learning rate.\n",
    "        peak_lr (float): Maximum learning rate.\n",
    "        final_lr (float): Final learning rate.\n",
    "        final_lr_scale (float): Final learning rate scale\n",
    "        warmup_steps (int): Warmup the learning rate linearly for the first N updates\n",
    "        decay_steps (int): Steps in decay stages\n",
    "    \"\"\"\n",
    "    def __init__(\n",
    "            self,\n",
    "            optimizer: Optimizer,\n",
    "            init_lr: float,\n",
    "            peak_lr: float,\n",
    "            final_lr: float,\n",
    "            final_lr_scale: float,\n",
    "            warmup_steps: int,\n",
    "            decay_steps: int,\n",
    "    ) -> None:\n",
    "        assert isinstance(warmup_steps, int), \"warmup_steps should be inteager type\"\n",
    "        assert isinstance(decay_steps, int), \"total_steps should be inteager type\"\n",
    "\n",
    "        super(TransformerLRScheduler, self).__init__(optimizer, init_lr)\n",
    "        self.final_lr = final_lr\n",
    "        self.peak_lr = peak_lr\n",
    "        self.warmup_steps = warmup_steps\n",
    "        self.decay_steps = decay_steps\n",
    "\n",
    "        self.warmup_rate = self.peak_lr / self.warmup_steps\n",
    "        self.decay_factor = -math.log(final_lr_scale) / self.decay_steps\n",
    "\n",
    "        self.init_lr = init_lr\n",
    "        self.update_steps = 0\n",
    "\n",
    "    def _decide_stage(self):\n",
    "        if self.update_steps < self.warmup_steps:\n",
    "            return 0, self.update_steps\n",
    "\n",
    "        if self.warmup_steps <= self.update_steps:\n",
    "            return 1, self.update_steps - self.warmup_steps\n",
    "\n",
    "        return 2, None\n",
    "\n",
    "    def step(self, val_loss: Optional[torch.FloatTensor] = None):\n",
    "        self.update_steps += 1\n",
    "        stage, steps_in_stage = self._decide_stage()\n",
    "\n",
    "        if stage == 0:\n",
    "            self.lr = self.update_steps * self.warmup_rate\n",
    "        elif stage == 1:\n",
    "            self.lr = self.peak_lr * math.exp(-self.decay_factor * steps_in_stage)\n",
    "        else:\n",
    "            raise ValueError(\"Undefined stage\")\n",
    "\n",
    "        self.set_lr(self.optimizer, self.lr)\n",
    "\n",
    "        return self.lr"
   ]
  },
  {
   "cell_type": "code",
   "execution_count": null,
   "metadata": {},
   "outputs": [
    {
     "name": "stdout",
     "output_type": "stream",
     "text": [
      "Creating the model and moving it to the specified device...\n",
      "+----------------------------------------------------------------+------------+\n",
      "|                            Modules                             | Parameters |\n",
      "+----------------------------------------------------------------+------------+\n",
      "|                    encoder.embedding.weight                    |   33536    |\n",
      "|                     encoder.embedding.bias                     |    256     |\n",
      "| encoder.transformer_encoder.layers.0.self_attn.in_proj_weight  |   196608   |\n",
      "|  encoder.transformer_encoder.layers.0.self_attn.in_proj_bias   |    768     |\n",
      "| encoder.transformer_encoder.layers.0.self_attn.out_proj.weight |   65536    |\n",
      "|  encoder.transformer_encoder.layers.0.self_attn.out_proj.bias  |    256     |\n",
      "|      encoder.transformer_encoder.layers.0.linear1.weight       |   524288   |\n",
      "|       encoder.transformer_encoder.layers.0.linear1.bias        |    2048    |\n",
      "|      encoder.transformer_encoder.layers.0.linear2.weight       |   524288   |\n",
      "|       encoder.transformer_encoder.layers.0.linear2.bias        |    256     |\n",
      "|       encoder.transformer_encoder.layers.0.norm1.weight        |    256     |\n",
      "|        encoder.transformer_encoder.layers.0.norm1.bias         |    256     |\n",
      "|       encoder.transformer_encoder.layers.0.norm2.weight        |    256     |\n",
      "|        encoder.transformer_encoder.layers.0.norm2.bias         |    256     |\n",
      "| encoder.transformer_encoder.layers.1.self_attn.in_proj_weight  |   196608   |\n",
      "|  encoder.transformer_encoder.layers.1.self_attn.in_proj_bias   |    768     |\n",
      "| encoder.transformer_encoder.layers.1.self_attn.out_proj.weight |   65536    |\n",
      "|  encoder.transformer_encoder.layers.1.self_attn.out_proj.bias  |    256     |\n",
      "|      encoder.transformer_encoder.layers.1.linear1.weight       |   524288   |\n",
      "|       encoder.transformer_encoder.layers.1.linear1.bias        |    2048    |\n",
      "|      encoder.transformer_encoder.layers.1.linear2.weight       |   524288   |\n",
      "|       encoder.transformer_encoder.layers.1.linear2.bias        |    256     |\n",
      "|       encoder.transformer_encoder.layers.1.norm1.weight        |    256     |\n",
      "|        encoder.transformer_encoder.layers.1.norm1.bias         |    256     |\n",
      "|       encoder.transformer_encoder.layers.1.norm2.weight        |    256     |\n",
      "|        encoder.transformer_encoder.layers.1.norm2.bias         |    256     |\n",
      "|              encoder.graph_encoder.layers.0.bias               |    256     |\n",
      "|           encoder.graph_encoder.layers.0.lin.weight            |   66560    |\n",
      "|              encoder.graph_encoder.layers.1.bias               |    256     |\n",
      "|           encoder.graph_encoder.layers.1.lin.weight            |   65536    |\n",
      "|              encoder.graph_encoder.layers.2.bias               |    256     |\n",
      "|           encoder.graph_encoder.layers.2.lin.weight            |   65536    |\n",
      "|                    encoder.linear_mu.weight                    |   65536    |\n",
      "|                     encoder.linear_mu.bias                     |    256     |\n",
      "|                 encoder.linear_log_var.weight                  |   65536    |\n",
      "|                  encoder.linear_log_var.bias                   |    256     |\n",
      "|                  decoder.acts_decoder.weight                   |   32768    |\n",
      "|                   decoder.acts_decoder.bias                    |    128     |\n",
      "|              decoder.graph_decoder.layers.0.bias               |    256     |\n",
      "|           decoder.graph_decoder.layers.0.lin.weight            |   66560    |\n",
      "|              decoder.graph_decoder.layers.1.bias               |    256     |\n",
      "|           decoder.graph_decoder.layers.1.lin.weight            |   65536    |\n",
      "|              decoder.graph_decoder.layers.2.bias               |    256     |\n",
      "|           decoder.graph_decoder.layers.2.lin.weight            |   65536    |\n",
      "|                    decoder.embedding.weight                    |   33536    |\n",
      "|                     decoder.embedding.bias                     |    256     |\n",
      "|    decoder.transf_decoder.layers.0.self_attn.in_proj_weight    |   196608   |\n",
      "|     decoder.transf_decoder.layers.0.self_attn.in_proj_bias     |    768     |\n",
      "|   decoder.transf_decoder.layers.0.self_attn.out_proj.weight    |   65536    |\n",
      "|    decoder.transf_decoder.layers.0.self_attn.out_proj.bias     |    256     |\n",
      "| decoder.transf_decoder.layers.0.multihead_attn.in_proj_weight  |   196608   |\n",
      "|  decoder.transf_decoder.layers.0.multihead_attn.in_proj_bias   |    768     |\n",
      "| decoder.transf_decoder.layers.0.multihead_attn.out_proj.weight |   65536    |\n",
      "|  decoder.transf_decoder.layers.0.multihead_attn.out_proj.bias  |    256     |\n",
      "|         decoder.transf_decoder.layers.0.linear1.weight         |   524288   |\n",
      "|          decoder.transf_decoder.layers.0.linear1.bias          |    2048    |\n",
      "|         decoder.transf_decoder.layers.0.linear2.weight         |   524288   |\n",
      "|          decoder.transf_decoder.layers.0.linear2.bias          |    256     |\n",
      "|          decoder.transf_decoder.layers.0.norm1.weight          |    256     |\n",
      "|           decoder.transf_decoder.layers.0.norm1.bias           |    256     |\n",
      "|          decoder.transf_decoder.layers.0.norm2.weight          |    256     |\n",
      "|           decoder.transf_decoder.layers.0.norm2.bias           |    256     |\n",
      "|          decoder.transf_decoder.layers.0.norm3.weight          |    256     |\n",
      "|           decoder.transf_decoder.layers.0.norm3.bias           |    256     |\n",
      "|    decoder.transf_decoder.layers.1.self_attn.in_proj_weight    |   196608   |\n",
      "|     decoder.transf_decoder.layers.1.self_attn.in_proj_bias     |    768     |\n",
      "|   decoder.transf_decoder.layers.1.self_attn.out_proj.weight    |   65536    |\n",
      "|    decoder.transf_decoder.layers.1.self_attn.out_proj.bias     |    256     |\n",
      "| decoder.transf_decoder.layers.1.multihead_attn.in_proj_weight  |   196608   |\n",
      "|  decoder.transf_decoder.layers.1.multihead_attn.in_proj_bias   |    768     |\n",
      "| decoder.transf_decoder.layers.1.multihead_attn.out_proj.weight |   65536    |\n",
      "|  decoder.transf_decoder.layers.1.multihead_attn.out_proj.bias  |    256     |\n",
      "|         decoder.transf_decoder.layers.1.linear1.weight         |   524288   |\n",
      "|          decoder.transf_decoder.layers.1.linear1.bias          |    2048    |\n",
      "|         decoder.transf_decoder.layers.1.linear2.weight         |   524288   |\n",
      "|          decoder.transf_decoder.layers.1.linear2.bias          |    256     |\n",
      "|          decoder.transf_decoder.layers.1.norm1.weight          |    256     |\n",
      "|           decoder.transf_decoder.layers.1.norm1.bias           |    256     |\n",
      "|          decoder.transf_decoder.layers.1.norm2.weight          |    256     |\n",
      "|           decoder.transf_decoder.layers.1.norm2.bias           |    256     |\n",
      "|          decoder.transf_decoder.layers.1.norm3.weight          |    256     |\n",
      "|           decoder.transf_decoder.layers.1.norm3.bias           |    256     |\n",
      "|                       decoder.lin.weight                       |   33536    |\n",
      "|                        decoder.lin.bias                        |    131     |\n",
      "+----------------------------------------------------------------+------------+\n",
      "Total Trainable Params: 6450179\n",
      "\n",
      "--------------------------------------------------\n",
      "\n",
      "Starting training.\n",
      "\n"
     ]
    },
    {
     "data": {
      "application/vnd.jupyter.widget-view+json": {
       "model_id": "46d6ddea425b477faf01ed0cadd3bd2b",
       "version_major": 2,
       "version_minor": 0
      },
      "text/plain": [
       "  0%|          | 0/1 [00:00<?, ?it/s]"
      ]
     },
     "metadata": {},
     "output_type": "display_data"
    },
    {
     "name": "stdout",
     "output_type": "stream",
     "text": [
      "tensor(False, device='cuda:0')\n",
      "Training on batch 1/1 of epoch 1/100000 complete.\n",
      "Elapsed time from start (h:m:s): 00:00:00.36\n",
      "Losses:\n",
      "{'tot': 5.32643985748291, 'pitches': 5.32643985748291, 'rec': 5.32643985748291, 'kld': 492.141845703125, 'beta*kld': 0.0}\n",
      "Accuracies:\n",
      "{'pitches': 0.0031298904214054346}\n",
      "\n",
      "----------------------------------------\n",
      "\n"
     ]
    },
    {
     "data": {
      "application/vnd.jupyter.widget-view+json": {
       "model_id": "8980dae2381b461692680cf9654afef8",
       "version_major": 2,
       "version_minor": 0
      },
      "text/plain": [
       "  0%|          | 0/1 [00:00<?, ?it/s]"
      ]
     },
     "metadata": {},
     "output_type": "display_data"
    },
    {
     "name": "stdout",
     "output_type": "stream",
     "text": [
      "tensor(False, device='cuda:0')\n",
      "Training on batch 1/1 of epoch 2/100000 complete.\n",
      "Elapsed time from start (h:m:s): 00:00:00.72\n",
      "Losses:\n",
      "{'tot': 5.289147853851318, 'pitches': 5.289147853851318, 'rec': 5.289147853851318, 'kld': 495.647705078125, 'beta*kld': 0.0}\n",
      "Accuracies:\n",
      "{'pitches': 0.002503912430256605}\n",
      "\n",
      "----------------------------------------\n",
      "\n"
     ]
    },
    {
     "data": {
      "application/vnd.jupyter.widget-view+json": {
       "model_id": "8bcb0d0509fe4e3a8d2c1cc2c49c02b9",
       "version_major": 2,
       "version_minor": 0
      },
      "text/plain": [
       "  0%|          | 0/1 [00:00<?, ?it/s]"
      ]
     },
     "metadata": {},
     "output_type": "display_data"
    },
    {
     "name": "stdout",
     "output_type": "stream",
     "text": [
      "tensor(False, device='cuda:0')\n",
      "Training on batch 1/1 of epoch 3/100000 complete.\n",
      "Elapsed time from start (h:m:s): 00:00:01.17\n",
      "Losses:\n",
      "{'tot': 5.292126178741455, 'pitches': 5.292126178741455, 'rec': 5.292126178741455, 'kld': 495.6723327636719, 'beta*kld': 0.0}\n",
      "Accuracies:\n",
      "{'pitches': 0.0}\n",
      "\n",
      "----------------------------------------\n",
      "\n"
     ]
    },
    {
     "data": {
      "application/vnd.jupyter.widget-view+json": {
       "model_id": "4aae096de5144fe49fb68b05a8878933",
       "version_major": 2,
       "version_minor": 0
      },
      "text/plain": [
       "  0%|          | 0/1 [00:00<?, ?it/s]"
      ]
     },
     "metadata": {},
     "output_type": "display_data"
    },
    {
     "name": "stdout",
     "output_type": "stream",
     "text": [
      "tensor(False, device='cuda:0')\n",
      "Training on batch 1/1 of epoch 4/100000 complete.\n",
      "Elapsed time from start (h:m:s): 00:00:01.55\n",
      "Losses:\n",
      "{'tot': 5.283358573913574, 'pitches': 5.283358573913574, 'rec': 5.283358573913574, 'kld': 495.71466064453125, 'beta*kld': 0.0}\n",
      "Accuracies:\n",
      "{'pitches': 0.0}\n",
      "\n",
      "----------------------------------------\n",
      "\n"
     ]
    },
    {
     "data": {
      "application/vnd.jupyter.widget-view+json": {
       "model_id": "6b3eabb48d7d40c9add651588fb2a38e",
       "version_major": 2,
       "version_minor": 0
      },
      "text/plain": [
       "  0%|          | 0/1 [00:00<?, ?it/s]"
      ]
     },
     "metadata": {},
     "output_type": "display_data"
    },
    {
     "name": "stdout",
     "output_type": "stream",
     "text": [
      "tensor(False, device='cuda:0')\n",
      "Training on batch 1/1 of epoch 5/100000 complete.\n",
      "Elapsed time from start (h:m:s): 00:00:01.89\n",
      "Losses:\n",
      "{'tot': 5.258156776428223, 'pitches': 5.258156776428223, 'rec': 5.258156776428223, 'kld': 495.7812194824219, 'beta*kld': 0.0}\n",
      "Accuracies:\n",
      "{'pitches': 0.002503912430256605}\n",
      "\n",
      "----------------------------------------\n",
      "\n"
     ]
    },
    {
     "data": {
      "application/vnd.jupyter.widget-view+json": {
       "model_id": "22e9470c289449f883df34c00e79c686",
       "version_major": 2,
       "version_minor": 0
      },
      "text/plain": [
       "  0%|          | 0/1 [00:00<?, ?it/s]"
      ]
     },
     "metadata": {},
     "output_type": "display_data"
    },
    {
     "name": "stdout",
     "output_type": "stream",
     "text": [
      "tensor(False, device='cuda:0')\n",
      "Training on batch 1/1 of epoch 6/100000 complete.\n",
      "Elapsed time from start (h:m:s): 00:00:02.24\n",
      "Losses:\n",
      "{'tot': 5.281394958496094, 'pitches': 5.281394958496094, 'rec': 5.281394958496094, 'kld': 495.87579345703125, 'beta*kld': 0.0}\n",
      "Accuracies:\n",
      "{'pitches': 0.0}\n",
      "\n",
      "----------------------------------------\n",
      "\n"
     ]
    },
    {
     "data": {
      "application/vnd.jupyter.widget-view+json": {
       "model_id": "b7750f082ad8411292f828cf611838fa",
       "version_major": 2,
       "version_minor": 0
      },
      "text/plain": [
       "  0%|          | 0/1 [00:00<?, ?it/s]"
      ]
     },
     "metadata": {},
     "output_type": "display_data"
    },
    {
     "name": "stdout",
     "output_type": "stream",
     "text": [
      "tensor(False, device='cuda:0')\n",
      "Training on batch 1/1 of epoch 7/100000 complete.\n",
      "Elapsed time from start (h:m:s): 00:00:02.59\n",
      "Losses:\n",
      "{'tot': 5.286107540130615, 'pitches': 5.286107540130615, 'rec': 5.286107540130615, 'kld': 495.99365234375, 'beta*kld': 0.0}\n",
      "Accuracies:\n",
      "{'pitches': 0.0}\n",
      "\n",
      "----------------------------------------\n",
      "\n"
     ]
    },
    {
     "data": {
      "application/vnd.jupyter.widget-view+json": {
       "model_id": "1bf1f4c82e1f422386b9dbb5271cce8e",
       "version_major": 2,
       "version_minor": 0
      },
      "text/plain": [
       "  0%|          | 0/1 [00:00<?, ?it/s]"
      ]
     },
     "metadata": {},
     "output_type": "display_data"
    },
    {
     "name": "stdout",
     "output_type": "stream",
     "text": [
      "tensor(False, device='cuda:0')\n",
      "Training on batch 1/1 of epoch 8/100000 complete.\n",
      "Elapsed time from start (h:m:s): 00:00:02.93\n",
      "Losses:\n",
      "{'tot': 5.28947639465332, 'pitches': 5.28947639465332, 'rec': 5.28947639465332, 'kld': 496.1271667480469, 'beta*kld': 0.0}\n",
      "Accuracies:\n",
      "{'pitches': 0.0}\n",
      "\n",
      "----------------------------------------\n",
      "\n"
     ]
    },
    {
     "data": {
      "application/vnd.jupyter.widget-view+json": {
       "model_id": "730179bd605748d9abffd67158b882d4",
       "version_major": 2,
       "version_minor": 0
      },
      "text/plain": [
       "  0%|          | 0/1 [00:00<?, ?it/s]"
      ]
     },
     "metadata": {},
     "output_type": "display_data"
    },
    {
     "name": "stdout",
     "output_type": "stream",
     "text": [
      "tensor(False, device='cuda:0')\n",
      "Training on batch 1/1 of epoch 9/100000 complete.\n",
      "Elapsed time from start (h:m:s): 00:00:03.27\n",
      "Losses:\n",
      "{'tot': 5.285030364990234, 'pitches': 5.285030364990234, 'rec': 5.285030364990234, 'kld': 496.2830505371094, 'beta*kld': 0.0}\n",
      "Accuracies:\n",
      "{'pitches': 0.0012519562151283026}\n",
      "\n",
      "----------------------------------------\n",
      "\n"
     ]
    },
    {
     "data": {
      "application/vnd.jupyter.widget-view+json": {
       "model_id": "7315b2a8c05c4b0f94dced54e5b453f6",
       "version_major": 2,
       "version_minor": 0
      },
      "text/plain": [
       "  0%|          | 0/1 [00:00<?, ?it/s]"
      ]
     },
     "metadata": {},
     "output_type": "display_data"
    },
    {
     "name": "stdout",
     "output_type": "stream",
     "text": [
      "tensor(False, device='cuda:0')\n",
      "Training on batch 1/1 of epoch 10/100000 complete.\n",
      "Elapsed time from start (h:m:s): 00:00:03.61\n",
      "Losses:\n",
      "{'tot': 5.274313449859619, 'pitches': 5.274313449859619, 'rec': 5.274313449859619, 'kld': 496.47406005859375, 'beta*kld': 0.0}\n",
      "Accuracies:\n",
      "{'pitches': 0.0037558686453849077}\n",
      "\n",
      "----------------------------------------\n",
      "\n"
     ]
    },
    {
     "data": {
      "application/vnd.jupyter.widget-view+json": {
       "model_id": "10dd9b31458d415ca1668e1ac41d6bf2",
       "version_major": 2,
       "version_minor": 0
      },
      "text/plain": [
       "  0%|          | 0/1 [00:00<?, ?it/s]"
      ]
     },
     "metadata": {},
     "output_type": "display_data"
    },
    {
     "name": "stdout",
     "output_type": "stream",
     "text": [
      "tensor(False, device='cuda:0')\n",
      "Training on batch 1/1 of epoch 11/100000 complete.\n",
      "Elapsed time from start (h:m:s): 00:00:03.96\n",
      "Losses:\n",
      "{'tot': 5.27323579788208, 'pitches': 5.27323579788208, 'rec': 5.27323579788208, 'kld': 496.69842529296875, 'beta*kld': 0.0}\n",
      "Accuracies:\n",
      "{'pitches': 0.0009389671613462269}\n",
      "\n",
      "----------------------------------------\n",
      "\n"
     ]
    },
    {
     "data": {
      "application/vnd.jupyter.widget-view+json": {
       "model_id": "783c971f618149c8859fb968b5fc4fff",
       "version_major": 2,
       "version_minor": 0
      },
      "text/plain": [
       "  0%|          | 0/1 [00:00<?, ?it/s]"
      ]
     },
     "metadata": {},
     "output_type": "display_data"
    },
    {
     "name": "stdout",
     "output_type": "stream",
     "text": [
      "tensor(False, device='cuda:0')\n",
      "Training on batch 1/1 of epoch 12/100000 complete.\n",
      "Elapsed time from start (h:m:s): 00:00:04.34\n",
      "Losses:\n",
      "{'tot': 5.285630226135254, 'pitches': 5.285630226135254, 'rec': 5.285630226135254, 'kld': 496.9397888183594, 'beta*kld': 0.0}\n",
      "Accuracies:\n",
      "{'pitches': 0.0012519562151283026}\n",
      "\n",
      "----------------------------------------\n",
      "\n"
     ]
    },
    {
     "data": {
      "application/vnd.jupyter.widget-view+json": {
       "model_id": "f9f3c7fcd94f475fa540955ffac308c3",
       "version_major": 2,
       "version_minor": 0
      },
      "text/plain": [
       "  0%|          | 0/1 [00:00<?, ?it/s]"
      ]
     },
     "metadata": {},
     "output_type": "display_data"
    },
    {
     "name": "stdout",
     "output_type": "stream",
     "text": [
      "tensor(False, device='cuda:0')\n",
      "Training on batch 1/1 of epoch 13/100000 complete.\n",
      "Elapsed time from start (h:m:s): 00:00:04.72\n",
      "Losses:\n",
      "{'tot': 5.2867817878723145, 'pitches': 5.2867817878723145, 'rec': 5.2867817878723145, 'kld': 497.2165222167969, 'beta*kld': 0.0}\n",
      "Accuracies:\n",
      "{'pitches': 0.0}\n",
      "\n",
      "----------------------------------------\n",
      "\n"
     ]
    },
    {
     "data": {
      "application/vnd.jupyter.widget-view+json": {
       "model_id": "e813a6335e5049338900938370ac578a",
       "version_major": 2,
       "version_minor": 0
      },
      "text/plain": [
       "  0%|          | 0/1 [00:00<?, ?it/s]"
      ]
     },
     "metadata": {},
     "output_type": "display_data"
    },
    {
     "name": "stdout",
     "output_type": "stream",
     "text": [
      "tensor(False, device='cuda:0')\n",
      "Training on batch 1/1 of epoch 14/100000 complete.\n",
      "Elapsed time from start (h:m:s): 00:00:05.09\n",
      "Losses:\n",
      "{'tot': 5.289563179016113, 'pitches': 5.289563179016113, 'rec': 5.289563179016113, 'kld': 497.537353515625, 'beta*kld': 0.0}\n",
      "Accuracies:\n",
      "{'pitches': 0.0}\n",
      "\n",
      "----------------------------------------\n",
      "\n"
     ]
    },
    {
     "data": {
      "application/vnd.jupyter.widget-view+json": {
       "model_id": "7ba27090d2994c9aa44f2f4fb1e283f7",
       "version_major": 2,
       "version_minor": 0
      },
      "text/plain": [
       "  0%|          | 0/1 [00:00<?, ?it/s]"
      ]
     },
     "metadata": {},
     "output_type": "display_data"
    },
    {
     "name": "stdout",
     "output_type": "stream",
     "text": [
      "tensor(False, device='cuda:0')\n",
      "Training on batch 1/1 of epoch 15/100000 complete.\n",
      "Elapsed time from start (h:m:s): 00:00:05.43\n",
      "Losses:\n",
      "{'tot': 5.272425651550293, 'pitches': 5.272425651550293, 'rec': 5.272425651550293, 'kld': 497.88427734375, 'beta*kld': 0.0}\n",
      "Accuracies:\n",
      "{'pitches': 0.0006259781075641513}\n",
      "\n",
      "----------------------------------------\n",
      "\n"
     ]
    },
    {
     "data": {
      "application/vnd.jupyter.widget-view+json": {
       "model_id": "b0410b1fe0b5447198653c3cd4997b4b",
       "version_major": 2,
       "version_minor": 0
      },
      "text/plain": [
       "  0%|          | 0/1 [00:00<?, ?it/s]"
      ]
     },
     "metadata": {},
     "output_type": "display_data"
    },
    {
     "name": "stdout",
     "output_type": "stream",
     "text": [
      "tensor(False, device='cuda:0')\n",
      "Training on batch 1/1 of epoch 16/100000 complete.\n",
      "Elapsed time from start (h:m:s): 00:00:05.87\n",
      "Losses:\n",
      "{'tot': 5.278407573699951, 'pitches': 5.278407573699951, 'rec': 5.278407573699951, 'kld': 498.2671813964844, 'beta*kld': 0.0}\n",
      "Accuracies:\n",
      "{'pitches': 0.0}\n",
      "\n",
      "----------------------------------------\n",
      "\n"
     ]
    },
    {
     "data": {
      "application/vnd.jupyter.widget-view+json": {
       "model_id": "d0e549921b554d40983dc4178001c076",
       "version_major": 2,
       "version_minor": 0
      },
      "text/plain": [
       "  0%|          | 0/1 [00:00<?, ?it/s]"
      ]
     },
     "metadata": {},
     "output_type": "display_data"
    },
    {
     "name": "stdout",
     "output_type": "stream",
     "text": [
      "tensor(False, device='cuda:0')\n",
      "Training on batch 1/1 of epoch 17/100000 complete.\n",
      "Elapsed time from start (h:m:s): 00:00:06.22\n",
      "Losses:\n",
      "{'tot': 5.269392013549805, 'pitches': 5.269392013549805, 'rec': 5.269392013549805, 'kld': 498.7019348144531, 'beta*kld': 0.0}\n",
      "Accuracies:\n",
      "{'pitches': 0.0006259781075641513}\n",
      "\n",
      "----------------------------------------\n",
      "\n"
     ]
    },
    {
     "data": {
      "application/vnd.jupyter.widget-view+json": {
       "model_id": "fa45b6e03a464896bafdc2ece0c41da7",
       "version_major": 2,
       "version_minor": 0
      },
      "text/plain": [
       "  0%|          | 0/1 [00:00<?, ?it/s]"
      ]
     },
     "metadata": {},
     "output_type": "display_data"
    },
    {
     "name": "stdout",
     "output_type": "stream",
     "text": [
      "tensor(False, device='cuda:0')\n",
      "Training on batch 1/1 of epoch 18/100000 complete.\n",
      "Elapsed time from start (h:m:s): 00:00:06.65\n",
      "Losses:\n",
      "{'tot': 5.26263427734375, 'pitches': 5.26263427734375, 'rec': 5.26263427734375, 'kld': 499.1624450683594, 'beta*kld': 0.0}\n",
      "Accuracies:\n",
      "{'pitches': 0.0}\n",
      "\n",
      "----------------------------------------\n",
      "\n"
     ]
    },
    {
     "data": {
      "application/vnd.jupyter.widget-view+json": {
       "model_id": "1d76fee084574345881a19a848bdb105",
       "version_major": 2,
       "version_minor": 0
      },
      "text/plain": [
       "  0%|          | 0/1 [00:00<?, ?it/s]"
      ]
     },
     "metadata": {},
     "output_type": "display_data"
    },
    {
     "name": "stdout",
     "output_type": "stream",
     "text": [
      "tensor(False, device='cuda:0')\n",
      "Training on batch 1/1 of epoch 19/100000 complete.\n",
      "Elapsed time from start (h:m:s): 00:00:07.02\n",
      "Losses:\n",
      "{'tot': 5.248762607574463, 'pitches': 5.248762607574463, 'rec': 5.248762607574463, 'kld': 499.6529846191406, 'beta*kld': 0.0}\n",
      "Accuracies:\n",
      "{'pitches': 0.0}\n",
      "\n",
      "----------------------------------------\n",
      "\n"
     ]
    },
    {
     "data": {
      "application/vnd.jupyter.widget-view+json": {
       "model_id": "611090ba520142b7994d5925b515fa3a",
       "version_major": 2,
       "version_minor": 0
      },
      "text/plain": [
       "  0%|          | 0/1 [00:00<?, ?it/s]"
      ]
     },
     "metadata": {},
     "output_type": "display_data"
    },
    {
     "name": "stdout",
     "output_type": "stream",
     "text": [
      "tensor(False, device='cuda:0')\n",
      "Training on batch 1/1 of epoch 20/100000 complete.\n",
      "Elapsed time from start (h:m:s): 00:00:07.39\n",
      "Losses:\n",
      "{'tot': 5.263417720794678, 'pitches': 5.263417720794678, 'rec': 5.263417720794678, 'kld': 500.18353271484375, 'beta*kld': 0.0}\n",
      "Accuracies:\n",
      "{'pitches': 0.0012519562151283026}\n",
      "\n",
      "----------------------------------------\n",
      "\n"
     ]
    },
    {
     "data": {
      "application/vnd.jupyter.widget-view+json": {
       "model_id": "950532de03dd4adc92edd21160cbac4b",
       "version_major": 2,
       "version_minor": 0
      },
      "text/plain": [
       "  0%|          | 0/1 [00:00<?, ?it/s]"
      ]
     },
     "metadata": {},
     "output_type": "display_data"
    },
    {
     "name": "stdout",
     "output_type": "stream",
     "text": [
      "tensor(False, device='cuda:0')\n",
      "Training on batch 1/1 of epoch 21/100000 complete.\n",
      "Elapsed time from start (h:m:s): 00:00:07.75\n",
      "Losses:\n",
      "{'tot': 5.250023365020752, 'pitches': 5.250023365020752, 'rec': 5.250023365020752, 'kld': 500.7305603027344, 'beta*kld': 0.0}\n",
      "Accuracies:\n",
      "{'pitches': 0.0}\n",
      "\n",
      "----------------------------------------\n",
      "\n"
     ]
    },
    {
     "data": {
      "application/vnd.jupyter.widget-view+json": {
       "model_id": "d4ea1ff5d9264fd4a50d51127fe47303",
       "version_major": 2,
       "version_minor": 0
      },
      "text/plain": [
       "  0%|          | 0/1 [00:00<?, ?it/s]"
      ]
     },
     "metadata": {},
     "output_type": "display_data"
    },
    {
     "name": "stdout",
     "output_type": "stream",
     "text": [
      "tensor(False, device='cuda:0')\n",
      "Training on batch 1/1 of epoch 22/100000 complete.\n",
      "Elapsed time from start (h:m:s): 00:00:08.08\n",
      "Losses:\n",
      "{'tot': 5.247862339019775, 'pitches': 5.247862339019775, 'rec': 5.247862339019775, 'kld': 501.3150634765625, 'beta*kld': 0.0}\n",
      "Accuracies:\n",
      "{'pitches': 0.0012519562151283026}\n",
      "\n",
      "----------------------------------------\n",
      "\n"
     ]
    },
    {
     "data": {
      "application/vnd.jupyter.widget-view+json": {
       "model_id": "58142f7071114e9b895db10d2b1041bb",
       "version_major": 2,
       "version_minor": 0
      },
      "text/plain": [
       "  0%|          | 0/1 [00:00<?, ?it/s]"
      ]
     },
     "metadata": {},
     "output_type": "display_data"
    },
    {
     "name": "stdout",
     "output_type": "stream",
     "text": [
      "tensor(False, device='cuda:0')\n",
      "Training on batch 1/1 of epoch 23/100000 complete.\n",
      "Elapsed time from start (h:m:s): 00:00:08.41\n",
      "Losses:\n",
      "{'tot': 5.244707107543945, 'pitches': 5.244707107543945, 'rec': 5.244707107543945, 'kld': 501.95758056640625, 'beta*kld': 0.0}\n",
      "Accuracies:\n",
      "{'pitches': 0.0037558686453849077}\n",
      "\n",
      "----------------------------------------\n",
      "\n"
     ]
    },
    {
     "data": {
      "application/vnd.jupyter.widget-view+json": {
       "model_id": "6f628c1a182d49afb0f6aaa4f92badb3",
       "version_major": 2,
       "version_minor": 0
      },
      "text/plain": [
       "  0%|          | 0/1 [00:00<?, ?it/s]"
      ]
     },
     "metadata": {},
     "output_type": "display_data"
    },
    {
     "name": "stdout",
     "output_type": "stream",
     "text": [
      "tensor(False, device='cuda:0')\n",
      "Training on batch 1/1 of epoch 24/100000 complete.\n",
      "Elapsed time from start (h:m:s): 00:00:08.77\n",
      "Losses:\n",
      "{'tot': 5.243124485015869, 'pitches': 5.243124485015869, 'rec': 5.243124485015869, 'kld': 502.6131591796875, 'beta*kld': 0.0}\n",
      "Accuracies:\n",
      "{'pitches': 0.0}\n",
      "\n",
      "----------------------------------------\n",
      "\n"
     ]
    },
    {
     "data": {
      "application/vnd.jupyter.widget-view+json": {
       "model_id": "97646af8a9ce44d1b9a93224c383f3d7",
       "version_major": 2,
       "version_minor": 0
      },
      "text/plain": [
       "  0%|          | 0/1 [00:00<?, ?it/s]"
      ]
     },
     "metadata": {},
     "output_type": "display_data"
    },
    {
     "name": "stdout",
     "output_type": "stream",
     "text": [
      "tensor(False, device='cuda:0')\n",
      "Training on batch 1/1 of epoch 25/100000 complete.\n",
      "Elapsed time from start (h:m:s): 00:00:09.12\n",
      "Losses:\n",
      "{'tot': 5.2547760009765625, 'pitches': 5.2547760009765625, 'rec': 5.2547760009765625, 'kld': 503.33331298828125, 'beta*kld': 0.0}\n",
      "Accuracies:\n",
      "{'pitches': 0.0}\n",
      "\n",
      "----------------------------------------\n",
      "\n"
     ]
    },
    {
     "data": {
      "application/vnd.jupyter.widget-view+json": {
       "model_id": "6963b823cb76484097ab19b2c4cbd3ea",
       "version_major": 2,
       "version_minor": 0
      },
      "text/plain": [
       "  0%|          | 0/1 [00:00<?, ?it/s]"
      ]
     },
     "metadata": {},
     "output_type": "display_data"
    },
    {
     "name": "stdout",
     "output_type": "stream",
     "text": [
      "tensor(False, device='cuda:0')\n",
      "Training on batch 1/1 of epoch 26/100000 complete.\n",
      "Elapsed time from start (h:m:s): 00:00:09.47\n",
      "Losses:\n",
      "{'tot': 5.237988471984863, 'pitches': 5.237988471984863, 'rec': 5.237988471984863, 'kld': 504.0751953125, 'beta*kld': 0.0}\n",
      "Accuracies:\n",
      "{'pitches': 0.0012519562151283026}\n",
      "\n",
      "----------------------------------------\n",
      "\n"
     ]
    },
    {
     "data": {
      "application/vnd.jupyter.widget-view+json": {
       "model_id": "0cc97b80830d43a7ab7f1fc51ec032fb",
       "version_major": 2,
       "version_minor": 0
      },
      "text/plain": [
       "  0%|          | 0/1 [00:00<?, ?it/s]"
      ]
     },
     "metadata": {},
     "output_type": "display_data"
    },
    {
     "name": "stdout",
     "output_type": "stream",
     "text": [
      "tensor(False, device='cuda:0')\n",
      "Training on batch 1/1 of epoch 27/100000 complete.\n",
      "Elapsed time from start (h:m:s): 00:00:09.82\n",
      "Losses:\n",
      "{'tot': 5.237843990325928, 'pitches': 5.237843990325928, 'rec': 5.237843990325928, 'kld': 504.8511657714844, 'beta*kld': 0.0}\n",
      "Accuracies:\n",
      "{'pitches': 0.002503912430256605}\n",
      "\n",
      "----------------------------------------\n",
      "\n"
     ]
    },
    {
     "data": {
      "application/vnd.jupyter.widget-view+json": {
       "model_id": "56a5e661e88d4ed881187692271761be",
       "version_major": 2,
       "version_minor": 0
      },
      "text/plain": [
       "  0%|          | 0/1 [00:00<?, ?it/s]"
      ]
     },
     "metadata": {},
     "output_type": "display_data"
    },
    {
     "name": "stdout",
     "output_type": "stream",
     "text": [
      "tensor(False, device='cuda:0')\n",
      "Training on batch 1/1 of epoch 28/100000 complete.\n",
      "Elapsed time from start (h:m:s): 00:00:10.17\n",
      "Losses:\n",
      "{'tot': 5.239572525024414, 'pitches': 5.239572525024414, 'rec': 5.239572525024414, 'kld': 505.66925048828125, 'beta*kld': 0.0}\n",
      "Accuracies:\n",
      "{'pitches': 0.0}\n",
      "\n",
      "----------------------------------------\n",
      "\n"
     ]
    },
    {
     "data": {
      "application/vnd.jupyter.widget-view+json": {
       "model_id": "112a86976c6941d6a8e00c2a9a805d1f",
       "version_major": 2,
       "version_minor": 0
      },
      "text/plain": [
       "  0%|          | 0/1 [00:00<?, ?it/s]"
      ]
     },
     "metadata": {},
     "output_type": "display_data"
    },
    {
     "name": "stdout",
     "output_type": "stream",
     "text": [
      "tensor(False, device='cuda:0')\n",
      "Training on batch 1/1 of epoch 29/100000 complete.\n",
      "Elapsed time from start (h:m:s): 00:00:10.50\n",
      "Losses:\n",
      "{'tot': 5.228439807891846, 'pitches': 5.228439807891846, 'rec': 5.228439807891846, 'kld': 506.5015869140625, 'beta*kld': 0.0}\n",
      "Accuracies:\n",
      "{'pitches': 0.0}\n",
      "\n",
      "----------------------------------------\n",
      "\n"
     ]
    },
    {
     "data": {
      "application/vnd.jupyter.widget-view+json": {
       "model_id": "ba61f3d411f1426bb22b34831f723f07",
       "version_major": 2,
       "version_minor": 0
      },
      "text/plain": [
       "  0%|          | 0/1 [00:00<?, ?it/s]"
      ]
     },
     "metadata": {},
     "output_type": "display_data"
    },
    {
     "name": "stdout",
     "output_type": "stream",
     "text": [
      "tensor(False, device='cuda:0')\n",
      "Training on batch 1/1 of epoch 30/100000 complete.\n",
      "Elapsed time from start (h:m:s): 00:00:10.83\n",
      "Losses:\n",
      "{'tot': 5.223618984222412, 'pitches': 5.223618984222412, 'rec': 5.223618984222412, 'kld': 507.36517333984375, 'beta*kld': 0.0}\n",
      "Accuracies:\n",
      "{'pitches': 0.0006259781075641513}\n",
      "\n",
      "----------------------------------------\n",
      "\n"
     ]
    },
    {
     "data": {
      "application/vnd.jupyter.widget-view+json": {
       "model_id": "fddfb0936c4044499e2ebe8539cf49a8",
       "version_major": 2,
       "version_minor": 0
      },
      "text/plain": [
       "  0%|          | 0/1 [00:00<?, ?it/s]"
      ]
     },
     "metadata": {},
     "output_type": "display_data"
    },
    {
     "name": "stdout",
     "output_type": "stream",
     "text": [
      "tensor(False, device='cuda:0')\n",
      "Training on batch 1/1 of epoch 31/100000 complete.\n",
      "Elapsed time from start (h:m:s): 00:00:11.20\n",
      "Losses:\n",
      "{'tot': 5.22419548034668, 'pitches': 5.22419548034668, 'rec': 5.22419548034668, 'kld': 508.2520751953125, 'beta*kld': 0.0}\n",
      "Accuracies:\n",
      "{'pitches': 0.004068857524544001}\n",
      "\n",
      "----------------------------------------\n",
      "\n"
     ]
    },
    {
     "data": {
      "application/vnd.jupyter.widget-view+json": {
       "model_id": "4894fabbdcd84643ac8d8be91b89736f",
       "version_major": 2,
       "version_minor": 0
      },
      "text/plain": [
       "  0%|          | 0/1 [00:00<?, ?it/s]"
      ]
     },
     "metadata": {},
     "output_type": "display_data"
    },
    {
     "name": "stdout",
     "output_type": "stream",
     "text": [
      "tensor(False, device='cuda:0')\n",
      "Training on batch 1/1 of epoch 32/100000 complete.\n",
      "Elapsed time from start (h:m:s): 00:00:11.58\n",
      "Losses:\n",
      "{'tot': 5.225758075714111, 'pitches': 5.225758075714111, 'rec': 5.225758075714111, 'kld': 509.21954345703125, 'beta*kld': 0.0}\n",
      "Accuracies:\n",
      "{'pitches': 0.0}\n",
      "\n",
      "----------------------------------------\n",
      "\n"
     ]
    },
    {
     "data": {
      "application/vnd.jupyter.widget-view+json": {
       "model_id": "6fd7c2d90aec4723a83dbcf5acda473b",
       "version_major": 2,
       "version_minor": 0
      },
      "text/plain": [
       "  0%|          | 0/1 [00:00<?, ?it/s]"
      ]
     },
     "metadata": {},
     "output_type": "display_data"
    },
    {
     "name": "stdout",
     "output_type": "stream",
     "text": [
      "tensor(False, device='cuda:0')\n",
      "Training on batch 1/1 of epoch 33/100000 complete.\n",
      "Elapsed time from start (h:m:s): 00:00:11.95\n",
      "Losses:\n",
      "{'tot': 5.218564033508301, 'pitches': 5.218564033508301, 'rec': 5.218564033508301, 'kld': 510.2613525390625, 'beta*kld': 0.0}\n",
      "Accuracies:\n",
      "{'pitches': 0.0012519562151283026}\n",
      "\n",
      "----------------------------------------\n",
      "\n"
     ]
    },
    {
     "data": {
      "application/vnd.jupyter.widget-view+json": {
       "model_id": "8adf0663fd8d473a849db8138e34a37d",
       "version_major": 2,
       "version_minor": 0
      },
      "text/plain": [
       "  0%|          | 0/1 [00:00<?, ?it/s]"
      ]
     },
     "metadata": {},
     "output_type": "display_data"
    },
    {
     "name": "stdout",
     "output_type": "stream",
     "text": [
      "tensor(False, device='cuda:0')\n",
      "Training on batch 1/1 of epoch 34/100000 complete.\n",
      "Elapsed time from start (h:m:s): 00:00:12.32\n",
      "Losses:\n",
      "{'tot': 5.208335876464844, 'pitches': 5.208335876464844, 'rec': 5.208335876464844, 'kld': 511.31634521484375, 'beta*kld': 0.0}\n",
      "Accuracies:\n",
      "{'pitches': 0.0}\n",
      "\n",
      "----------------------------------------\n",
      "\n"
     ]
    },
    {
     "data": {
      "application/vnd.jupyter.widget-view+json": {
       "model_id": "e39d40effa4543a1b7623b23d8abdd1e",
       "version_major": 2,
       "version_minor": 0
      },
      "text/plain": [
       "  0%|          | 0/1 [00:00<?, ?it/s]"
      ]
     },
     "metadata": {},
     "output_type": "display_data"
    },
    {
     "name": "stdout",
     "output_type": "stream",
     "text": [
      "tensor(False, device='cuda:0')\n",
      "Training on batch 1/1 of epoch 35/100000 complete.\n",
      "Elapsed time from start (h:m:s): 00:00:12.73\n",
      "Losses:\n",
      "{'tot': 5.207505702972412, 'pitches': 5.207505702972412, 'rec': 5.207505702972412, 'kld': 512.4274291992188, 'beta*kld': 0.0}\n",
      "Accuracies:\n",
      "{'pitches': 0.0009389671613462269}\n",
      "\n",
      "----------------------------------------\n",
      "\n"
     ]
    },
    {
     "data": {
      "application/vnd.jupyter.widget-view+json": {
       "model_id": "b049227663794b81aaaefabdcc4ec757",
       "version_major": 2,
       "version_minor": 0
      },
      "text/plain": [
       "  0%|          | 0/1 [00:00<?, ?it/s]"
      ]
     },
     "metadata": {},
     "output_type": "display_data"
    },
    {
     "name": "stdout",
     "output_type": "stream",
     "text": [
      "tensor(False, device='cuda:0')\n",
      "Training on batch 1/1 of epoch 36/100000 complete.\n",
      "Elapsed time from start (h:m:s): 00:00:13.12\n",
      "Losses:\n",
      "{'tot': 5.203339576721191, 'pitches': 5.203339576721191, 'rec': 5.203339576721191, 'kld': 513.5479736328125, 'beta*kld': 0.0}\n",
      "Accuracies:\n",
      "{'pitches': 0.0012519562151283026}\n",
      "\n",
      "----------------------------------------\n",
      "\n"
     ]
    },
    {
     "data": {
      "application/vnd.jupyter.widget-view+json": {
       "model_id": "55e03b73ba884cedb056169a789a5196",
       "version_major": 2,
       "version_minor": 0
      },
      "text/plain": [
       "  0%|          | 0/1 [00:00<?, ?it/s]"
      ]
     },
     "metadata": {},
     "output_type": "display_data"
    },
    {
     "name": "stdout",
     "output_type": "stream",
     "text": [
      "tensor(False, device='cuda:0')\n",
      "Training on batch 1/1 of epoch 37/100000 complete.\n",
      "Elapsed time from start (h:m:s): 00:00:13.50\n",
      "Losses:\n",
      "{'tot': 5.186748027801514, 'pitches': 5.186748027801514, 'rec': 5.186748027801514, 'kld': 514.7349243164062, 'beta*kld': 0.0}\n",
      "Accuracies:\n",
      "{'pitches': 0.0012519562151283026}\n",
      "\n",
      "----------------------------------------\n",
      "\n"
     ]
    },
    {
     "data": {
      "application/vnd.jupyter.widget-view+json": {
       "model_id": "fc2002a1d0884fcdbbbf8949b110a7d7",
       "version_major": 2,
       "version_minor": 0
      },
      "text/plain": [
       "  0%|          | 0/1 [00:00<?, ?it/s]"
      ]
     },
     "metadata": {},
     "output_type": "display_data"
    },
    {
     "name": "stdout",
     "output_type": "stream",
     "text": [
      "tensor(False, device='cuda:0')\n",
      "Training on batch 1/1 of epoch 38/100000 complete.\n",
      "Elapsed time from start (h:m:s): 00:00:13.87\n",
      "Losses:\n",
      "{'tot': 5.187756061553955, 'pitches': 5.187756061553955, 'rec': 5.187756061553955, 'kld': 515.974609375, 'beta*kld': 0.0}\n",
      "Accuracies:\n",
      "{'pitches': 0.0}\n",
      "\n",
      "----------------------------------------\n",
      "\n"
     ]
    },
    {
     "data": {
      "application/vnd.jupyter.widget-view+json": {
       "model_id": "5ba4a484ca314d94b5b5fd902b2eade4",
       "version_major": 2,
       "version_minor": 0
      },
      "text/plain": [
       "  0%|          | 0/1 [00:00<?, ?it/s]"
      ]
     },
     "metadata": {},
     "output_type": "display_data"
    },
    {
     "name": "stdout",
     "output_type": "stream",
     "text": [
      "tensor(False, device='cuda:0')\n",
      "Training on batch 1/1 of epoch 39/100000 complete.\n",
      "Elapsed time from start (h:m:s): 00:00:14.23\n",
      "Losses:\n",
      "{'tot': 5.173545837402344, 'pitches': 5.173545837402344, 'rec': 5.173545837402344, 'kld': 517.29248046875, 'beta*kld': 0.0}\n",
      "Accuracies:\n",
      "{'pitches': 0.0}\n",
      "\n",
      "----------------------------------------\n",
      "\n"
     ]
    },
    {
     "data": {
      "application/vnd.jupyter.widget-view+json": {
       "model_id": "30d9b413df6246d98c070cde0d6d5f17",
       "version_major": 2,
       "version_minor": 0
      },
      "text/plain": [
       "  0%|          | 0/1 [00:00<?, ?it/s]"
      ]
     },
     "metadata": {},
     "output_type": "display_data"
    },
    {
     "name": "stdout",
     "output_type": "stream",
     "text": [
      "tensor(False, device='cuda:0')\n",
      "Training on batch 1/1 of epoch 40/100000 complete.\n",
      "Elapsed time from start (h:m:s): 00:00:14.58\n",
      "Losses:\n",
      "{'tot': 5.178611755371094, 'pitches': 5.178611755371094, 'rec': 5.178611755371094, 'kld': 518.59423828125, 'beta*kld': 0.0}\n",
      "Accuracies:\n",
      "{'pitches': 0.0}\n",
      "\n",
      "----------------------------------------\n",
      "\n"
     ]
    },
    {
     "data": {
      "application/vnd.jupyter.widget-view+json": {
       "model_id": "aec75a4bb5b741debc5040747f909b60",
       "version_major": 2,
       "version_minor": 0
      },
      "text/plain": [
       "  0%|          | 0/1 [00:00<?, ?it/s]"
      ]
     },
     "metadata": {},
     "output_type": "display_data"
    },
    {
     "name": "stdout",
     "output_type": "stream",
     "text": [
      "tensor(False, device='cuda:0')\n",
      "Training on batch 1/1 of epoch 41/100000 complete.\n",
      "Elapsed time from start (h:m:s): 00:00:14.93\n",
      "Losses:\n",
      "{'tot': 5.169253826141357, 'pitches': 5.169253826141357, 'rec': 5.169253826141357, 'kld': 519.995361328125, 'beta*kld': 0.0}\n",
      "Accuracies:\n",
      "{'pitches': 0.0}\n",
      "\n",
      "----------------------------------------\n",
      "\n"
     ]
    },
    {
     "data": {
      "application/vnd.jupyter.widget-view+json": {
       "model_id": "5fc27f4bf7a64c6bb8d79e81e6c755a9",
       "version_major": 2,
       "version_minor": 0
      },
      "text/plain": [
       "  0%|          | 0/1 [00:00<?, ?it/s]"
      ]
     },
     "metadata": {},
     "output_type": "display_data"
    },
    {
     "name": "stdout",
     "output_type": "stream",
     "text": [
      "tensor(False, device='cuda:0')\n",
      "Training on batch 1/1 of epoch 42/100000 complete.\n",
      "Elapsed time from start (h:m:s): 00:00:15.28\n",
      "Losses:\n",
      "{'tot': 5.1605072021484375, 'pitches': 5.1605072021484375, 'rec': 5.1605072021484375, 'kld': 521.4715576171875, 'beta*kld': 0.0}\n",
      "Accuracies:\n",
      "{'pitches': 0.0}\n",
      "\n",
      "----------------------------------------\n",
      "\n"
     ]
    },
    {
     "data": {
      "application/vnd.jupyter.widget-view+json": {
       "model_id": "70f9bbc0b49647269f8002db55d3b7fc",
       "version_major": 2,
       "version_minor": 0
      },
      "text/plain": [
       "  0%|          | 0/1 [00:00<?, ?it/s]"
      ]
     },
     "metadata": {},
     "output_type": "display_data"
    },
    {
     "name": "stdout",
     "output_type": "stream",
     "text": [
      "tensor(False, device='cuda:0')\n",
      "Training on batch 1/1 of epoch 43/100000 complete.\n",
      "Elapsed time from start (h:m:s): 00:00:15.61\n",
      "Losses:\n",
      "{'tot': 5.147210597991943, 'pitches': 5.147210597991943, 'rec': 5.147210597991943, 'kld': 522.900634765625, 'beta*kld': 0.0}\n",
      "Accuracies:\n",
      "{'pitches': 0.0012519562151283026}\n",
      "\n",
      "----------------------------------------\n",
      "\n"
     ]
    },
    {
     "data": {
      "application/vnd.jupyter.widget-view+json": {
       "model_id": "e721afda55ce4f06ad3303e2cfba880e",
       "version_major": 2,
       "version_minor": 0
      },
      "text/plain": [
       "  0%|          | 0/1 [00:00<?, ?it/s]"
      ]
     },
     "metadata": {},
     "output_type": "display_data"
    },
    {
     "name": "stdout",
     "output_type": "stream",
     "text": [
      "tensor(False, device='cuda:0')\n",
      "Training on batch 1/1 of epoch 44/100000 complete.\n",
      "Elapsed time from start (h:m:s): 00:00:15.96\n",
      "Losses:\n",
      "{'tot': 5.145430564880371, 'pitches': 5.145430564880371, 'rec': 5.145430564880371, 'kld': 524.361572265625, 'beta*kld': 0.0}\n",
      "Accuracies:\n",
      "{'pitches': 0.00500782486051321}\n",
      "\n",
      "----------------------------------------\n",
      "\n"
     ]
    },
    {
     "data": {
      "application/vnd.jupyter.widget-view+json": {
       "model_id": "0381eeb635f541a1869df1210e2d9f19",
       "version_major": 2,
       "version_minor": 0
      },
      "text/plain": [
       "  0%|          | 0/1 [00:00<?, ?it/s]"
      ]
     },
     "metadata": {},
     "output_type": "display_data"
    },
    {
     "name": "stdout",
     "output_type": "stream",
     "text": [
      "tensor(False, device='cuda:0')\n",
      "Training on batch 1/1 of epoch 45/100000 complete.\n",
      "Elapsed time from start (h:m:s): 00:00:16.33\n",
      "Losses:\n",
      "{'tot': 5.145199298858643, 'pitches': 5.145199298858643, 'rec': 5.145199298858643, 'kld': 525.8040771484375, 'beta*kld': 0.0}\n",
      "Accuracies:\n",
      "{'pitches': 0.0021909233182668686}\n",
      "\n",
      "----------------------------------------\n",
      "\n"
     ]
    },
    {
     "data": {
      "application/vnd.jupyter.widget-view+json": {
       "model_id": "a158447785ce42638835812b674b7ca4",
       "version_major": 2,
       "version_minor": 0
      },
      "text/plain": [
       "  0%|          | 0/1 [00:00<?, ?it/s]"
      ]
     },
     "metadata": {},
     "output_type": "display_data"
    },
    {
     "name": "stdout",
     "output_type": "stream",
     "text": [
      "tensor(False, device='cuda:0')\n",
      "Training on batch 1/1 of epoch 46/100000 complete.\n",
      "Elapsed time from start (h:m:s): 00:00:16.70\n",
      "Losses:\n",
      "{'tot': 5.136880874633789, 'pitches': 5.136880874633789, 'rec': 5.136880874633789, 'kld': 527.2901611328125, 'beta*kld': 0.0}\n",
      "Accuracies:\n",
      "{'pitches': 0.0}\n",
      "\n",
      "----------------------------------------\n",
      "\n"
     ]
    },
    {
     "data": {
      "application/vnd.jupyter.widget-view+json": {
       "model_id": "8f65abbf7dd44fc48254cc5e060108ee",
       "version_major": 2,
       "version_minor": 0
      },
      "text/plain": [
       "  0%|          | 0/1 [00:00<?, ?it/s]"
      ]
     },
     "metadata": {},
     "output_type": "display_data"
    }
   ],
   "source": [
    "#from lr_scheduler.transformer_lr_scheduler import TransformerLRScheduler\n",
    "\n",
    "print(\"Creating the model and moving it to the specified device...\")\n",
    "\n",
    "vae = VAE(dropout=0).to(device)\n",
    "print_params(vae)\n",
    "print()\n",
    "\n",
    "init_lr = 5e-6\n",
    "gamma = 0.999\n",
    "optimizer = optim.Adam(vae.parameters(), lr=init_lr, betas=(0.9, 0.98), eps=1e-09)\n",
    "#scheduler = optim.lr_scheduler.ExponentialLR(optimizer, gamma)\n",
    "scheduler = TransformerLRScheduler(\n",
    "        optimizer=optimizer, \n",
    "        init_lr=1e-10, \n",
    "        peak_lr=1e-4,\n",
    "        final_lr=1e-7, \n",
    "        final_lr_scale=0.1,\n",
    "        warmup_steps=4000, \n",
    "        decay_steps=80000,\n",
    ")\n",
    "\n",
    "print('--------------------------------------------------\\n')\n",
    "\n",
    "trainer = VAETrainer(\n",
    "    vae,\n",
    "    models_path,\n",
    "    optimizer,\n",
    "    init_lr,\n",
    "    name='just_pitches_warmup_small_rgcn',\n",
    "    lr_scheduler=scheduler,\n",
    "    save_every=100, \n",
    "    device=device\n",
    ")\n",
    "trainer.train(loader, epochs=100000)"
   ]
  },
  {
   "cell_type": "markdown",
   "metadata": {},
   "source": [
    "## Reconstructions"
   ]
  },
  {
   "cell_type": "code",
   "execution_count": null,
   "metadata": {},
   "outputs": [],
   "source": [
    "checkpoint = torch.load('models/just_pitches_warmup')"
   ]
  },
  {
   "cell_type": "code",
   "execution_count": null,
   "metadata": {},
   "outputs": [],
   "source": [
    "state_dict = checkpoint['model_state_dict']\n",
    "vae = VAE().to(device)"
   ]
  },
  {
   "cell_type": "code",
   "execution_count": null,
   "metadata": {},
   "outputs": [],
   "source": [
    "vae.load_state_dict(state_dict)"
   ]
  },
  {
   "cell_type": "code",
   "execution_count": null,
   "metadata": {},
   "outputs": [],
   "source": [
    "loader = DataLoader(dataset, batch_size=32, shuffle=False)\n",
    "len(dataset)"
   ]
  },
  {
   "cell_type": "code",
   "execution_count": null,
   "metadata": {},
   "outputs": [],
   "source": [
    "for idx, inputs in enumerate(loader):\n",
    "    \n",
    "    x_seq, x_acts, x_graph, src_mask = inputs\n",
    "    x_seq = x_seq.float().to(device)\n",
    "    x_acts = x_acts.to(device)\n",
    "    x_graph = x_graph.to(device)\n",
    "    src_mask = src_mask.to(device)\n",
    "    tgt_mask = generate_square_subsequent_mask(x_seq.size(-2)-1).to(device)\n",
    "\n",
    "    # Forward pass, get the reconstructions\n",
    "    outputs, mu, log_var = vae(x_seq, x_acts, x_graph, src_mask, tgt_mask)\n",
    "    \n",
    "    break\n",
    "\n",
    "seq_rec, _  = outputs"
   ]
  },
  {
   "cell_type": "code",
   "execution_count": null,
   "metadata": {},
   "outputs": [],
   "source": [
    "x_seq.size()"
   ]
  },
  {
   "cell_type": "code",
   "execution_count": null,
   "metadata": {},
   "outputs": [],
   "source": [
    "seq_rec.size()"
   ]
  },
  {
   "cell_type": "code",
   "execution_count": null,
   "metadata": {},
   "outputs": [],
   "source": [
    "x_acts.size()"
   ]
  },
  {
   "cell_type": "markdown",
   "metadata": {},
   "source": [
    "Create dense reconstruction from sparse reconstruction:"
   ]
  },
  {
   "cell_type": "code",
   "execution_count": null,
   "metadata": {},
   "outputs": [],
   "source": [
    "seq_rec_dense = torch.zeros(x_seq.size(), dtype=torch.float).to(device)\n",
    "seq_rec_dense = seq_rec_dense[..., 1:, :]\n",
    "size = seq_rec_dense.size()\n",
    "\n",
    "seq_rec_dense = seq_rec_dense.view(-1, seq_rec_dense.size(-2), seq_rec_dense.size(-1))\n",
    "\n",
    "silence = torch.zeros(seq_rec_dense.size(-2), seq_rec_dense.size(-1)).to(device)\n",
    "silence[:, 129] = 1. # eos token\n",
    "\n",
    "seq_rec_dense[x_acts.bool().view(-1)] = seq_rec\n",
    "seq_rec_dense[torch.logical_not(x_acts.bool().view(-1))] = silence\n",
    "\n",
    "seq_rec_dense = seq_rec_dense.view(size)"
   ]
  },
  {
   "cell_type": "code",
   "execution_count": null,
   "metadata": {},
   "outputs": [],
   "source": [
    "print(seq_rec_dense.size())\n",
    "print(x_seq.size())"
   ]
  },
  {
   "cell_type": "code",
   "execution_count": null,
   "metadata": {},
   "outputs": [],
   "source": [
    "music_real = x_seq[0]\n",
    "music_rec = seq_rec_dense[0]"
   ]
  },
  {
   "cell_type": "code",
   "execution_count": null,
   "metadata": {},
   "outputs": [],
   "source": [
    "music_real.size()"
   ]
  },
  {
   "cell_type": "code",
   "execution_count": null,
   "metadata": {},
   "outputs": [],
   "source": [
    "prefix = \"data/music/\"\n",
    "\n",
    "real = from_tensor_to_muspy(music_real, track_data)\n",
    "muspy.show_pianoroll(real, yticklabel='off', grid_axis='off')\n",
    "plt.savefig(prefix + \"real\" + \".png\")\n",
    "muspy.write_midi(prefix + \"real\" + \".mid\", real)"
   ]
  },
  {
   "cell_type": "code",
   "execution_count": null,
   "metadata": {},
   "outputs": [],
   "source": [
    "rec = from_tensor_to_muspy(music_rec, track_data)\n",
    "muspy.show_pianoroll(rec, yticklabel='off', grid_axis='off')\n",
    "plt.savefig(prefix + \"rec\" + \".png\")\n",
    "muspy.write_midi(prefix + \"rec\" + \".mid\", rec)"
   ]
  },
  {
   "cell_type": "markdown",
   "metadata": {},
   "source": [
    "Plot music and save it to disk"
   ]
  },
  {
   "cell_type": "code",
   "execution_count": null,
   "metadata": {},
   "outputs": [],
   "source": [
    "#tracks = [drum_track, bass_track, guitar_track, strings_track]\n",
    "import copy\n",
    "\n",
    "def from_tensor_to_muspy(music_tensor, track_data):\n",
    "    \n",
    "    powers = torch.tensor([2**n for n in reversed(range(9))], dtype=torch.float)\n",
    "    tracks = []\n",
    "    \n",
    "    for tr in range(music_tensor.size(0)):\n",
    "        \n",
    "        notes = []\n",
    "        \n",
    "        for ts in range(music_tensor.size(1)):\n",
    "            for note in range(music_tensor.size(2)):\n",
    "                \n",
    "                pitch = music_tensor[tr, ts, note, :131]\n",
    "                pitch = torch.argmax(pitch)\n",
    "\n",
    "                if pitch == 129:\n",
    "                    break\n",
    "                \n",
    "                if pitch != 128:\n",
    "                    #dur = music_tensor[tr, ts, note, 131:]\n",
    "                    #dur = torch.dot(dur, powers).long()\n",
    "                    \n",
    "                    dur = 4\n",
    "                    \n",
    "                    #notes.append(muspy.Note(ts, pitch.item(), dur.item(), 64))\n",
    "                    notes.append(muspy.Note(ts, pitch.item(), dur, 64))\n",
    "        \n",
    "        if track_data[tr][0] == 'Drums':\n",
    "            track = muspy.Track(name='Drums', is_drum=True, notes=copy.deepcopy(notes))\n",
    "        else:\n",
    "            track = muspy.Track(name=track_data[tr][0], \n",
    "                                program=track_data[tr][1],\n",
    "                                notes=copy.deepcopy(notes))\n",
    "        tracks.append(track)\n",
    "    \n",
    "    meta = muspy.Metadata(title='prova')\n",
    "    music = muspy.Music(tracks=tracks, metadata=meta, resolution=RESOLUTION)\n",
    "    \n",
    "    return music\n",
    "\n",
    "\n",
    "track_data = [('Drums', -1), ('Bass', 34), ('Guitar', 1), ('Strings', 41)]"
   ]
  },
  {
   "cell_type": "code",
   "execution_count": null,
   "metadata": {},
   "outputs": [],
   "source": [
    "prefix = \"data/music/file\"\n",
    "\n",
    "for i in range(10):\n",
    "    music_tensor = dataset[20+i][0]\n",
    "    music = from_tensor_to_muspy(music_tensor, track_data)\n",
    "    muspy.show_pianoroll(music, yticklabel='off', grid_axis='off')\n",
    "    plt.savefig(prefix + str(i) + \".png\")\n",
    "    muspy.write_midi(prefix + str(i) + \".mid\", music)"
   ]
  },
  {
   "cell_type": "code",
   "execution_count": null,
   "metadata": {},
   "outputs": [],
   "source": [
    "music"
   ]
  },
  {
   "cell_type": "code",
   "execution_count": null,
   "metadata": {},
   "outputs": [],
   "source": [
    "music_path = \"data/music/file2.mid\"\n",
    "muspy.show_pianoroll(music, yticklabel='off', grid_axis='off')\n",
    "plt.savefig('file2.png')\n",
    "muspy.write_midi(music_path, music)"
   ]
  },
  {
   "cell_type": "code",
   "execution_count": null,
   "metadata": {},
   "outputs": [],
   "source": [
    "print(dataset[0][0].size())\n",
    "notes = []\n",
    "notes.append(muspy.Note(1, 48, 20, 64))\n",
    "drums = muspy.Track(is_drum=True)\n",
    "bass = muspy.Track(program=34, notes=notes)\n",
    "guitar = muspy.Track(program=27, notes=[])\n",
    "strings = muspy.Track(program=42, notes=[muspy.Note(0, 100, 4, 64), muspy.Note(4, 91, 20, 64)])\n",
    "\n",
    "tracks = [drums, bass, guitar, strings]\n",
    "\n",
    "meta = muspy.Metadata(title='prova')\n",
    "music = muspy.Music(tracks=tracks, metadata=meta, resolution=32)"
   ]
  },
  {
   "cell_type": "code",
   "execution_count": null,
   "metadata": {},
   "outputs": [],
   "source": [
    "!ls data/lmd_matched/M/T/O/TRMTOBP128E07822EF/63edabc86c087f07eca448b0edad53c3.mid"
   ]
  },
  {
   "cell_type": "markdown",
   "metadata": {
    "id": "KTFN-DCJjZWM"
   },
   "source": [
    "# Stuff"
   ]
  },
  {
   "cell_type": "code",
   "execution_count": null,
   "metadata": {
    "id": "4sSvVK7CxjV8"
   },
   "outputs": [],
   "source": [
    "from typing import Optional, Union, Tuple\n",
    "from torch_geometric.typing import OptTensor, Adj\n",
    "\n",
    "import torch\n",
    "from torch import Tensor\n",
    "import torch.nn.functional as F\n",
    "from torch.nn import Parameter as Param\n",
    "from torch.nn import Parameter\n",
    "from torch_scatter import scatter\n",
    "from torch_sparse import SparseTensor, matmul, masked_select_nnz\n",
    "from torch_geometric.nn.conv import MessagePassing\n",
    "\n",
    "from torch_geometric.nn.inits import glorot, zeros\n",
    "\n",
    "\n",
    "@torch.jit._overload\n",
    "def masked_edge_index(edge_index, edge_mask):\n",
    "    # type: (Tensor, Tensor) -> Tensor\n",
    "    pass\n",
    "\n",
    "\n",
    "@torch.jit._overload\n",
    "def masked_edge_index(edge_index, edge_mask):\n",
    "    # type: (SparseTensor, Tensor) -> SparseTensor\n",
    "    pass\n",
    "\n",
    "\n",
    "def masked_edge_index(edge_index, edge_mask):\n",
    "    if isinstance(edge_index, Tensor):\n",
    "        return edge_index[:, edge_mask]\n",
    "    else:\n",
    "        return masked_select_nnz(edge_index, edge_mask, layout='coo')\n",
    "\n",
    "\n",
    "class RGCNConv(MessagePassing):\n",
    "    r\"\"\"The relational graph convolutional operator from the `\"Modeling\n",
    "    Relational Data with Graph Convolutional Networks\"\n",
    "    <https://arxiv.org/abs/1703.06103>`_ paper\n",
    "\n",
    "    .. math::\n",
    "        \\mathbf{x}^{\\prime}_i = \\mathbf{\\Theta}_{\\textrm{root}} \\cdot\n",
    "        \\mathbf{x}_i + \\sum_{r \\in \\mathcal{R}} \\sum_{j \\in \\mathcal{N}_r(i)}\n",
    "        \\frac{1}{|\\mathcal{N}_r(i)|} \\mathbf{\\Theta}_r \\cdot \\mathbf{x}_j,\n",
    "\n",
    "    where :math:`\\mathcal{R}` denotes the set of relations, *i.e.* edge types.\n",
    "    Edge type needs to be a one-dimensional :obj:`torch.long` tensor which\n",
    "    stores a relation identifier\n",
    "    :math:`\\in \\{ 0, \\ldots, |\\mathcal{R}| - 1\\}` for each edge.\n",
    "\n",
    "    .. note::\n",
    "        This implementation is as memory-efficient as possible by iterating\n",
    "        over each individual relation type.\n",
    "        Therefore, it may result in low GPU utilization in case the graph has a\n",
    "        large number of relations.\n",
    "        As an alternative approach, :class:`FastRGCNConv` does not iterate over\n",
    "        each individual type, but may consume a large amount of memory to\n",
    "        compensate.\n",
    "        We advise to check out both implementations to see which one fits your\n",
    "        needs.\n",
    "\n",
    "    Args:\n",
    "        in_channels (int or tuple): Size of each input sample. A tuple\n",
    "            corresponds to the sizes of source and target dimensionalities.\n",
    "            In case no input features are given, this argument should\n",
    "            correspond to the number of nodes in your graph.\n",
    "        out_channels (int): Size of each output sample.\n",
    "        num_relations (int): Number of relations.\n",
    "        num_bases (int, optional): If set to not :obj:`None`, this layer will\n",
    "            use the basis-decomposition regularization scheme where\n",
    "            :obj:`num_bases` denotes the number of bases to use.\n",
    "            (default: :obj:`None`)\n",
    "        num_blocks (int, optional): If set to not :obj:`None`, this layer will\n",
    "            use the block-diagonal-decomposition regularization scheme where\n",
    "            :obj:`num_blocks` denotes the number of blocks to use.\n",
    "            (default: :obj:`None`)\n",
    "        aggr (string, optional): The aggregation scheme to use\n",
    "            (:obj:`\"add\"`, :obj:`\"mean\"`, :obj:`\"max\"`).\n",
    "            (default: :obj:`\"mean\"`)\n",
    "        root_weight (bool, optional): If set to :obj:`False`, the layer will\n",
    "            not add transformed root node features to the output.\n",
    "            (default: :obj:`True`)\n",
    "        bias (bool, optional): If set to :obj:`False`, the layer will not learn\n",
    "            an additive bias. (default: :obj:`True`)\n",
    "        **kwargs (optional): Additional arguments of\n",
    "            :class:`torch_geometric.nn.conv.MessagePassing`.\n",
    "    \"\"\"\n",
    "    def __init__(\n",
    "        self,\n",
    "        in_channels: Union[int, Tuple[int, int]],\n",
    "        out_channels: int,\n",
    "        num_relations: int,\n",
    "        num_bases: Optional[int] = None,\n",
    "        num_blocks: Optional[int] = None,\n",
    "        aggr: str = 'mean',\n",
    "        root_weight: bool = True,\n",
    "        bias: bool = True,\n",
    "        **kwargs,\n",
    "    ):\n",
    "        super().__init__(aggr=aggr, node_dim=0, **kwargs)\n",
    "\n",
    "        if num_bases is not None and num_blocks is not None:\n",
    "            raise ValueError('Can not apply both basis-decomposition and '\n",
    "                             'block-diagonal-decomposition at the same time.')\n",
    "\n",
    "        self.in_channels = in_channels\n",
    "        self.out_channels = out_channels\n",
    "        self.num_relations = num_relations\n",
    "        self.num_bases = num_bases\n",
    "        self.num_blocks = num_blocks\n",
    "\n",
    "        if isinstance(in_channels, int):\n",
    "            in_channels = (in_channels, in_channels)\n",
    "        self.in_channels_l = in_channels[0]\n",
    "\n",
    "        if num_bases is not None:\n",
    "            self.weight = Parameter(\n",
    "                torch.Tensor(num_bases, in_channels[0], out_channels))\n",
    "            self.comp = Parameter(torch.Tensor(num_relations, num_bases))\n",
    "\n",
    "        elif num_blocks is not None:\n",
    "            assert (in_channels[0] % num_blocks == 0\n",
    "                    and out_channels % num_blocks == 0)\n",
    "            self.weight = Parameter(\n",
    "                torch.Tensor(num_relations, num_blocks,\n",
    "                             in_channels[0] // num_blocks,\n",
    "                             out_channels // num_blocks))\n",
    "            self.register_parameter('comp', None)\n",
    "\n",
    "        else:\n",
    "            self.weight = Parameter(\n",
    "                torch.Tensor(num_relations, in_channels[0], out_channels))\n",
    "            self.register_parameter('comp', None)\n",
    "\n",
    "        if root_weight:\n",
    "            self.root = Param(torch.Tensor(in_channels[1], out_channels))\n",
    "        else:\n",
    "            self.register_parameter('root', None)\n",
    "\n",
    "        if bias:\n",
    "            self.bias = Param(torch.Tensor(out_channels))\n",
    "        else:\n",
    "            self.register_parameter('bias', None)\n",
    "\n",
    "        self.reset_parameters()\n",
    "\n",
    "    def reset_parameters(self):\n",
    "        glorot(self.weight)\n",
    "        glorot(self.comp)\n",
    "        glorot(self.root)\n",
    "        zeros(self.bias)\n",
    "\n",
    "\n",
    "    def forward(self, x: Union[OptTensor, Tuple[OptTensor, Tensor]],\n",
    "                edge_index: Adj, edge_type: OptTensor = None):\n",
    "        r\"\"\"\n",
    "        Args:\n",
    "            x: The input node features. Can be either a :obj:`[num_nodes,\n",
    "                in_channels]` node feature matrix, or an optional\n",
    "                one-dimensional node index tensor (in which case input features\n",
    "                are treated as trainable node embeddings).\n",
    "                Furthermore, :obj:`x` can be of type :obj:`tuple` denoting\n",
    "                source and destination node features.\n",
    "            edge_type: The one-dimensional relation type/index for each edge in\n",
    "                :obj:`edge_index`.\n",
    "                Should be only :obj:`None` in case :obj:`edge_index` is of type\n",
    "                :class:`torch_sparse.tensor.SparseTensor`.\n",
    "                (default: :obj:`None`)\n",
    "        \"\"\"\n",
    "\n",
    "        # Convert input features to a pair of node features or node indices.\n",
    "        x_l: OptTensor = None\n",
    "        if isinstance(x, tuple):\n",
    "            x_l = x[0]\n",
    "        else:\n",
    "            x_l = x\n",
    "        if x_l is None:\n",
    "            x_l = torch.arange(self.in_channels_l, device=self.weight.device)\n",
    "\n",
    "        x_r: Tensor = x_l\n",
    "        if isinstance(x, tuple):\n",
    "            x_r = x[1]\n",
    "\n",
    "        size = (x_l.size(0), x_r.size(0))\n",
    "\n",
    "        if isinstance(edge_index, SparseTensor):\n",
    "            edge_type = edge_index.storage.value()\n",
    "        assert edge_type is not None\n",
    "\n",
    "        # propagate_type: (x: Tensor)\n",
    "        out = torch.zeros(x_r.size(0), self.out_channels, device=x_r.device)\n",
    "\n",
    "        weight = self.weight\n",
    "        if self.num_bases is not None:  # Basis-decomposition =================\n",
    "            weight = (self.comp @ weight.view(self.num_bases, -1)).view(\n",
    "                self.num_relations, self.in_channels_l, self.out_channels)\n",
    "\n",
    "        if self.num_blocks is not None:  # Block-diagonal-decomposition =====\n",
    "\n",
    "            if x_l.dtype == torch.long and self.num_blocks is not None:\n",
    "                raise ValueError('Block-diagonal decomposition not supported '\n",
    "                                 'for non-continuous input features.')\n",
    "\n",
    "            for i in range(self.num_relations):\n",
    "                tmp = masked_edge_index(edge_index, edge_type == i)\n",
    "                h = self.propagate(tmp, x=x_l, size=size)\n",
    "                h = h.view(-1, weight.size(1), weight.size(2))\n",
    "                h = torch.einsum('abc,bcd->abd', h, weight[i])\n",
    "                out += h.contiguous().view(-1, self.out_channels)\n",
    "\n",
    "        else:  # No regularization/Basis-decomposition ========================\n",
    "            for i in range(self.num_relations):\n",
    "                tmp = masked_edge_index(edge_index, edge_type == i)\n",
    "\n",
    "                if x_l.dtype == torch.long:\n",
    "                    out += self.propagate(tmp, x=weight[i, x_l], size=size)\n",
    "                else:\n",
    "                    h = self.propagate(tmp, x=x_l, size=size)\n",
    "                    out = out + (h @ weight[i])\n",
    "\n",
    "        root = self.root\n",
    "        if root is not None:\n",
    "            out += root[x_r] if x_r.dtype == torch.long else x_r @ root\n",
    "\n",
    "        if self.bias is not None:\n",
    "            out += self.bias\n",
    "\n",
    "        return out\n",
    "\n",
    "\n",
    "    def message(self, x_j: Tensor) -> Tensor:\n",
    "        return x_j\n",
    "\n",
    "    def message_and_aggregate(self, adj_t: SparseTensor, x: Tensor) -> Tensor:\n",
    "        adj_t = adj_t.set_value(None, layout=None)\n",
    "        return matmul(adj_t, x, reduce=self.aggr)\n",
    "\n",
    "    def __repr__(self) -> str:\n",
    "        return (f'{self.__class__.__name__}({self.in_channels}, '\n",
    "                f'{self.out_channels}, num_relations={self.num_relations})')"
   ]
  },
  {
   "cell_type": "markdown",
   "metadata": {
    "id": "hfsNpMLrEXLk"
   },
   "source": [
    "next edges"
   ]
  },
  {
   "cell_type": "code",
   "execution_count": null,
   "metadata": {
    "colab": {
     "base_uri": "https://localhost:8080/"
    },
    "id": "2DaVTonr_XB8",
    "outputId": "9e5fa8f9-604e-4273-a34d-fad73ad9ab7e"
   },
   "outputs": [],
   "source": [
    "import itertools\n",
    "\n",
    "a = np.random.randint(2, size=(4,8))\n",
    "a_t = a.transpose()\n",
    "print(a_t)\n",
    "inds = np.stack(np.where(a_t == 1)).transpose()\n",
    "ts_acts = np.any(a_t, axis=1)\n",
    "ts_inds = np.where(ts_acts)[0]\n",
    "\n",
    "labels = np.arange(32).reshape(4, 8).transpose()\n",
    "print(labels)\n",
    "\n",
    "next_edges = []\n",
    "for i in range(len(ts_inds)-1):\n",
    "    ind_s = ts_inds[i]\n",
    "    ind_e = ts_inds[i+1]\n",
    "    s = inds[inds[:,0] == ind_s]\n",
    "    e = inds[inds[:,0] == ind_e]\n",
    "    e_inds = [t for t in list(itertools.product(s, e)) if t[0][1] != t[1][1]]\n",
    "    edges = [(labels[tuple(e[0])],labels[tuple(e[1])], ind_e-ind_s) for e in e_inds]\n",
    "    next_edges.extend(edges)\n",
    "\n",
    "print(next_edges)\n",
    "    "
   ]
  },
  {
   "cell_type": "markdown",
   "metadata": {
    "id": "lJ5JQm1aEbmb"
   },
   "source": [
    "onset edges"
   ]
  },
  {
   "cell_type": "code",
   "execution_count": null,
   "metadata": {
    "colab": {
     "base_uri": "https://localhost:8080/"
    },
    "id": "DISmsJB3EatR",
    "outputId": "fc864608-63a6-4ad0-84d9-1478001ce60e"
   },
   "outputs": [],
   "source": [
    "onset_edges = []\n",
    "print(a_t)\n",
    "print(labels)\n",
    "\n",
    "for i in ts_inds:\n",
    "    ts_acts_inds = list(inds[inds[:,0] == i])\n",
    "    if len(ts_acts_inds) < 2:\n",
    "        continue\n",
    "    e_inds = list(itertools.combinations(ts_acts_inds, 2))\n",
    "    edges = [(labels[tuple(e[0])], labels[tuple(e[1])], 0) for e in e_inds]\n",
    "    inv_edges = [(e[1], e[0], *e[2:]) for e in edges]\n",
    "    onset_edges.extend(edges)\n",
    "    onset_edges.extend(inv_edges)\n",
    "\n",
    "print(onset_edges)\n"
   ]
  },
  {
   "cell_type": "markdown",
   "metadata": {
    "id": "ujitZCKaa7nu"
   },
   "source": [
    "track edges"
   ]
  },
  {
   "cell_type": "code",
   "execution_count": null,
   "metadata": {
    "colab": {
     "base_uri": "https://localhost:8080/"
    },
    "id": "NbVG1vdFa-7e",
    "outputId": "c042449b-eef2-4707-a524-5f66f3ec07c7"
   },
   "outputs": [],
   "source": [
    "print(a_t)\n",
    "print(labels)\n",
    "track_edges = []\n",
    "\n",
    "for track in range(a_t.shape[1]):\n",
    "    tr_inds = list(inds[inds[:,1] == track])\n",
    "    e_inds = [(tr_inds[i],\n",
    "               tr_inds[i+1]) for i in range(len(tr_inds)-1)]\n",
    "    print(e_inds)\n",
    "    edges = [(labels[tuple(e[0])], labels[tuple(e[1])], e[1][0]-e[0][0]) for e in e_inds]\n",
    "    track_edges.extend(edges)\n",
    "\n",
    "print(track_edges)"
   ]
  },
  {
   "cell_type": "code",
   "execution_count": null,
   "metadata": {
    "colab": {
     "base_uri": "https://localhost:8080/"
    },
    "id": "8DzouJ5NqALB",
    "outputId": "20a76e82-6305-4154-d894-6d69a64435a1"
   },
   "outputs": [],
   "source": [
    "track_edges = np.array(track_edges)\n",
    "onset_edges = np.array(onset_edges)\n",
    "np.concatenate((track_edges, onset_edges)).shape"
   ]
  },
  {
   "cell_type": "code",
   "execution_count": null,
   "metadata": {
    "id": "ihIYkPWPzyGX"
   },
   "outputs": [],
   "source": [
    "pip install pypianoroll"
   ]
  },
  {
   "cell_type": "code",
   "execution_count": null,
   "metadata": {
    "id": "ie0pU8NWAUNM"
   },
   "outputs": [],
   "source": [
    "import pypianoroll"
   ]
  },
  {
   "cell_type": "code",
   "execution_count": null,
   "metadata": {
    "id": "QTbGBSrdAZGH"
   },
   "outputs": [],
   "source": [
    "multitrack = pypianoroll.read(\"tests_fur-elise.mid\")\n",
    "print(multitrack)"
   ]
  },
  {
   "cell_type": "code",
   "execution_count": null,
   "metadata": {
    "id": "3eVo_BKzAmz4"
   },
   "outputs": [],
   "source": [
    "multitrack.tracks[0].pianoroll"
   ]
  },
  {
   "cell_type": "code",
   "execution_count": null,
   "metadata": {
    "id": "PPpWw-rLA7CI"
   },
   "outputs": [],
   "source": [
    "multitrack.plot()"
   ]
  },
  {
   "cell_type": "code",
   "execution_count": null,
   "metadata": {
    "id": "x-PYbS7FA-Gg"
   },
   "outputs": [],
   "source": [
    "multitrack.trim(0, 12 * multitrack.resolution)\n",
    "multitrack.binarize()"
   ]
  },
  {
   "cell_type": "code",
   "execution_count": null,
   "metadata": {
    "id": "psxuoTsZBFXY"
   },
   "outputs": [],
   "source": [
    "multitrack.plot()"
   ]
  },
  {
   "cell_type": "code",
   "execution_count": null,
   "metadata": {
    "id": "ovyixmSvBG3w"
   },
   "outputs": [],
   "source": [
    "multitrack.tracks[0].pianoroll.shape"
   ]
  },
  {
   "cell_type": "code",
   "execution_count": null,
   "metadata": {
    "id": "wHlKNufuBzLn"
   },
   "outputs": [],
   "source": [
    "\n"
   ]
  }
 ],
 "metadata": {
  "colab": {
   "authorship_tag": "ABX9TyOhjCOJb34P4bTid7qFDg58",
   "collapsed_sections": [],
   "include_colab_link": true,
   "mount_file_id": "1NeVldMsPVJd6pXbxZDmuiUP-QJBRhYtj",
   "name": "midi.ipynb",
   "provenance": []
  },
  "kernelspec": {
   "display_name": "Python 3 (ipykernel)",
   "language": "python",
   "name": "python3"
  },
  "language_info": {
   "codemirror_mode": {
    "name": "ipython",
    "version": 3
   },
   "file_extension": ".py",
   "mimetype": "text/x-python",
   "name": "python",
   "nbconvert_exporter": "python",
   "pygments_lexer": "ipython3",
   "version": "3.7.11"
  }
 },
 "nbformat": 4,
 "nbformat_minor": 1
}
