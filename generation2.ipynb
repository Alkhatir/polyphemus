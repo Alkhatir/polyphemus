{
 "cells": [
  {
   "cell_type": "code",
   "execution_count": null,
   "metadata": {},
   "outputs": [],
   "source": [
    "import torch\n",
    "import numpy as np\n",
    "import os\n",
    "from torch.utils.data import Subset\n",
    "from torch.utils.data import random_split\n",
    "from torch_geometric.loader import DataLoader\n",
    "from torch_geometric.data import Batch\n",
    "import random\n",
    "from matplotlib import pyplot as plt\n",
    "from utils import set_seed\n",
    "\n",
    "from data import MIDIDataset, graph_from_tensor, graph_from_tensor_torch\n",
    "from model import VAE\n",
    "from utils import plot_struct, dense_from_sparse, dense_from_sparse_torch, muspy_from_dense, muspy_from_dense_torch\n",
    "from utils import plot_pianoroll, midi_from_muspy\n",
    "from train import VAETrainer"
   ]
  },
  {
   "cell_type": "markdown",
   "metadata": {},
   "source": [
    "Set global seed:"
   ]
  },
  {
   "cell_type": "code",
   "execution_count": null,
   "metadata": {},
   "outputs": [],
   "source": [
    "seed = 42\n",
    "set_seed(seed)"
   ]
  },
  {
   "cell_type": "markdown",
   "metadata": {},
   "source": [
    "Load model:"
   ]
  },
  {
   "cell_type": "code",
   "execution_count": null,
   "metadata": {},
   "outputs": [],
   "source": [
    "models_dir = 'models/'\n",
    "model = 'LMD2'\n",
    "gpu = True\n",
    "device_idx = 3\n",
    "\n",
    "checkpoint = torch.load(os.path.join(models_dir, model, 'checkpoint'), map_location='cpu')\n",
    "state_dict = checkpoint['model_state_dict']\n",
    "params = torch.load(os.path.join(models_dir, model, 'params'), map_location='cpu')"
   ]
  },
  {
   "cell_type": "code",
   "execution_count": null,
   "metadata": {},
   "outputs": [],
   "source": [
    "torch.cuda.set_device(device_idx)\n",
    "\n",
    "device = torch.device(\"cuda\") if gpu else torch.device(\"cpu\")\n",
    "print(\"Device:\", device)\n",
    "print(\"Device idx:\", torch.cuda.current_device())"
   ]
  },
  {
   "cell_type": "code",
   "execution_count": null,
   "metadata": {},
   "outputs": [],
   "source": [
    "params"
   ]
  },
  {
   "cell_type": "code",
   "execution_count": null,
   "metadata": {},
   "outputs": [],
   "source": [
    "vae = VAE(**params['model'], device=device).to(device)\n",
    "vae.load_state_dict(state_dict)\n",
    "vae.eval()"
   ]
  },
  {
   "cell_type": "code",
   "execution_count": null,
   "metadata": {},
   "outputs": [],
   "source": [
    "def generate_music(vae, z, s_cond=None, s_tensor_cond=None):\n",
    "    \n",
    "    # Get structure and content logits\n",
    "    with torch.cuda.amp.autocast():\n",
    "        _, c_logits, s_tensor_out = vae.decoder(z, s_cond)\n",
    "    \n",
    "    s_tensor = s_tensor_cond if s_tensor_cond != None else s_tensor_out\n",
    "    \n",
    "    # Build (n_batches x n_bars x n_tracks x n_timesteps x Sigma x d_token)\n",
    "    # multitrack pianoroll tensor containing logits for each activation and\n",
    "    # hard silences elsewhere\n",
    "    mtp = dense_from_sparse_torch(c_logits, s_tensor)\n",
    "    \n",
    "    # Collapse bars dimension\n",
    "    mtp = mtp.permute(0, 2, 1, 3, 4, 5)\n",
    "    size = (mtp.shape[0], mtp.shape[1], -1, mtp.shape[4], mtp.shape[5])\n",
    "    mtp = mtp.reshape(*size)\n",
    "    \n",
    "    return mtp, s_tensor"
   ]
  },
  {
   "cell_type": "code",
   "execution_count": null,
   "metadata": {},
   "outputs": [],
   "source": [
    "import matplotlib as mpl\n",
    "\n",
    "\n",
    "def save(mtp, dir, s_tensor=None, track_data=None, n_loop=1):\n",
    "    \n",
    "    track_data = ([('Drums', -1), ('Bass', 34), ('Guitar', 1), ('Strings', 83)]\n",
    "                  if track_data == None else track_data)\n",
    "    \n",
    "    # Clear matplotlib cache (this avoids formatting problems with first plot)\n",
    "    plt.clf()\n",
    "\n",
    "    # Iterate over the generated n-bar sequences\n",
    "    for i in range(mtp.size(0)):\n",
    "        \n",
    "        # Create the directory if it does not exist\n",
    "        save_dir = os.path.join(dir, str(i))\n",
    "        os.makedirs(save_dir, exist_ok=True)\n",
    "\n",
    "        print(\"Saving midi sequence \" + str(i+1) + \"...\")\n",
    "        \n",
    "        # Generate muspy song from multitrack pianoroll, then midi from muspy\n",
    "        # and save\n",
    "        muspy_song = muspy_from_dense_torch(mtp[i], track_data, \n",
    "                                            params['model']['resolution'])\n",
    "        midi_from_muspy(muspy_song, save_dir, name='music')\n",
    "        \n",
    "        # Plot the pianoroll associated to the sequence\n",
    "        preset = 'full'\n",
    "        with mpl.rc_context({'lines.linewidth': 4, \n",
    "                             'axes.linewidth': 4, 'font.size': 34}):\n",
    "            plot_pianoroll(muspy_song, save_dir, name='pianoroll',\n",
    "                           figsize=(20, 10), fformat='png', preset=preset)\n",
    "        \n",
    "        # Plot structure_tensor if present\n",
    "        if s_tensor != None:\n",
    "            s_curr = s_tensor[i]\n",
    "            s_curr = s_curr.permute(1, 0, 2)\n",
    "            s_curr = s_curr.reshape(s_curr.shape[0], -1)\n",
    "            with mpl.rc_context({'lines.linewidth': 1, \n",
    "                                 'axes.linewidth': 1, 'font.size': 14}):\n",
    "                plot_struct(s_curr.cpu(), name='structure', \n",
    "                            save_dir=save_dir, figsize=(12, 3))\n",
    "\n",
    "        if n_loop > 1:\n",
    "            # Generate extended sequence\n",
    "            print(\"Saving extended (looped) midi sequence \" + str(i+1) + \"...\")\n",
    "            extended = mtp[i].repeat(1, n_loop, 1, 1)\n",
    "            extended = muspy_from_dense_torch(extended, track_data, \n",
    "                                              params['model']['resolution'])\n",
    "            midi_from_muspy(extended, save_dir, name='extended')\n",
    "        \n",
    "        print()\n",
    "\n",
    "    print(\"Finished.\")"
   ]
  },
  {
   "cell_type": "code",
   "execution_count": null,
   "metadata": {},
   "outputs": [],
   "source": [
    "def generate_z(bs, d_model):\n",
    "    shape = (bs, d_model)\n",
    "\n",
    "    z_norm = torch.normal(\n",
    "        torch.zeros(shape, device=device),\n",
    "        torch.ones(shape, device=device)\n",
    "    )\n",
    "    \n",
    "    return z_norm\n",
    "    "
   ]
  },
  {
   "cell_type": "code",
   "execution_count": null,
   "metadata": {},
   "outputs": [],
   "source": [
    "import json\n",
    "\n",
    "structure = True\n",
    "structure_file = 'structure2bars.json'\n",
    "\n",
    "n_sequences = 5\n",
    "n_loop = 4\n",
    "d_model = params['model']['d']\n",
    "n_bars = params['model']['n_bars']\n",
    "n_tracks = params['model']['n_tracks']\n",
    "n_timesteps = 4*params['model']['resolution']\n",
    "dir = 'tmpmusic/'\n",
    "\n",
    "bs = n_sequences\n",
    "track_data = [('Drums', -1), ('Bass', 34), ('Guitar', 1), ('Strings', 83)]\n",
    "\n",
    "s, s_tensor = None, None\n",
    "\n",
    "if structure:\n",
    "    \n",
    "    # Load structure tensor from file\n",
    "    with open(structure_file, 'r') as f:\n",
    "        s_tensor = json.load(f)\n",
    "    \n",
    "    s_tensor = torch.tensor(s_tensor)\n",
    "    s_tensor = s_tensor.bool()\n",
    "    s_tensor = s_tensor.unsqueeze(0).repeat(bs, 1, 1, 1)\n",
    "    s = vae.decoder._structure_from_binary(s_tensor)\n",
    "\n",
    "z = generate_z(bs, d_model)\n",
    "mtp, s_tensor = generate_music(vae, z, s, s_tensor)\n",
    "save(mtp, dir, s_tensor, track_data, n_loop)"
   ]
  },
  {
   "cell_type": "code",
   "execution_count": null,
   "metadata": {},
   "outputs": [],
   "source": [
    "import torch\n",
    "import json\n",
    "\n",
    "# 1. Create a Tensor\n",
    "tensor = torch.zeros(2, 4, 32)  # Replace with your actual tensor.\n",
    "tensor[:, :, ::8] = 1\n",
    "tensor = tensor.int()\n",
    "# 2. Convert Tensor to List\n",
    "tensor_list = tensor.tolist()\n",
    "\n",
    "# 3. Write to JSON File\n",
    "with open('structure2bars.json', 'w') as f:\n",
    "    json.dump(tensor_list, f, indent=4)\n"
   ]
  },
  {
   "cell_type": "code",
   "execution_count": null,
   "metadata": {},
   "outputs": [],
   "source": []
  }
 ],
 "metadata": {
  "kernelspec": {
   "display_name": "test",
   "language": "python",
   "name": "python3"
  },
  "language_info": {
   "codemirror_mode": {
    "name": "ipython",
    "version": 3
   },
   "file_extension": ".py",
   "mimetype": "text/x-python",
   "name": "python",
   "nbconvert_exporter": "python",
   "pygments_lexer": "ipython3",
   "version": "3.7.12"
  },
  "orig_nbformat": 4
 },
 "nbformat": 4,
 "nbformat_minor": 2
}
