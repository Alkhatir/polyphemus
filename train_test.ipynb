{
 "cells": [
  {
   "cell_type": "code",
   "execution_count": null,
   "metadata": {},
   "outputs": [],
   "source": [
    "import json\n",
    "\n",
    "with open('training.json', 'r') as f:\n",
    "    training_config = json.load(f)"
   ]
  },
  {
   "cell_type": "code",
   "execution_count": null,
   "metadata": {},
   "outputs": [],
   "source": [
    "training_config"
   ]
  },
  {
   "cell_type": "code",
   "execution_count": null,
   "metadata": {},
   "outputs": [],
   "source": [
    "import torch\n",
    "torch.cuda.set_device(0)\n",
    "\n",
    "device_idx = 3\n",
    "device = torch.device(\"cuda\") if torch.cuda.is_available() else torch.device(\"cpu\")\n",
    "#device = torch.device(\"cpu\")\n",
    "print(\"Device:\", device)\n",
    "print(\"Current device idx:\", torch.cuda.current_device())"
   ]
  },
  {
   "cell_type": "code",
   "execution_count": null,
   "metadata": {},
   "outputs": [],
   "source": [
    "bs = training_config['batch_size']\n",
    "n_bars = training_config['model']['n_bars']\n",
    "nw = 10\n",
    "\n",
    "ds_dir = \"data/prova/\""
   ]
  },
  {
   "cell_type": "code",
   "execution_count": null,
   "metadata": {},
   "outputs": [],
   "source": [
    "from torch.utils.data import Subset\n",
    "from torch.utils.data import random_split\n",
    "from torch_geometric.loader import DataLoader\n",
    "from data import PolyphemusDataset\n",
    "import torch\n",
    "\n",
    "\n",
    "tr_ratio = 0.7\n",
    "vl_ratio = 0.1\n",
    "\n",
    "dataset = PolyphemusDataset(ds_dir, n_bars)\n",
    "ds_len = len(dataset)\n",
    "\n",
    "print('Dataset len:', len(dataset))\n",
    "\n",
    "train_len = int(tr_ratio * len(dataset)) \n",
    "valid_len = int(vl_ratio * len(dataset))\n",
    "test_len = len(dataset) - train_len - valid_len\n",
    "tr_set, vl_set, ts_set = random_split(dataset, (train_len, valid_len, test_len))\n",
    "\n",
    "trainloader = DataLoader(tr_set, batch_size=bs, shuffle=True, num_workers=nw)\n",
    "validloader = DataLoader(vl_set, batch_size=bs, shuffle=False, num_workers=nw)\n",
    "\n",
    "tr_len = len(tr_set)\n",
    "vl_len = len(vl_set)\n",
    "ts_len = len(ts_set)\n",
    "\n",
    "print('TR set len:', len(tr_set))\n",
    "print('VL set len:', len(vl_set))\n",
    "print('TS set len:', len(ts_set))"
   ]
  },
  {
   "cell_type": "code",
   "execution_count": null,
   "metadata": {},
   "outputs": [],
   "source": [
    "\n",
    "from utils import print_params\n",
    "import os\n",
    "from model import VAE\n",
    "import torch.optim as optim\n",
    "from training import PolyphemusTrainer\n",
    "from training import ExpDecayLRScheduler\n",
    "\n",
    "print(\"Creating the model and moving it to the specified device...\")\n",
    "\n",
    "# Create model dir\n",
    "models_dir = 'models_prova/'\n",
    "model_name = 'prova'\n",
    "model_dir = os.path.join(models_dir, model_name)\n",
    "os.makedirs(models_dir, exist_ok=True) \n",
    "os.makedirs(model_dir, exist_ok=True)\n",
    "\n",
    "# Creating the model\n",
    "vae = VAE(**training_config['model'], device=device).to(device)\n",
    "\n",
    "print_params(vae)\n",
    "print()\n",
    "\n",
    "# Creating optimizer and scheduler\n",
    "optimizer = optim.Adam(vae.parameters(), **training_config['optimizer'])\n",
    "scheduler = ExpDecayLRScheduler(\n",
    "    optimizer=optimizer,\n",
    "    **training_config['scheduler']\n",
    ")\n",
    "\n",
    "# Save config\n",
    "config_path = os.path.join(model_dir, 'configuration')\n",
    "torch.save(training_config, config_path)\n",
    "\n",
    "print('--------------------------------------------------\\n')\n",
    "\n",
    "trainer = PolyphemusTrainer(\n",
    "    model_dir,\n",
    "    vae,\n",
    "    optimizer,\n",
    "    lr_scheduler=scheduler,\n",
    "    save_every=1,\n",
    "    print_every=1,\n",
    "    iters_to_accumulate=1,\n",
    "    device=device,\n",
    "    **training_config['beta_annealing']\n",
    ")\n",
    "trainer.train(trainloader, validloader=None, epochs=100)"
   ]
  },
  {
   "cell_type": "code",
   "execution_count": null,
   "metadata": {},
   "outputs": [],
   "source": []
  }
 ],
 "metadata": {
  "kernelspec": {
   "display_name": "test",
   "language": "python",
   "name": "python3"
  },
  "language_info": {
   "codemirror_mode": {
    "name": "ipython",
    "version": 3
   },
   "file_extension": ".py",
   "mimetype": "text/x-python",
   "name": "python",
   "nbconvert_exporter": "python",
   "pygments_lexer": "ipython3",
   "version": "3.7.12"
  },
  "orig_nbformat": 4
 },
 "nbformat": 4,
 "nbformat_minor": 2
}
