{
 "cells": [
  {
   "cell_type": "markdown",
   "metadata": {
    "colab_type": "text",
    "id": "view-in-github"
   },
   "source": [
    "<a href=\"https://colab.research.google.com/github/EmanueleCosenza/Polyphemus/blob/main/midi.ipynb\" target=\"_parent\"><img src=\"https://colab.research.google.com/assets/colab-badge.svg\" alt=\"Open In Colab\"/></a>"
   ]
  },
  {
   "cell_type": "code",
   "execution_count": 2,
   "metadata": {
    "id": "50lpUn9bO0ug",
    "scrolled": true
   },
   "outputs": [
    {
     "name": "stdout",
     "output_type": "stream",
     "text": [
      "/home/cosenza/thesis/Polyphemus\r\n"
     ]
    }
   ],
   "source": [
    "!pwd"
   ]
  },
  {
   "cell_type": "code",
   "execution_count": 3,
   "metadata": {},
   "outputs": [],
   "source": [
    "#!tar -C data -xvzf data/lmd_matched.tar.gz"
   ]
  },
  {
   "cell_type": "code",
   "execution_count": 4,
   "metadata": {
    "colab": {
     "base_uri": "https://localhost:8080/"
    },
    "id": "She0QbN5Kopo",
    "outputId": "0f3fb4c7-bd7d-4ee4-b2cd-d567d8e490db",
    "scrolled": true
   },
   "outputs": [
    {
     "name": "stdout",
     "output_type": "stream",
     "text": [
      "Requirement already satisfied: muspy in /home/cosenza/penv/lib/python3.6/site-packages (0.4.0)\n",
      "Requirement already satisfied: PyYAML>=3.0 in /home/cosenza/penv/lib/python3.6/site-packages (from muspy) (6.0)\n",
      "Requirement already satisfied: mido>=1.0 in /home/cosenza/penv/lib/python3.6/site-packages (from muspy) (1.2.10)\n",
      "Requirement already satisfied: bidict>=0.21 in /home/cosenza/penv/lib/python3.6/site-packages (from muspy) (0.21.4)\n",
      "Requirement already satisfied: tqdm>=4.0 in /home/cosenza/penv/lib/python3.6/site-packages (from muspy) (4.62.3)\n",
      "Requirement already satisfied: pypianoroll>=1.0 in /home/cosenza/penv/lib/python3.6/site-packages (from muspy) (1.0.4)\n",
      "Requirement already satisfied: matplotlib>=1.5 in /home/cosenza/penv/lib/python3.6/site-packages (from muspy) (3.3.4)\n",
      "Requirement already satisfied: requests>=2.0 in /home/cosenza/penv/lib/python3.6/site-packages (from muspy) (2.26.0)\n",
      "Requirement already satisfied: pretty-midi>=0.2 in /home/cosenza/penv/lib/python3.6/site-packages (from muspy) (0.2.9)\n",
      "Requirement already satisfied: joblib>=0.15 in /home/cosenza/penv/lib/python3.6/site-packages (from muspy) (1.1.0)\n",
      "Requirement already satisfied: music21>=5.0 in /home/cosenza/penv/lib/python3.6/site-packages (from muspy) (6.7.1)\n",
      "Requirement already satisfied: pillow>=6.2.0 in /home/cosenza/penv/lib/python3.6/site-packages (from matplotlib>=1.5->muspy) (8.4.0)\n",
      "Requirement already satisfied: numpy>=1.15 in /home/cosenza/penv/lib/python3.6/site-packages (from matplotlib>=1.5->muspy) (1.19.5)\n",
      "Requirement already satisfied: cycler>=0.10 in /home/cosenza/penv/lib/python3.6/site-packages (from matplotlib>=1.5->muspy) (0.11.0)\n",
      "Requirement already satisfied: kiwisolver>=1.0.1 in /home/cosenza/penv/lib/python3.6/site-packages (from matplotlib>=1.5->muspy) (1.3.1)\n",
      "Requirement already satisfied: pyparsing!=2.0.4,!=2.1.2,!=2.1.6,>=2.0.3 in /home/cosenza/penv/lib/python3.6/site-packages (from matplotlib>=1.5->muspy) (3.0.6)\n",
      "Requirement already satisfied: python-dateutil>=2.1 in /home/cosenza/penv/lib/python3.6/site-packages (from matplotlib>=1.5->muspy) (2.8.2)\n",
      "Requirement already satisfied: chardet in /home/cosenza/penv/lib/python3.6/site-packages (from music21>=5.0->muspy) (4.0.0)\n",
      "Requirement already satisfied: more-itertools in /home/cosenza/penv/lib/python3.6/site-packages (from music21>=5.0->muspy) (8.12.0)\n",
      "Requirement already satisfied: webcolors in /home/cosenza/penv/lib/python3.6/site-packages (from music21>=5.0->muspy) (1.11.1)\n",
      "Requirement already satisfied: six in /home/cosenza/penv/lib/python3.6/site-packages (from pretty-midi>=0.2->muspy) (1.16.0)\n",
      "Requirement already satisfied: scipy>=1.0.0 in /home/cosenza/penv/lib/python3.6/site-packages (from pypianoroll>=1.0->muspy) (1.5.4)\n",
      "Requirement already satisfied: idna<4,>=2.5 in /home/cosenza/penv/lib/python3.6/site-packages (from requests>=2.0->muspy) (3.3)\n",
      "Requirement already satisfied: charset-normalizer~=2.0.0 in /home/cosenza/penv/lib/python3.6/site-packages (from requests>=2.0->muspy) (2.0.8)\n",
      "Requirement already satisfied: urllib3<1.27,>=1.21.1 in /home/cosenza/penv/lib/python3.6/site-packages (from requests>=2.0->muspy) (1.26.7)\n",
      "Requirement already satisfied: certifi>=2017.4.17 in /home/cosenza/penv/lib/python3.6/site-packages (from requests>=2.0->muspy) (2021.10.8)\n",
      "Requirement already satisfied: pypianoroll in /home/cosenza/penv/lib/python3.6/site-packages (1.0.4)\n",
      "Requirement already satisfied: numpy>=1.12.0 in /home/cosenza/penv/lib/python3.6/site-packages (from pypianoroll) (1.19.5)\n",
      "Requirement already satisfied: matplotlib>=1.5 in /home/cosenza/penv/lib/python3.6/site-packages (from pypianoroll) (3.3.4)\n",
      "Requirement already satisfied: pretty-midi>=0.2.8 in /home/cosenza/penv/lib/python3.6/site-packages (from pypianoroll) (0.2.9)\n",
      "Requirement already satisfied: scipy>=1.0.0 in /home/cosenza/penv/lib/python3.6/site-packages (from pypianoroll) (1.5.4)\n",
      "Requirement already satisfied: python-dateutil>=2.1 in /home/cosenza/penv/lib/python3.6/site-packages (from matplotlib>=1.5->pypianoroll) (2.8.2)\n",
      "Requirement already satisfied: pillow>=6.2.0 in /home/cosenza/penv/lib/python3.6/site-packages (from matplotlib>=1.5->pypianoroll) (8.4.0)\n",
      "Requirement already satisfied: pyparsing!=2.0.4,!=2.1.2,!=2.1.6,>=2.0.3 in /home/cosenza/penv/lib/python3.6/site-packages (from matplotlib>=1.5->pypianoroll) (3.0.6)\n",
      "Requirement already satisfied: kiwisolver>=1.0.1 in /home/cosenza/penv/lib/python3.6/site-packages (from matplotlib>=1.5->pypianoroll) (1.3.1)\n",
      "Requirement already satisfied: cycler>=0.10 in /home/cosenza/penv/lib/python3.6/site-packages (from matplotlib>=1.5->pypianoroll) (0.11.0)\n",
      "Requirement already satisfied: mido>=1.1.16 in /home/cosenza/penv/lib/python3.6/site-packages (from pretty-midi>=0.2.8->pypianoroll) (1.2.10)\n",
      "Requirement already satisfied: six in /home/cosenza/penv/lib/python3.6/site-packages (from pretty-midi>=0.2.8->pypianoroll) (1.16.0)\n"
     ]
    }
   ],
   "source": [
    "# Install the required music libraries\n",
    "!pip3 install muspy\n",
    "!pip3 install pypianoroll"
   ]
  },
  {
   "cell_type": "code",
   "execution_count": 5,
   "metadata": {
    "colab": {
     "base_uri": "https://localhost:8080/"
    },
    "id": "3uveQkY7O0CF",
    "outputId": "12e1f638-ee78-4617-844a-10e9a26c298e",
    "scrolled": true
   },
   "outputs": [
    {
     "name": "stdout",
     "output_type": "stream",
     "text": [
      "Looking in links: https://data.pyg.org/whl/torch-1.10.0+cu102.html\n",
      "Requirement already satisfied: torch-scatter in /home/cosenza/penv/lib/python3.6/site-packages (2.0.9)\n",
      "Looking in links: https://data.pyg.org/whl/torch-1.10.0+cu102.html\n",
      "Requirement already satisfied: torch-sparse in /home/cosenza/penv/lib/python3.6/site-packages (0.6.12)\n",
      "Requirement already satisfied: scipy in /home/cosenza/penv/lib/python3.6/site-packages (from torch-sparse) (1.5.4)\n",
      "Requirement already satisfied: numpy>=1.14.5 in /home/cosenza/penv/lib/python3.6/site-packages (from scipy->torch-sparse) (1.19.5)\n",
      "Requirement already satisfied: torch-geometric in /home/cosenza/penv/lib/python3.6/site-packages (2.0.2)\n",
      "Requirement already satisfied: numpy in /home/cosenza/penv/lib/python3.6/site-packages (from torch-geometric) (1.19.5)\n",
      "Requirement already satisfied: tqdm in /home/cosenza/penv/lib/python3.6/site-packages (from torch-geometric) (4.62.3)\n",
      "Requirement already satisfied: scipy in /home/cosenza/penv/lib/python3.6/site-packages (from torch-geometric) (1.5.4)\n",
      "Requirement already satisfied: networkx in /home/cosenza/penv/lib/python3.6/site-packages (from torch-geometric) (2.5.1)\n",
      "Requirement already satisfied: scikit-learn in /home/cosenza/penv/lib/python3.6/site-packages (from torch-geometric) (0.24.2)\n",
      "Requirement already satisfied: requests in /home/cosenza/penv/lib/python3.6/site-packages (from torch-geometric) (2.26.0)\n",
      "Requirement already satisfied: pandas in /home/cosenza/penv/lib/python3.6/site-packages (from torch-geometric) (1.1.5)\n",
      "Requirement already satisfied: rdflib in /home/cosenza/penv/lib/python3.6/site-packages (from torch-geometric) (5.0.0)\n",
      "Requirement already satisfied: googledrivedownloader in /home/cosenza/penv/lib/python3.6/site-packages (from torch-geometric) (0.4)\n",
      "Requirement already satisfied: jinja2 in /home/cosenza/penv/lib/python3.6/site-packages (from torch-geometric) (3.0.3)\n",
      "Requirement already satisfied: pyparsing in /home/cosenza/penv/lib/python3.6/site-packages (from torch-geometric) (3.0.6)\n",
      "Requirement already satisfied: yacs in /home/cosenza/penv/lib/python3.6/site-packages (from torch-geometric) (0.1.8)\n",
      "Requirement already satisfied: PyYAML in /home/cosenza/penv/lib/python3.6/site-packages (from torch-geometric) (6.0)\n",
      "Requirement already satisfied: MarkupSafe>=2.0 in /home/cosenza/penv/lib/python3.6/site-packages (from jinja2->torch-geometric) (2.0.1)\n",
      "Requirement already satisfied: decorator<5,>=4.3 in /home/cosenza/penv/lib/python3.6/site-packages (from networkx->torch-geometric) (4.4.2)\n",
      "Requirement already satisfied: pytz>=2017.2 in /home/cosenza/penv/lib/python3.6/site-packages (from pandas->torch-geometric) (2021.3)\n",
      "Requirement already satisfied: python-dateutil>=2.7.3 in /home/cosenza/penv/lib/python3.6/site-packages (from pandas->torch-geometric) (2.8.2)\n",
      "Requirement already satisfied: isodate in /home/cosenza/penv/lib/python3.6/site-packages (from rdflib->torch-geometric) (0.6.0)\n",
      "Requirement already satisfied: six in /home/cosenza/penv/lib/python3.6/site-packages (from rdflib->torch-geometric) (1.16.0)\n",
      "Requirement already satisfied: idna<4,>=2.5 in /home/cosenza/penv/lib/python3.6/site-packages (from requests->torch-geometric) (3.3)\n",
      "Requirement already satisfied: urllib3<1.27,>=1.21.1 in /home/cosenza/penv/lib/python3.6/site-packages (from requests->torch-geometric) (1.26.7)\n",
      "Requirement already satisfied: charset-normalizer~=2.0.0 in /home/cosenza/penv/lib/python3.6/site-packages (from requests->torch-geometric) (2.0.8)\n",
      "Requirement already satisfied: certifi>=2017.4.17 in /home/cosenza/penv/lib/python3.6/site-packages (from requests->torch-geometric) (2021.10.8)\n",
      "Requirement already satisfied: threadpoolctl>=2.0.0 in /home/cosenza/penv/lib/python3.6/site-packages (from scikit-learn->torch-geometric) (3.0.0)\n",
      "Requirement already satisfied: joblib>=0.11 in /home/cosenza/penv/lib/python3.6/site-packages (from scikit-learn->torch-geometric) (1.1.0)\n"
     ]
    }
   ],
   "source": [
    "# Install torch_geometric\n",
    "!v=$(python -c \"import torch; print(torch.__version__)\"); \\\n",
    "pip install torch-scatter -f https://data.pyg.org/whl/torch-${v}.html; \\\n",
    "pip install torch-sparse -f https://data.pyg.org/whl/torch-${v}.html; \\\n",
    "pip install torch-geometric"
   ]
  },
  {
   "cell_type": "code",
   "execution_count": 6,
   "metadata": {
    "id": "B45l1513wJ1Q"
   },
   "outputs": [],
   "source": [
    "import os\n",
    "import muspy\n",
    "from itertools import product\n",
    "import pypianoroll as pproll\n",
    "import numpy as np\n",
    "import time\n",
    "\n",
    "\n",
    "class MIDIPreprocessor():\n",
    "    \n",
    "    def __init__():\n",
    "        pass\n",
    "\n",
    "    def preprocess_dataset(self, dir, early_exit=None):\n",
    "        pass\n",
    "    \n",
    "    def preprocess_file(self, f):\n",
    "        pass\n",
    "\n",
    "\n",
    "# Todo: to config file (or separate files)\n",
    "MAX_SIMU_NOTES = 16 # 14 + SOS and EOS\n",
    "\n",
    "PITCH_SOS = 128\n",
    "PITCH_EOS = 129\n",
    "PITCH_PAD = 130\n",
    "DUR_PAD_IND = 2\n",
    "MAX_DUR = 511 # equivalent to 16 bars (with RESOLUTION=32)\n",
    "\n",
    "RESOLUTION = 32\n",
    "NUM_BARS = 1\n",
    "\n",
    "\n",
    "def preprocess_file(filepath, dest_dir, num_samples):\n",
    "\n",
    "    saved_samples = 0\n",
    "\n",
    "    print()\n",
    "    print(\"Preprocessing file \" + filepath)\n",
    "\n",
    "    # Load the file both as a pypianoroll song and a muspy song\n",
    "    # (Need to load both since muspy.to_pypianoroll() is expensive)\n",
    "    try:\n",
    "        pproll_song = pproll.read(filepath, resolution=RESOLUTION)\n",
    "        muspy_song = muspy.read(filepath)\n",
    "    except Exception as e:\n",
    "        print(\"Song skipped (Invalid song format)\")\n",
    "        return 0\n",
    "    \n",
    "    # Only accept songs that have a time signature of 4/4 and no time changes\n",
    "    for t in muspy_song.time_signatures:\n",
    "        if t.numerator != 4 or t.denominator != 4:\n",
    "            print(\"Song skipped ({}/{} time signature)\".\n",
    "                            format(t.numerator, t.denominator))\n",
    "            return 0\n",
    "\n",
    "    # Gather tracks of pypianoroll song based on MIDI program number\n",
    "    drum_tracks = []\n",
    "    bass_tracks = []\n",
    "    guitar_tracks = []\n",
    "    strings_tracks = []\n",
    "\n",
    "    for track in pproll_song.tracks:\n",
    "        if track.is_drum:\n",
    "            track.name = 'Drums'\n",
    "            drum_tracks.append(track)\n",
    "        elif 0 <= track.program <= 31:\n",
    "            track.name = 'Guitar'\n",
    "            guitar_tracks.append(track)\n",
    "        elif 32 <= track.program <= 39:\n",
    "            track.name = 'Bass'\n",
    "            bass_tracks.append(track)\n",
    "        else:\n",
    "            # Tracks with program > 39 are all considered as strings tracks\n",
    "            # and will be merged into a single track later on\n",
    "            strings_tracks.append(track)\n",
    "\n",
    "    # Filter song if it does not contain drum, guitar, bass or strings tracks\n",
    "    if not drum_tracks or not guitar_tracks \\\n",
    "       or not bass_tracks or not strings_tracks:\n",
    "        print(\"Song skipped (does not contain drum or \"\n",
    "                \"guitar or bass or strings tracks)\")\n",
    "        return 0\n",
    "    \n",
    "    # Merge strings tracks into a single pypianoroll track\n",
    "    strings = pproll.Multitrack(tracks=strings_tracks)\n",
    "    strings_track = pproll.Track(pianoroll=strings.blend(mode='max'),\n",
    "                                 program=48, name='Strings')\n",
    "\n",
    "    combinations = list(product(drum_tracks, bass_tracks, guitar_tracks))\n",
    "\n",
    "    # Single instruments can have multiple tracks.\n",
    "    # Consider all possible combinations of drum, bass, and guitar tracks\n",
    "    for i, combination in enumerate(combinations):\n",
    "\n",
    "        print(\"Processing combination\", i+1, \"of\", len(combinations))\n",
    "        \n",
    "        # Process combination (called 'subsong' from now on)\n",
    "        drum_track, bass_track, guitar_track = combination\n",
    "        tracks = [drum_track, bass_track, guitar_track, strings_track]\n",
    "        \n",
    "        pproll_subsong = pproll.Multitrack(\n",
    "            tracks=tracks,\n",
    "            tempo=pproll_song.tempo,\n",
    "            resolution=RESOLUTION\n",
    "        )\n",
    "        muspy_subsong = muspy.from_pypianoroll(pproll_subsong)\n",
    "        \n",
    "        tracks_notes = [track.notes for track in muspy_subsong.tracks]\n",
    "        \n",
    "        # Obtain length of subsong (maximum of each track's length)\n",
    "        length = 0\n",
    "        for notes in tracks_notes:\n",
    "            track_length = max(note.end for note in notes)\n",
    "            length = max(length, track_length)\n",
    "        length += 1\n",
    "\n",
    "        # Add timesteps until length is a multiple of RESOLUTION\n",
    "        length = length if length%(RESOLUTION) == 0 \\\n",
    "                                else length + (RESOLUTION-(length%(RESOLUTION)))\n",
    "\n",
    "\n",
    "        tracks_tensors = []\n",
    "        tracks_activations = []\n",
    "\n",
    "        dur_bin_length = int(np.ceil(np.log2(MAX_DUR)))\n",
    "\n",
    "        # Todo: adapt to velocity\n",
    "        for notes in tracks_notes:\n",
    "\n",
    "            # Initialize encoder-ready track tensor\n",
    "            # track_tensor: (length x max_simu_notes x 2 (or 3 if velocity))\n",
    "            # The last dimension contains pitches and durations (and velocities)\n",
    "            # int16 is enough for small to medium duration values\n",
    "            track_tensor = np.zeros((length, MAX_SIMU_NOTES, 2), np.int16)\n",
    "\n",
    "            track_tensor[:, :, 0] = PITCH_PAD\n",
    "            track_tensor[:, 0, 0] = PITCH_SOS\n",
    "\n",
    "            # Keeps track of how many notes have been stored in each timestep\n",
    "            # (int8 imposes that MAX_SIMU_NOTES < 256)\n",
    "            notes_counter = np.ones(length, dtype=np.int8)\n",
    "\n",
    "            # Todo: np.put_along_axis?\n",
    "            for note in notes:\n",
    "                # Insert note in the lowest position available in the timestep\n",
    "                \n",
    "                t = note.time\n",
    "\n",
    "                if notes_counter[t] >= MAX_SIMU_NOTES-1:\n",
    "                    # Skip note if there is no more space\n",
    "                    continue\n",
    "\n",
    "                track_tensor[t, notes_counter[t], 0] = note.pitch\n",
    "                track_tensor[t, notes_counter[t], 1] = note.duration\n",
    "                notes_counter[t] += 1\n",
    "            \n",
    "            # Add end of sequence token\n",
    "            track_tensor[np.arange(0, length), notes_counter, 0] = PITCH_EOS\n",
    "\n",
    "            # Get track activations, a boolean tensor indicating whether notes\n",
    "            # are being played in a timestep (sustain does not count)\n",
    "            # (needed for graph rep.)\n",
    "            activations = np.array(notes_counter-1, dtype=bool)\n",
    "\n",
    "            tracks_tensors.append(track_tensor)\n",
    "            tracks_activations.append(activations)\n",
    "        \n",
    "        # (#tracks x length x max_simu_notes x 2 (or 3))\n",
    "        subsong_tensor = np.stack(tracks_tensors, axis=0)\n",
    "\n",
    "        # (#tracks x length)\n",
    "        subsong_activations = np.stack(tracks_activations, axis=0)\n",
    "\n",
    "\n",
    "        # Slide window over 'subsong_tensor' and 'subsong_activations' along the\n",
    "        # time axis (2nd dimension) with the stride of a bar\n",
    "        # Todo: np.lib.stride_tricks.as_strided(song_proll)\n",
    "        for i in range(0, length-NUM_BARS*RESOLUTION+1, RESOLUTION):\n",
    "            \n",
    "            # Get the sequence and its activations\n",
    "            seq_tensor = subsong_tensor[:, i:i+NUM_BARS*RESOLUTION, :]\n",
    "            seq_acts = subsong_activations[:, i:i+NUM_BARS*RESOLUTION]\n",
    "\n",
    "            # Skip sequence if it contains more than one bar of consecutive\n",
    "            # silence in at least one track\n",
    "            bars = seq_acts.reshape(seq_acts.shape[0], NUM_BARS, -1)\n",
    "            bars_acts = np.any(bars, axis=2)\n",
    "            \n",
    "            if 1 in np.diff(np.where(bars_acts == 0)[1]):\n",
    "                continue\n",
    "\n",
    "            # Randomly transpose the pitches of the sequence (-5 to 6 semitones)\n",
    "            shift = np.random.choice(np.arange(-5, 7), 1)\n",
    "            cond = (seq_tensor[:, :, :, 0] != PITCH_PAD) &                     \\\n",
    "                   (seq_tensor[:, :, :, 0] != PITCH_SOS) &                     \\\n",
    "                   (seq_tensor[:, :, :, 0] != PITCH_EOS)\n",
    "            seq_tensor[cond, 0] += shift\n",
    "\n",
    "            # Save sample (seq_tensor and seq_acts) to file\n",
    "            curr_sample = str(num_samples + saved_samples)\n",
    "            sample_filepath = os.path.join(dest_dir, curr_sample)\n",
    "            np.savez(sample_filepath, seq_tensor=seq_tensor, seq_acts=seq_acts)\n",
    "\n",
    "            saved_samples += 1\n",
    "\n",
    "\n",
    "    print(\"File preprocessing finished. Saved samples:\", saved_samples)\n",
    "    print()\n",
    "\n",
    "    return saved_samples\n",
    "\n",
    "\n",
    "\n",
    "\n",
    "# Total number of files: 116189\n",
    "# Number of unique files: 45129\n",
    "def preprocess_dataset(dataset_dir, dest_dir, early_exit=None):\n",
    "\n",
    "    files_dict = {}\n",
    "    seen = 0\n",
    "    tot_samples = 0\n",
    "    finished = False\n",
    "\n",
    "    # Visit recursively the directories inside the dataset directory\n",
    "    for dirpath, dirs, files in os.walk(dataset_dir):\n",
    "\n",
    "        # Sort alphabetically the found directories\n",
    "        # (to help guess the remaining time) \n",
    "        dirs.sort()\n",
    "        \n",
    "        print(\"Current path:\", dirpath)\n",
    "\n",
    "        for f in files:\n",
    "            \n",
    "            seen += 1\n",
    "\n",
    "            if f in files_dict:\n",
    "                # Skip already seen file\n",
    "                files_dict[f] += 1\n",
    "                continue\n",
    "\n",
    "            # File never seen before, add to dictionary of files\n",
    "            # (from filename to # of occurrences)\n",
    "            files_dict[f] = 1\n",
    "\n",
    "            # Preprocess file\n",
    "            filepath = os.path.join(dirpath, f)\n",
    "            saved = preprocess_file(filepath, dest_dir, tot_samples)\n",
    "\n",
    "            tot_samples += saved\n",
    "\n",
    "            # Exit when a maximum number of files has been processed (if set)\n",
    "            if early_exit != None and len(files_dict) >= early_exit:\n",
    "                finished = True\n",
    "                break\n",
    "\n",
    "        # Todo: also print # of processed (not filtered) files\n",
    "        #       and # of produced sequences (samples)\n",
    "        print(\"Total number of seen files:\", seen)\n",
    "        print(\"Number of unique files:\", len(files_dict))\n",
    "        print(\"Total number of saved samples:\", tot_samples)\n",
    "        print()\n",
    "\n",
    "        if finished:\n",
    "            break\n"
   ]
  },
  {
   "cell_type": "code",
   "execution_count": 7,
   "metadata": {
    "id": "aYc5y-CYyetK"
   },
   "outputs": [],
   "source": [
    "!rm -rf data/preprocessed/\n",
    "!mkdir data/preprocessed"
   ]
  },
  {
   "cell_type": "code",
   "execution_count": 8,
   "metadata": {
    "colab": {
     "base_uri": "https://localhost:8080/"
    },
    "id": "xqnubg3oP4ES",
    "outputId": "40cc38a2-1f7d-4f6f-e6c9-9e14dfc7f683"
   },
   "outputs": [
    {
     "name": "stdout",
     "output_type": "stream",
     "text": [
      "Current path: data/lmd_matched\n",
      "Total number of seen files: 0\n",
      "Number of unique files: 0\n",
      "Total number of saved samples: 0\n",
      "\n",
      "Current path: data/lmd_matched/A\n",
      "Total number of seen files: 0\n",
      "Number of unique files: 0\n",
      "Total number of saved samples: 0\n",
      "\n",
      "Current path: data/lmd_matched/A/A\n",
      "Total number of seen files: 0\n",
      "Number of unique files: 0\n",
      "Total number of saved samples: 0\n",
      "\n",
      "Current path: data/lmd_matched/A/A/A\n",
      "Total number of seen files: 0\n",
      "Number of unique files: 0\n",
      "Total number of saved samples: 0\n",
      "\n",
      "Current path: data/lmd_matched/A/A/A/TRAAAGR128F425B14B\n",
      "\n",
      "Preprocessing file data/lmd_matched/A/A/A/TRAAAGR128F425B14B/1d9d16a9da90c090809c153754823c2b.mid\n",
      "Processing combination 1 of 7\n",
      "Processing combination 2 of 7\n",
      "Processing combination 3 of 7\n",
      "Processing combination 4 of 7\n",
      "Processing combination 5 of 7\n",
      "Processing combination 6 of 7\n",
      "Processing combination 7 of 7\n",
      "File preprocessing finished. Saved samples: 3059\n",
      "\n",
      "\n",
      "Preprocessing file data/lmd_matched/A/A/A/TRAAAGR128F425B14B/5dd29e99ed7bd3cc0c5177a6e9de22ea.mid\n",
      "Processing combination 1 of 5\n",
      "Processing combination 2 of 5\n",
      "Processing combination 3 of 5\n",
      "Processing combination 4 of 5\n",
      "Processing combination 5 of 5\n",
      "File preprocessing finished. Saved samples: 2130\n",
      "\n",
      "Total number of seen files: 2\n",
      "Number of unique files: 2\n",
      "Total number of saved samples: 5189\n",
      "\n"
     ]
    }
   ],
   "source": [
    "# Preprocess the dataset\n",
    "dataset_dir = 'data/lmd_matched'\n",
    "dest_dir = 'data/preprocessed'\n",
    "preprocess_dataset(dataset_dir, dest_dir, early_exit=2)"
   ]
  },
  {
   "cell_type": "markdown",
   "metadata": {
    "id": "RG88mekfrrcp"
   },
   "source": [
    "Check preprocessed data:"
   ]
  },
  {
   "cell_type": "code",
   "execution_count": 9,
   "metadata": {
    "id": "JlP6iUNugNtP"
   },
   "outputs": [],
   "source": [
    "filepath = os.path.join(dest_dir, \"5.npz\")\n",
    "data = np.load(filepath)"
   ]
  },
  {
   "cell_type": "code",
   "execution_count": 10,
   "metadata": {
    "colab": {
     "base_uri": "https://localhost:8080/"
    },
    "id": "3VUpOEObhwYQ",
    "outputId": "aac6e029-93b1-485f-f13a-2a00abedbc7a"
   },
   "outputs": [
    {
     "name": "stdout",
     "output_type": "stream",
     "text": [
      "(4, 32, 16, 2)\n",
      "(4, 32)\n"
     ]
    }
   ],
   "source": [
    "print(data[\"seq_tensor\"].shape)\n",
    "print(data[\"seq_acts\"].shape)"
   ]
  },
  {
   "cell_type": "code",
   "execution_count": 11,
   "metadata": {
    "colab": {
     "base_uri": "https://localhost:8080/"
    },
    "id": "A6NA5IAAmtK8",
    "outputId": "6e661b3a-05a1-4e2d-9a3d-e1c037b4d04f"
   },
   "outputs": [
    {
     "data": {
      "text/plain": [
       "array([[128,   0],\n",
       "       [129,   0],\n",
       "       [130,   0],\n",
       "       [130,   0],\n",
       "       [130,   0],\n",
       "       [130,   0],\n",
       "       [130,   0],\n",
       "       [130,   0],\n",
       "       [130,   0],\n",
       "       [130,   0],\n",
       "       [130,   0],\n",
       "       [130,   0],\n",
       "       [130,   0],\n",
       "       [130,   0],\n",
       "       [130,   0],\n",
       "       [130,   0]], dtype=int16)"
      ]
     },
     "execution_count": 11,
     "metadata": {},
     "output_type": "execute_result"
    }
   ],
   "source": [
    "data[\"seq_tensor\"][0, 0]"
   ]
  },
  {
   "cell_type": "markdown",
   "metadata": {
    "id": "C19X9m-3iMlm"
   },
   "source": [
    "# Model"
   ]
  },
  {
   "cell_type": "code",
   "execution_count": 12,
   "metadata": {
    "id": "zymqD-UqR8wq"
   },
   "outputs": [],
   "source": [
    "from torch.utils.data import Dataset\n",
    "from torch.utils.data import DataLoader\n",
    "import itertools\n",
    "\n",
    "\n",
    "def unpackbits(x, num_bits):\n",
    "\n",
    "    if np.issubdtype(x.dtype, np.floating):\n",
    "        raise ValueError(\"numpy data type needs to be int-like\")\n",
    "\n",
    "    xshape = list(x.shape)\n",
    "    x = x.reshape([-1, 1])\n",
    "    mask = 2**np.arange(num_bits, dtype=x.dtype).reshape([1, num_bits])\n",
    "\n",
    "    return (x & mask).astype(bool).astype(int).reshape(xshape + [num_bits])\n",
    "\n",
    "\n",
    "class MIDIDataset(Dataset):\n",
    "\n",
    "    def __init__(self, dir):\n",
    "        self.dir = dir\n",
    "\n",
    "    def __len__(self):\n",
    "        _, _, files = next(os.walk(self.dir))\n",
    "        return len(files)\n",
    "\n",
    "    \n",
    "    def __get_track_edges(self, acts, edge_type_ind=0):\n",
    "\n",
    "        a_t = acts.transpose()\n",
    "        inds = np.stack(np.where(a_t == 1)).transpose()\n",
    "\n",
    "        labels = np.arange(acts.shape[0]*acts.shape[1])\n",
    "        labels = labels.reshape(acts.shape[0], acts.shape[1]).transpose()\n",
    "\n",
    "        track_edges = []\n",
    "\n",
    "        for track in range(a_t.shape[1]):\n",
    "            tr_inds = list(inds[inds[:,1] == track])\n",
    "            e_inds = [(tr_inds[i],\n",
    "                    tr_inds[i+1]) for i in range(len(tr_inds)-1)]\n",
    "            edges = [(labels[tuple(e[0])], labels[tuple(e[1])], edge_type_ind, e[1][0]-e[0][0]) for e in e_inds]\n",
    "            track_edges.extend(edges)\n",
    "\n",
    "        return np.array(track_edges, dtype='long')\n",
    "\n",
    "    \n",
    "    def __get_onset_edges(self, acts, edge_type_ind=1):\n",
    "\n",
    "        a_t = acts.transpose()\n",
    "        inds = np.stack(np.where(a_t == 1)).transpose()\n",
    "        ts_acts = np.any(a_t, axis=1)\n",
    "        ts_inds = np.where(ts_acts)[0]\n",
    "\n",
    "        labels = np.arange(acts.shape[0]*acts.shape[1])\n",
    "        labels = labels.reshape(acts.shape[0], acts.shape[1]).transpose()\n",
    "\n",
    "        onset_edges = []\n",
    "\n",
    "        for i in ts_inds:\n",
    "            ts_acts_inds = list(inds[inds[:,0] == i])\n",
    "            if len(ts_acts_inds) < 2:\n",
    "                continue\n",
    "            e_inds = list(itertools.combinations(ts_acts_inds, 2))\n",
    "            edges = [(labels[tuple(e[0])], labels[tuple(e[1])], edge_type_ind, 0) for e in e_inds]\n",
    "            inv_edges = [(e[1], e[0], *e[2:]) for e in edges]\n",
    "            onset_edges.extend(edges)\n",
    "            onset_edges.extend(inv_edges)\n",
    "\n",
    "        return np.array(onset_edges, dtype='long')\n",
    "\n",
    "\n",
    "    def __get_next_edges(self, acts, edge_type_ind=2):\n",
    "\n",
    "        a_t = acts.transpose()\n",
    "        inds = np.stack(np.where(a_t == 1)).transpose()\n",
    "        ts_acts = np.any(a_t, axis=1)\n",
    "        ts_inds = np.where(ts_acts)[0]\n",
    "\n",
    "        labels = np.arange(acts.shape[0]*acts.shape[1])\n",
    "        labels = labels.reshape(acts.shape[0], acts.shape[1]).transpose()\n",
    "\n",
    "        next_edges = []\n",
    "\n",
    "        for i in range(len(ts_inds)-1):\n",
    "\n",
    "            ind_s = ts_inds[i]\n",
    "            ind_e = ts_inds[i+1]\n",
    "            s = inds[inds[:,0] == ind_s]\n",
    "            e = inds[inds[:,0] == ind_e]\n",
    "\n",
    "            e_inds = [t for t in list(itertools.product(s, e)) if t[0][1] != t[1][1]]\n",
    "            edges = [(labels[tuple(e[0])],labels[tuple(e[1])], edge_type_ind, ind_e-ind_s) for e in e_inds]\n",
    "\n",
    "            next_edges.extend(edges)\n",
    "\n",
    "        return np.array(next_edges, dtype='long')\n",
    "\n",
    "\n",
    "    def __getitem__(self, idx):\n",
    "\n",
    "        # Load tensors\n",
    "        sample_path = os.path.join(self.dir, str(idx) + \".npz\")\n",
    "        data = np.load(sample_path)\n",
    "\n",
    "        seq_tensor = data[\"seq_tensor\"]\n",
    "        seq_acts = data[\"seq_acts\"]\n",
    "\n",
    "        # From decimals to one-hot (pitch)\n",
    "        pitches = seq_tensor[:, :, :, 0]\n",
    "        onehot = np.zeros((pitches.shape[0]*pitches.shape[1]*pitches.shape[2],\n",
    "                            131), dtype=np.float)\n",
    "        onehot[np.arange(0, onehot.shape[0]), pitches.reshape(-1)] = 1.\n",
    "        onehot = onehot.reshape(-1, pitches.shape[1], seq_tensor.shape[2], 131)\n",
    "\n",
    "        # From decimals to binary (pitch)\n",
    "        durs = seq_tensor[:, :, :, 1]\n",
    "        bin_durs = unpackbits(durs, 9)[:, :, :, ::-1]\n",
    "\n",
    "        # Concatenate pitches and durations\n",
    "        new_seq_tensor = np.concatenate((onehot[:, :, :, :], bin_durs),\n",
    "                             axis=-1)\n",
    "        \n",
    "        # Construct graph from boolean activations\n",
    "        track_edges = self.__get_track_edges(seq_acts)\n",
    "        onset_edges = self.__get_onset_edges(seq_acts)\n",
    "        next_edges = self.__get_next_edges(seq_acts)\n",
    "        edges = [track_edges, onset_edges, next_edges]\n",
    "\n",
    "        edge_index = np.concatenate([x for x in edges if x.size > 0])\n",
    "        \n",
    "        return new_seq_tensor, data[\"seq_acts\"], edge_index\n"
   ]
  },
  {
   "cell_type": "code",
   "execution_count": 13,
   "metadata": {
    "id": "mqNwlt-hVKbX"
   },
   "outputs": [],
   "source": [
    "ds_dir = \"data/preprocessed\"\n",
    "dataset = MIDIDataset(ds_dir)\n",
    "loader = DataLoader(dataset, batch_size=2, shuffle=True)"
   ]
  },
  {
   "cell_type": "code",
   "execution_count": 14,
   "metadata": {
    "colab": {
     "base_uri": "https://localhost:8080/"
    },
    "id": "e7n61CIb3bB5",
    "outputId": "faf4099c-b444-4230-9ffc-576985cfc99c"
   },
   "outputs": [
    {
     "data": {
      "text/plain": [
       "array([[0., 0., 0., 1., 0., 0., 0., 0., 0., 0., 0., 0., 0., 0., 0.],\n",
       "       [0., 0., 0., 0., 1., 0., 0., 0., 0., 0., 0., 0., 0., 0., 0.],\n",
       "       [0., 0., 0., 0., 0., 1., 0., 0., 0., 0., 0., 0., 0., 0., 0.],\n",
       "       [0., 0., 0., 0., 0., 1., 0., 0., 0., 0., 0., 0., 0., 0., 0.],\n",
       "       [0., 0., 0., 0., 0., 1., 0., 0., 0., 0., 0., 0., 0., 0., 0.],\n",
       "       [0., 0., 0., 0., 0., 1., 0., 0., 0., 0., 0., 0., 0., 0., 0.],\n",
       "       [0., 0., 0., 0., 0., 1., 0., 0., 0., 0., 0., 0., 0., 0., 0.],\n",
       "       [0., 0., 0., 0., 0., 1., 0., 0., 0., 0., 0., 0., 0., 0., 0.],\n",
       "       [0., 0., 0., 0., 0., 1., 0., 0., 0., 0., 0., 0., 0., 0., 0.],\n",
       "       [0., 0., 0., 0., 0., 1., 0., 0., 0., 0., 0., 0., 0., 0., 0.],\n",
       "       [0., 0., 0., 0., 0., 1., 0., 0., 0., 0., 0., 0., 0., 0., 0.],\n",
       "       [0., 0., 0., 0., 0., 1., 0., 0., 0., 0., 0., 0., 0., 0., 0.],\n",
       "       [0., 0., 0., 0., 0., 1., 0., 0., 0., 0., 0., 0., 0., 0., 0.],\n",
       "       [0., 0., 0., 0., 0., 1., 0., 0., 0., 0., 0., 0., 0., 0., 0.],\n",
       "       [0., 0., 0., 0., 0., 1., 0., 0., 0., 0., 0., 0., 0., 0., 0.],\n",
       "       [0., 0., 0., 0., 0., 1., 0., 0., 0., 0., 0., 0., 0., 0., 0.]])"
      ]
     },
     "execution_count": 14,
     "metadata": {},
     "output_type": "execute_result"
    }
   ],
   "source": [
    "dataset[5][0][0,0,:,-15:]"
   ]
  },
  {
   "cell_type": "code",
   "execution_count": 46,
   "metadata": {
    "id": "hSwcnlq4g50O"
   },
   "outputs": [],
   "source": [
    "import torch\n",
    "from torch import nn, Tensor\n",
    "from torch_geometric.data import Data\n",
    "from torch_geometric.nn.conv import GCNConv\n",
    "import torch.nn.functional as F\n",
    "import math\n",
    "\n",
    "\n",
    "# Todo: check and think about max_len\n",
    "class PositionalEncoding(nn.Module):\n",
    "\n",
    "    def __init__(self, d_model: int, dropout: float = 0.1, max_len: int = 256):\n",
    "        super().__init__()\n",
    "        self.dropout = nn.Dropout(p=dropout)\n",
    "\n",
    "        position = torch.arange(max_len).unsqueeze(1)\n",
    "        div_term = torch.exp(torch.arange(0, d_model, 2) *                     \\\n",
    "                             (-math.log(10000.0)/d_model))\n",
    "        pe = torch.zeros(max_len, 1, d_model)\n",
    "        pe[:, 0, 0::2] = torch.sin(position*div_term)\n",
    "        pe[:, 0, 1::2] = torch.cos(position*div_term)\n",
    "        self.register_buffer('pe', pe)\n",
    "\n",
    "    def forward(self, x: Tensor) -> Tensor:\n",
    "        \"\"\"\n",
    "        Args:\n",
    "            x: Tensor, shape [seq_len, batch_size, embedding_dim]\n",
    "        \"\"\"\n",
    "        x = x + self.pe[:x.size(0)]\n",
    "        return self.dropout(x)\n",
    "\n",
    "\n",
    "class GCN(nn.Module):\n",
    "    \n",
    "    def __init__(self, features_dims=[256, 256, 256], num_relations=3):\n",
    "        super().__init__()\n",
    "        self.layers = []\n",
    "        for i in range(len(features_dims)-1):\n",
    "            self.layers.append(GCNConv(features_dims[i], features_dims[i+1]))\n",
    "\n",
    "    def forward(self, data):\n",
    "        x, edge_index = data.x, data.edge_index\n",
    "        \n",
    "        for layer in self.layers:\n",
    "            x = F.dropout(x, training=self.training)\n",
    "            x = layer(x, edge_index)\n",
    "            x = F.relu(x)\n",
    "\n",
    "        return x\n",
    "\n",
    "\n",
    "class Encoder(nn.Module):\n",
    "\n",
    "    # 140 = 128+3+9\n",
    "    def __init__(self, d_token=140, d_transf=256, nhead_transf=4, \n",
    "                 num_layers_transf=2, dropout=0.1):\n",
    "        super().__init__()\n",
    "\n",
    "        # Transformer Encoder\n",
    "        self.embedding = nn.Linear(d_token, d_transf)\n",
    "        self.pos_encoder = PositionalEncoding(d_transf, dropout)\n",
    "        transf_layer = nn.TransformerEncoderLayer(\n",
    "            d_model=d_transf,\n",
    "            nhead=nhead_transf\n",
    "        )\n",
    "        self.transformer_encoder = nn.TransformerEncoder(\n",
    "            transf_layer,\n",
    "            num_layers=num_layers_transf\n",
    "        )\n",
    "\n",
    "        # Graph encoder\n",
    "        self.graph_encoder = GCN()\n",
    "\n",
    "        # (LSTM)\n",
    "\n",
    "\n",
    "    def forward(self, x_seq, x_acts, x_edges):\n",
    "\n",
    "        # Move to training loop!\n",
    "        #x_seq, x_acts = torch.Tensor(x_seq), torch.Tensor(x_acts)\n",
    "\n",
    "        # Collapse track dimension\n",
    "        print(\"Init input:\", x_seq.size())\n",
    "        x_seq = x_seq.view(x_seq.size(0)*x_seq.size(1), x_seq.size(2), -1)\n",
    "        print(\"Reshaped input:\", x_seq.size())\n",
    "\n",
    "        # Compute embeddings\n",
    "        embs = self.embedding(x_seq)\n",
    "        print(\"Embs:\", embs.size())\n",
    "\n",
    "        # batch_first = False\n",
    "        embs = torch.permute(embs, (1, 0, 2))\n",
    "        print(\"Seq len first input:\", embs.size())\n",
    "\n",
    "        pos_encs = self.pos_encoder(embs)\n",
    "        print(\"Pos encodings:\", pos_encs.size())\n",
    "\n",
    "        # src_key_padding_mask = (src != pad).unsqueeze(-2) ?\n",
    "        transformer_encs = self.transformer_encoder(pos_encs)\n",
    "        print(\"Transf encodings:\", transformer_encs.size())\n",
    "\n",
    "        pooled_encs = torch.mean(transformer_encs, 0)\n",
    "        print(\"Pooled encodings:\", pooled_encs.size())\n",
    "\n",
    "        print(pooled_encs.view(4, 32, -1).size())\n",
    "\n",
    "        # Compute graph embedding (Do not consider type and dist for now)\n",
    "        graph = Data(x=pooled_encs, edge_index=x_edges[:,:2].t().contiguous())\n",
    "        node_encs = self.graph_encoder(graph)\n",
    "\n",
    "        print(\"Node encodings:\", node_encs.size())\n",
    "\n",
    "        # z\n",
    "        z = torch.mean(node_encs, 0)\n",
    "        print(\"z:\", z.size())\n",
    "\n",
    "        return z\n",
    "\n",
    "\n",
    "class Decoder(nn.Module):\n",
    "\n",
    "    def __init__(self, d_z=256, n_tracks=4, resolution=32, d_token=140, d_model=256,\n",
    "                 d_transf=256, nhead_transf=4, num_layers_transf=2, dropout=0.1):\n",
    "        super().__init__()\n",
    "\n",
    "        # (LSTM)\n",
    "\n",
    "        # Boolean activations decoder (CNN/MLP)\n",
    "        self.acts_decoder = nn.Linear(d_z, n_tracks*resolution)\n",
    "\n",
    "        # GNN\n",
    "        self.graph_decoder = GCN()\n",
    "        \n",
    "        # Transformer Decoder\n",
    "        self.embedding = nn.Linear(d_token, d_transf)\n",
    "        self.pos_encoder = PositionalEncoding(d_transf, dropout)\n",
    "        decoder_layer = nn.TransformerDecoderLayer(d_model=d_model, nhead=nhead_transf)\n",
    "        self.transf_decoder = nn.TransformerDecoder(decoder_layer, num_layers=num_layers_transf)\n",
    "\n",
    "\n",
    "    def forward(self, z, x_seq, x_acts, x_edges):\n",
    "\n",
    "        # Compute activations from z\n",
    "        acts = self.acts_decoder(z)\n",
    "\n",
    "        # Initialize node features with z and propagate with GNN\n",
    "        node_features = z.tile((x_seq.size(0)*x_seq.size(1), 1))\n",
    "        print(\"Node features:\", node_features.size())\n",
    "\n",
    "        graph = Data(x=node_features, edge_index=x_edges[:,:2].t().contiguous())\n",
    "        node_decs = self.graph_decoder(graph)\n",
    "        print(\"Node decodings:\", node_decs.size())\n",
    "        \n",
    "        node_decs = node_decs.tile((16, 1, 1))\n",
    "        print(\"Tiled node decodings:\", node_decs.size())\n",
    "\n",
    "        # Decode features with transformer decoder\n",
    "        # forward(tgt, memory, tgt_mask=None, memory_mask=None, tgt_key_padding_mask=None, memory_key_padding_mask=None)\n",
    "        \n",
    "        # Todo: same embeddings as encoder?\n",
    "        x_seq = x_seq.view(x_seq.size(0)*x_seq.size(1), x_seq.size(2), -1)\n",
    "        embs = self.embedding(x_seq)\n",
    "        embs = torch.permute(embs, (1, 0, 2))\n",
    "        pos_encs = self.pos_encoder(embs)\n",
    "\n",
    "        # Todo: apply linear + softmax (? nope, since don't have one hot...) and give that as output\n",
    "        out = self.transf_decoder(pos_encs, node_decs)\n",
    "        print(\"Out:\", out.size())\n",
    "\n",
    "        return out\n",
    "\n",
    "\n",
    "class VAE(nn.Module):\n",
    "\n",
    "    def __init__():\n",
    "        super().__init__()\n",
    "\n",
    "        self.encoder = Encoder()\n",
    "        self.decoder = Decoder()\n",
    "\n",
    "\n"
   ]
  },
  {
   "cell_type": "code",
   "execution_count": 47,
   "metadata": {
    "id": "gvac1MaK3tKc",
    "scrolled": true
   },
   "outputs": [
    {
     "name": "stdout",
     "output_type": "stream",
     "text": [
      "Init input: torch.Size([4, 32, 16, 140])\n",
      "Reshaped input: torch.Size([128, 16, 140])\n",
      "Embs: torch.Size([128, 16, 256])\n",
      "Seq len first input: torch.Size([16, 128, 256])\n",
      "Pos encodings: torch.Size([16, 128, 256])\n",
      "Transf encodings: torch.Size([16, 128, 256])\n",
      "Pooled encodings: torch.Size([128, 256])\n",
      "torch.Size([4, 32, 256])\n",
      "Node encodings: torch.Size([128, 256])\n",
      "z: torch.Size([256])\n"
     ]
    },
    {
     "data": {
      "text/plain": [
       "tensor([0.4477, 0.0495, 0.2345, 0.2929, 0.7575, 0.4149, 0.1421, 0.0240, 0.7783,\n",
       "        0.7194, 0.4728, 0.0598, 0.5630, 0.5568, 0.4410, 0.7405, 0.1571, 0.2969,\n",
       "        0.6376, 0.3611, 0.2678, 0.7629, 0.1092, 0.8579, 0.1640, 0.5448, 0.3612,\n",
       "        0.8287, 0.6582, 0.0599, 1.1057, 0.4491, 1.3386, 0.4153, 0.0902, 0.2870,\n",
       "        0.6229, 1.0638, 0.3927, 0.9771, 0.0255, 0.0133, 0.5932, 0.0469, 0.0625,\n",
       "        0.1025, 0.2335, 0.5298, 0.3404, 0.1725, 0.8739, 0.0398, 0.0929, 0.2949,\n",
       "        0.7459, 0.6349, 0.0876, 0.2734, 0.6127, 0.3415, 0.5977, 0.2574, 0.4057,\n",
       "        2.1426, 0.1908, 0.5850, 0.1144, 0.0369, 0.4363, 0.1092, 0.3690, 0.3566,\n",
       "        0.4223, 0.9531, 0.8340, 0.2729, 0.8297, 0.3663, 0.5363, 0.0646, 0.7212,\n",
       "        0.4825, 0.1499, 0.2333, 0.2428, 0.2849, 0.1773, 0.3169, 0.9855, 0.2377,\n",
       "        0.9929, 0.8291, 0.5957, 0.1200, 0.1626, 0.5835, 0.1706, 0.2335, 0.6749,\n",
       "        0.1804, 0.3911, 0.2384, 0.4445, 0.3800, 0.0792, 0.5487, 0.6030, 0.5585,\n",
       "        0.1877, 0.2955, 0.3112, 0.3307, 0.2213, 0.1116, 0.6449, 0.5610, 1.3858,\n",
       "        0.3032, 0.5565, 1.2592, 0.2632, 0.1520, 0.2942, 0.1107, 0.3720, 0.0848,\n",
       "        0.9735, 1.1937, 0.5247, 0.8449, 0.2339, 0.5628, 0.3113, 1.1214, 1.0659,\n",
       "        0.4760, 0.5353, 0.6946, 0.0725, 0.3034, 0.1038, 0.0879, 0.1626, 0.0605,\n",
       "        0.6257, 0.3007, 0.3821, 0.0308, 0.8905, 0.2109, 0.4784, 1.5622, 0.1405,\n",
       "        0.4103, 1.0234, 0.2941, 0.5193, 0.0324, 0.1920, 0.2663, 0.3047, 0.8677,\n",
       "        0.1306, 0.8099, 0.1050, 0.6959, 0.2399, 0.7861, 0.1734, 0.3393, 0.1364,\n",
       "        0.1410, 0.2893, 0.1319, 0.7144, 0.4106, 0.5767, 0.5374, 0.7749, 0.3350,\n",
       "        0.1555, 0.1017, 0.6681, 0.3782, 0.4038, 0.3123, 0.1050, 0.1337, 0.6675,\n",
       "        0.5144, 0.2930, 0.9253, 0.0291, 0.7201, 0.3271, 0.0261, 0.5073, 0.6442,\n",
       "        0.5974, 0.4840, 0.6233, 0.2561, 0.8717, 0.0563, 0.0501, 0.3876, 0.7750,\n",
       "        0.0302, 0.5710, 0.0993, 0.9818, 0.2983, 0.3143, 1.9086, 0.5334, 0.0133,\n",
       "        0.5381, 0.3235, 0.5704, 0.8235, 0.7349, 0.9188, 0.5080, 1.1183, 0.3155,\n",
       "        0.4915, 0.2159, 0.0880, 0.7941, 0.8288, 0.2583, 0.0640, 0.3845, 0.2925,\n",
       "        0.2775, 0.0439, 0.3548, 0.1108, 0.7669, 0.3568, 0.1914, 0.8315, 0.1171,\n",
       "        0.1025, 0.4730, 0.3760, 0.2225, 0.1309, 0.5592, 1.0204, 0.4116, 0.8435,\n",
       "        0.1124, 0.8414, 1.1073, 0.2733], grad_fn=<MeanBackward1>)"
      ]
     },
     "execution_count": 47,
     "metadata": {},
     "output_type": "execute_result"
    }
   ],
   "source": [
    "encoder = Encoder()\n",
    "encoder(torch.Tensor(dataset[0][0]), torch.Tensor(dataset[0][1]), torch.LongTensor(dataset[0][2]))"
   ]
  },
  {
   "cell_type": "code",
   "execution_count": 48,
   "metadata": {
    "colab": {
     "base_uri": "https://localhost:8080/"
    },
    "id": "3nhcnlbbET_t",
    "outputId": "9e379cff-a00d-4564-9ea4-8ff72643190e"
   },
   "outputs": [
    {
     "name": "stdout",
     "output_type": "stream",
     "text": [
      "Node features: torch.Size([128, 256])\n",
      "Node decodings: torch.Size([128, 256])\n",
      "Tiled node decodings: torch.Size([16, 128, 256])\n",
      "Out: torch.Size([16, 128, 256])\n"
     ]
    },
    {
     "data": {
      "text/plain": [
       "tensor([[[ 0.2900,  0.6989, -0.9252,  ...,  0.1522, -2.0183, -0.7227],\n",
       "         [ 0.3627,  0.6548, -0.2029,  ...,  1.5759, -1.6501,  0.1980],\n",
       "         [ 0.0260,  0.5847,  0.0673,  ...,  0.9754, -1.9325, -1.3408],\n",
       "         ...,\n",
       "         [ 0.6202,  0.8397, -0.1130,  ...,  0.5504, -2.5201, -0.2591],\n",
       "         [-0.2135,  1.4438,  0.3999,  ..., -0.1636, -1.7162, -0.8531],\n",
       "         [ 0.2095,  0.4299,  0.5476,  ...,  1.1323, -1.8002, -1.3788]],\n",
       "\n",
       "        [[ 1.6026,  0.9391,  0.5257,  ...,  1.2456, -2.0053,  0.1142],\n",
       "         [ 1.4387,  0.1096,  0.8202,  ...,  1.5734, -1.4523,  0.5201],\n",
       "         [ 0.7716, -0.0112,  1.3974,  ...,  1.1762, -1.5751, -0.7301],\n",
       "         ...,\n",
       "         [ 1.4959,  0.1715,  0.5584,  ...,  1.3923, -2.2828, -0.1164],\n",
       "         [ 0.9732,  1.3267,  1.1159,  ..., -0.1838, -1.6415, -0.0955],\n",
       "         [ 0.6043, -0.0426,  1.5993,  ...,  1.4133, -2.3259, -1.0893]],\n",
       "\n",
       "        [[ 1.2903, -0.0108, -0.1198,  ...,  1.4890, -2.2914, -0.7442],\n",
       "         [ 1.4567, -0.9643, -0.1772,  ...,  1.7007, -2.0976,  0.6199],\n",
       "         [ 0.3112, -1.0790,  1.3772,  ...,  0.9386, -1.5491, -0.0303],\n",
       "         ...,\n",
       "         [ 1.4938, -0.9691,  0.2889,  ...,  1.4977, -1.9158, -1.3105],\n",
       "         [ 0.8144, -0.2219,  0.6647,  ...,  0.3833, -1.4718,  0.3841],\n",
       "         [ 0.8404, -1.0476,  1.5838,  ...,  0.8823, -2.2153,  0.2213]],\n",
       "\n",
       "        ...,\n",
       "\n",
       "        [[ 0.8132,  1.5940, -0.8956,  ...,  1.4048, -1.6865, -0.5918],\n",
       "         [ 0.6451,  0.6185, -1.2197,  ...,  1.3696, -1.7414,  0.2264],\n",
       "         [ 0.2756, -0.1363, -0.4114,  ...,  0.8218, -1.5791, -1.0835],\n",
       "         ...,\n",
       "         [ 1.0494,  0.2396, -0.6813,  ...,  1.1092, -2.5230, -0.3320],\n",
       "         [-0.3571,  1.2775, -0.7782,  ...,  0.1732, -1.0385, -0.5531],\n",
       "         [-0.4114,  0.0456, -0.3007,  ...,  0.3607, -1.8870, -1.8760]],\n",
       "\n",
       "        [[ 1.0890,  0.6545, -0.7134,  ...,  1.5164, -1.6681, -1.5470],\n",
       "         [ 0.8827, -0.6287, -0.2990,  ...,  1.4288, -1.6801,  0.5053],\n",
       "         [ 0.6970, -0.3936,  0.6123,  ...,  0.9597, -1.3395, -0.5310],\n",
       "         ...,\n",
       "         [ 1.8273, -0.3239, -0.0437,  ...,  1.3948, -2.2814, -0.7161],\n",
       "         [ 0.6112,  0.4462,  0.1907,  ...,  0.2736, -1.2363, -0.5641],\n",
       "         [-0.2627, -0.5893,  0.6752,  ...,  0.4431, -1.7106, -0.6760]],\n",
       "\n",
       "        [[ 0.6815, -0.2149,  0.3002,  ...,  1.6189, -2.1215,  0.0193],\n",
       "         [ 0.8664, -1.2539,  0.5235,  ...,  1.5561, -1.4944,  0.3582],\n",
       "         [-0.1826, -1.5028,  1.4749,  ...,  0.9108, -1.5306, -1.1727],\n",
       "         ...,\n",
       "         [ 1.2185, -1.0146,  0.4251,  ...,  1.4196, -2.0800, -0.1402],\n",
       "         [ 0.2680, -0.7854,  1.0211,  ...,  0.5634, -1.2167, -0.6348],\n",
       "         [ 0.4214, -0.8507,  0.9785,  ...,  0.6700, -1.7319,  1.0050]]],\n",
       "       grad_fn=<NativeLayerNormBackward0>)"
      ]
     },
     "execution_count": 48,
     "metadata": {},
     "output_type": "execute_result"
    }
   ],
   "source": [
    "decoder = Decoder()\n",
    "decoder(torch.randn(256), torch.Tensor(dataset[0][0]), torch.Tensor(dataset[0][1]), torch.LongTensor(dataset[0][2]))"
   ]
  },
  {
   "cell_type": "code",
   "execution_count": 23,
   "metadata": {
    "colab": {
     "base_uri": "https://localhost:8080/"
    },
    "id": "LYr5VVlk8OtQ",
    "outputId": "a3132dad-2ab7-46c2-e2a0-2146fd34c2f8"
   },
   "outputs": [
    {
     "data": {
      "text/plain": [
       "tensor([-0.0182,  0.9335,  0.0892,  1.0945, -0.6291,  1.5823,  0.4758, -0.6860,\n",
       "         1.1325,  2.6402,  0.9477,  0.4567, -0.7415,  0.3397, -0.9932, -2.2380,\n",
       "         0.8263, -0.7172, -1.3941,  0.3867, -0.5989,  0.4979, -1.0051, -0.4637,\n",
       "        -1.1419,  0.0978,  0.2008, -0.4258, -0.2309, -0.9937, -0.5638, -2.0053])"
      ]
     },
     "execution_count": 23,
     "metadata": {},
     "output_type": "execute_result"
    }
   ],
   "source": []
  },
  {
   "cell_type": "markdown",
   "metadata": {
    "id": "KTFN-DCJjZWM"
   },
   "source": [
    "# Stuff"
   ]
  },
  {
   "cell_type": "code",
   "execution_count": null,
   "metadata": {
    "id": "4sSvVK7CxjV8"
   },
   "outputs": [],
   "source": [
    "from typing import Optional, Union, Tuple\n",
    "from torch_geometric.typing import OptTensor, Adj\n",
    "\n",
    "import torch\n",
    "from torch import Tensor\n",
    "import torch.nn.functional as F\n",
    "from torch.nn import Parameter as Param\n",
    "from torch.nn import Parameter\n",
    "from torch_scatter import scatter\n",
    "from torch_sparse import SparseTensor, matmul, masked_select_nnz\n",
    "from torch_geometric.nn.conv import MessagePassing\n",
    "\n",
    "from torch_geometric.nn.inits import glorot, zeros\n",
    "\n",
    "\n",
    "@torch.jit._overload\n",
    "def masked_edge_index(edge_index, edge_mask):\n",
    "    # type: (Tensor, Tensor) -> Tensor\n",
    "    pass\n",
    "\n",
    "\n",
    "@torch.jit._overload\n",
    "def masked_edge_index(edge_index, edge_mask):\n",
    "    # type: (SparseTensor, Tensor) -> SparseTensor\n",
    "    pass\n",
    "\n",
    "\n",
    "def masked_edge_index(edge_index, edge_mask):\n",
    "    if isinstance(edge_index, Tensor):\n",
    "        return edge_index[:, edge_mask]\n",
    "    else:\n",
    "        return masked_select_nnz(edge_index, edge_mask, layout='coo')\n",
    "\n",
    "\n",
    "class RGCNConv(MessagePassing):\n",
    "    r\"\"\"The relational graph convolutional operator from the `\"Modeling\n",
    "    Relational Data with Graph Convolutional Networks\"\n",
    "    <https://arxiv.org/abs/1703.06103>`_ paper\n",
    "\n",
    "    .. math::\n",
    "        \\mathbf{x}^{\\prime}_i = \\mathbf{\\Theta}_{\\textrm{root}} \\cdot\n",
    "        \\mathbf{x}_i + \\sum_{r \\in \\mathcal{R}} \\sum_{j \\in \\mathcal{N}_r(i)}\n",
    "        \\frac{1}{|\\mathcal{N}_r(i)|} \\mathbf{\\Theta}_r \\cdot \\mathbf{x}_j,\n",
    "\n",
    "    where :math:`\\mathcal{R}` denotes the set of relations, *i.e.* edge types.\n",
    "    Edge type needs to be a one-dimensional :obj:`torch.long` tensor which\n",
    "    stores a relation identifier\n",
    "    :math:`\\in \\{ 0, \\ldots, |\\mathcal{R}| - 1\\}` for each edge.\n",
    "\n",
    "    .. note::\n",
    "        This implementation is as memory-efficient as possible by iterating\n",
    "        over each individual relation type.\n",
    "        Therefore, it may result in low GPU utilization in case the graph has a\n",
    "        large number of relations.\n",
    "        As an alternative approach, :class:`FastRGCNConv` does not iterate over\n",
    "        each individual type, but may consume a large amount of memory to\n",
    "        compensate.\n",
    "        We advise to check out both implementations to see which one fits your\n",
    "        needs.\n",
    "\n",
    "    Args:\n",
    "        in_channels (int or tuple): Size of each input sample. A tuple\n",
    "            corresponds to the sizes of source and target dimensionalities.\n",
    "            In case no input features are given, this argument should\n",
    "            correspond to the number of nodes in your graph.\n",
    "        out_channels (int): Size of each output sample.\n",
    "        num_relations (int): Number of relations.\n",
    "        num_bases (int, optional): If set to not :obj:`None`, this layer will\n",
    "            use the basis-decomposition regularization scheme where\n",
    "            :obj:`num_bases` denotes the number of bases to use.\n",
    "            (default: :obj:`None`)\n",
    "        num_blocks (int, optional): If set to not :obj:`None`, this layer will\n",
    "            use the block-diagonal-decomposition regularization scheme where\n",
    "            :obj:`num_blocks` denotes the number of blocks to use.\n",
    "            (default: :obj:`None`)\n",
    "        aggr (string, optional): The aggregation scheme to use\n",
    "            (:obj:`\"add\"`, :obj:`\"mean\"`, :obj:`\"max\"`).\n",
    "            (default: :obj:`\"mean\"`)\n",
    "        root_weight (bool, optional): If set to :obj:`False`, the layer will\n",
    "            not add transformed root node features to the output.\n",
    "            (default: :obj:`True`)\n",
    "        bias (bool, optional): If set to :obj:`False`, the layer will not learn\n",
    "            an additive bias. (default: :obj:`True`)\n",
    "        **kwargs (optional): Additional arguments of\n",
    "            :class:`torch_geometric.nn.conv.MessagePassing`.\n",
    "    \"\"\"\n",
    "    def __init__(\n",
    "        self,\n",
    "        in_channels: Union[int, Tuple[int, int]],\n",
    "        out_channels: int,\n",
    "        num_relations: int,\n",
    "        num_bases: Optional[int] = None,\n",
    "        num_blocks: Optional[int] = None,\n",
    "        aggr: str = 'mean',\n",
    "        root_weight: bool = True,\n",
    "        bias: bool = True,\n",
    "        **kwargs,\n",
    "    ):\n",
    "        super().__init__(aggr=aggr, node_dim=0, **kwargs)\n",
    "\n",
    "        if num_bases is not None and num_blocks is not None:\n",
    "            raise ValueError('Can not apply both basis-decomposition and '\n",
    "                             'block-diagonal-decomposition at the same time.')\n",
    "\n",
    "        self.in_channels = in_channels\n",
    "        self.out_channels = out_channels\n",
    "        self.num_relations = num_relations\n",
    "        self.num_bases = num_bases\n",
    "        self.num_blocks = num_blocks\n",
    "\n",
    "        if isinstance(in_channels, int):\n",
    "            in_channels = (in_channels, in_channels)\n",
    "        self.in_channels_l = in_channels[0]\n",
    "\n",
    "        if num_bases is not None:\n",
    "            self.weight = Parameter(\n",
    "                torch.Tensor(num_bases, in_channels[0], out_channels))\n",
    "            self.comp = Parameter(torch.Tensor(num_relations, num_bases))\n",
    "\n",
    "        elif num_blocks is not None:\n",
    "            assert (in_channels[0] % num_blocks == 0\n",
    "                    and out_channels % num_blocks == 0)\n",
    "            self.weight = Parameter(\n",
    "                torch.Tensor(num_relations, num_blocks,\n",
    "                             in_channels[0] // num_blocks,\n",
    "                             out_channels // num_blocks))\n",
    "            self.register_parameter('comp', None)\n",
    "\n",
    "        else:\n",
    "            self.weight = Parameter(\n",
    "                torch.Tensor(num_relations, in_channels[0], out_channels))\n",
    "            self.register_parameter('comp', None)\n",
    "\n",
    "        if root_weight:\n",
    "            self.root = Param(torch.Tensor(in_channels[1], out_channels))\n",
    "        else:\n",
    "            self.register_parameter('root', None)\n",
    "\n",
    "        if bias:\n",
    "            self.bias = Param(torch.Tensor(out_channels))\n",
    "        else:\n",
    "            self.register_parameter('bias', None)\n",
    "\n",
    "        self.reset_parameters()\n",
    "\n",
    "    def reset_parameters(self):\n",
    "        glorot(self.weight)\n",
    "        glorot(self.comp)\n",
    "        glorot(self.root)\n",
    "        zeros(self.bias)\n",
    "\n",
    "\n",
    "    def forward(self, x: Union[OptTensor, Tuple[OptTensor, Tensor]],\n",
    "                edge_index: Adj, edge_type: OptTensor = None):\n",
    "        r\"\"\"\n",
    "        Args:\n",
    "            x: The input node features. Can be either a :obj:`[num_nodes,\n",
    "                in_channels]` node feature matrix, or an optional\n",
    "                one-dimensional node index tensor (in which case input features\n",
    "                are treated as trainable node embeddings).\n",
    "                Furthermore, :obj:`x` can be of type :obj:`tuple` denoting\n",
    "                source and destination node features.\n",
    "            edge_type: The one-dimensional relation type/index for each edge in\n",
    "                :obj:`edge_index`.\n",
    "                Should be only :obj:`None` in case :obj:`edge_index` is of type\n",
    "                :class:`torch_sparse.tensor.SparseTensor`.\n",
    "                (default: :obj:`None`)\n",
    "        \"\"\"\n",
    "\n",
    "        # Convert input features to a pair of node features or node indices.\n",
    "        x_l: OptTensor = None\n",
    "        if isinstance(x, tuple):\n",
    "            x_l = x[0]\n",
    "        else:\n",
    "            x_l = x\n",
    "        if x_l is None:\n",
    "            x_l = torch.arange(self.in_channels_l, device=self.weight.device)\n",
    "\n",
    "        x_r: Tensor = x_l\n",
    "        if isinstance(x, tuple):\n",
    "            x_r = x[1]\n",
    "\n",
    "        size = (x_l.size(0), x_r.size(0))\n",
    "\n",
    "        if isinstance(edge_index, SparseTensor):\n",
    "            edge_type = edge_index.storage.value()\n",
    "        assert edge_type is not None\n",
    "\n",
    "        # propagate_type: (x: Tensor)\n",
    "        out = torch.zeros(x_r.size(0), self.out_channels, device=x_r.device)\n",
    "\n",
    "        weight = self.weight\n",
    "        if self.num_bases is not None:  # Basis-decomposition =================\n",
    "            weight = (self.comp @ weight.view(self.num_bases, -1)).view(\n",
    "                self.num_relations, self.in_channels_l, self.out_channels)\n",
    "\n",
    "        if self.num_blocks is not None:  # Block-diagonal-decomposition =====\n",
    "\n",
    "            if x_l.dtype == torch.long and self.num_blocks is not None:\n",
    "                raise ValueError('Block-diagonal decomposition not supported '\n",
    "                                 'for non-continuous input features.')\n",
    "\n",
    "            for i in range(self.num_relations):\n",
    "                tmp = masked_edge_index(edge_index, edge_type == i)\n",
    "                h = self.propagate(tmp, x=x_l, size=size)\n",
    "                h = h.view(-1, weight.size(1), weight.size(2))\n",
    "                h = torch.einsum('abc,bcd->abd', h, weight[i])\n",
    "                out += h.contiguous().view(-1, self.out_channels)\n",
    "\n",
    "        else:  # No regularization/Basis-decomposition ========================\n",
    "            for i in range(self.num_relations):\n",
    "                tmp = masked_edge_index(edge_index, edge_type == i)\n",
    "\n",
    "                if x_l.dtype == torch.long:\n",
    "                    out += self.propagate(tmp, x=weight[i, x_l], size=size)\n",
    "                else:\n",
    "                    h = self.propagate(tmp, x=x_l, size=size)\n",
    "                    out = out + (h @ weight[i])\n",
    "\n",
    "        root = self.root\n",
    "        if root is not None:\n",
    "            out += root[x_r] if x_r.dtype == torch.long else x_r @ root\n",
    "\n",
    "        if self.bias is not None:\n",
    "            out += self.bias\n",
    "\n",
    "        return out\n",
    "\n",
    "\n",
    "    def message(self, x_j: Tensor) -> Tensor:\n",
    "        return x_j\n",
    "\n",
    "    def message_and_aggregate(self, adj_t: SparseTensor, x: Tensor) -> Tensor:\n",
    "        adj_t = adj_t.set_value(None, layout=None)\n",
    "        return matmul(adj_t, x, reduce=self.aggr)\n",
    "\n",
    "    def __repr__(self) -> str:\n",
    "        return (f'{self.__class__.__name__}({self.in_channels}, '\n",
    "                f'{self.out_channels}, num_relations={self.num_relations})')"
   ]
  },
  {
   "cell_type": "markdown",
   "metadata": {
    "id": "hfsNpMLrEXLk"
   },
   "source": [
    "next edges"
   ]
  },
  {
   "cell_type": "code",
   "execution_count": null,
   "metadata": {
    "colab": {
     "base_uri": "https://localhost:8080/"
    },
    "id": "2DaVTonr_XB8",
    "outputId": "9e5fa8f9-604e-4273-a34d-fad73ad9ab7e"
   },
   "outputs": [
    {
     "name": "stdout",
     "output_type": "stream",
     "text": [
      "[[0 1 1 1]\n",
      " [1 1 1 1]\n",
      " [1 1 0 0]\n",
      " [1 1 1 1]\n",
      " [0 1 0 1]\n",
      " [1 0 0 0]\n",
      " [1 1 1 0]\n",
      " [0 0 0 0]]\n",
      "[[ 0  8 16 24]\n",
      " [ 1  9 17 25]\n",
      " [ 2 10 18 26]\n",
      " [ 3 11 19 27]\n",
      " [ 4 12 20 28]\n",
      " [ 5 13 21 29]\n",
      " [ 6 14 22 30]\n",
      " [ 7 15 23 31]]\n",
      "[(8, 1, 1), (8, 17, 1), (8, 25, 1), (16, 1, 1), (16, 9, 1), (16, 25, 1), (24, 1, 1), (24, 9, 1), (24, 17, 1), (1, 10, 1), (9, 2, 1), (17, 2, 1), (17, 10, 1), (25, 2, 1), (25, 10, 1), (2, 11, 1), (2, 19, 1), (2, 27, 1), (10, 3, 1), (10, 19, 1), (10, 27, 1), (3, 12, 1), (3, 28, 1), (11, 28, 1), (19, 12, 1), (19, 28, 1), (27, 12, 1), (12, 5, 1), (28, 5, 1), (5, 14, 1), (5, 22, 1)]\n"
     ]
    }
   ],
   "source": [
    "import itertools\n",
    "\n",
    "a = np.random.randint(2, size=(4,8))\n",
    "a_t = a.transpose()\n",
    "print(a_t)\n",
    "inds = np.stack(np.where(a_t == 1)).transpose()\n",
    "ts_acts = np.any(a_t, axis=1)\n",
    "ts_inds = np.where(ts_acts)[0]\n",
    "\n",
    "labels = np.arange(32).reshape(4, 8).transpose()\n",
    "print(labels)\n",
    "\n",
    "next_edges = []\n",
    "for i in range(len(ts_inds)-1):\n",
    "    ind_s = ts_inds[i]\n",
    "    ind_e = ts_inds[i+1]\n",
    "    s = inds[inds[:,0] == ind_s]\n",
    "    e = inds[inds[:,0] == ind_e]\n",
    "    e_inds = [t for t in list(itertools.product(s, e)) if t[0][1] != t[1][1]]\n",
    "    edges = [(labels[tuple(e[0])],labels[tuple(e[1])], ind_e-ind_s) for e in e_inds]\n",
    "    next_edges.extend(edges)\n",
    "\n",
    "print(next_edges)\n",
    "    "
   ]
  },
  {
   "cell_type": "markdown",
   "metadata": {
    "id": "lJ5JQm1aEbmb"
   },
   "source": [
    "onset edges"
   ]
  },
  {
   "cell_type": "code",
   "execution_count": null,
   "metadata": {
    "colab": {
     "base_uri": "https://localhost:8080/"
    },
    "id": "DISmsJB3EatR",
    "outputId": "fc864608-63a6-4ad0-84d9-1478001ce60e"
   },
   "outputs": [
    {
     "name": "stdout",
     "output_type": "stream",
     "text": [
      "[[0 1 1 1]\n",
      " [1 1 1 1]\n",
      " [1 1 0 0]\n",
      " [1 1 1 1]\n",
      " [0 1 0 1]\n",
      " [1 0 0 0]\n",
      " [1 1 1 0]\n",
      " [0 0 0 0]]\n",
      "[[ 0  8 16 24]\n",
      " [ 1  9 17 25]\n",
      " [ 2 10 18 26]\n",
      " [ 3 11 19 27]\n",
      " [ 4 12 20 28]\n",
      " [ 5 13 21 29]\n",
      " [ 6 14 22 30]\n",
      " [ 7 15 23 31]]\n",
      "[(8, 16, 0), (8, 24, 0), (16, 24, 0), (16, 8, 0), (24, 8, 0), (24, 16, 0), (1, 9, 0), (1, 17, 0), (1, 25, 0), (9, 17, 0), (9, 25, 0), (17, 25, 0), (9, 1, 0), (17, 1, 0), (25, 1, 0), (17, 9, 0), (25, 9, 0), (25, 17, 0), (2, 10, 0), (10, 2, 0), (3, 11, 0), (3, 19, 0), (3, 27, 0), (11, 19, 0), (11, 27, 0), (19, 27, 0), (11, 3, 0), (19, 3, 0), (27, 3, 0), (19, 11, 0), (27, 11, 0), (27, 19, 0), (12, 28, 0), (28, 12, 0), (6, 14, 0), (6, 22, 0), (14, 22, 0), (14, 6, 0), (22, 6, 0), (22, 14, 0)]\n"
     ]
    }
   ],
   "source": [
    "onset_edges = []\n",
    "print(a_t)\n",
    "print(labels)\n",
    "\n",
    "for i in ts_inds:\n",
    "    ts_acts_inds = list(inds[inds[:,0] == i])\n",
    "    if len(ts_acts_inds) < 2:\n",
    "        continue\n",
    "    e_inds = list(itertools.combinations(ts_acts_inds, 2))\n",
    "    edges = [(labels[tuple(e[0])], labels[tuple(e[1])], 0) for e in e_inds]\n",
    "    inv_edges = [(e[1], e[0], *e[2:]) for e in edges]\n",
    "    onset_edges.extend(edges)\n",
    "    onset_edges.extend(inv_edges)\n",
    "\n",
    "print(onset_edges)\n"
   ]
  },
  {
   "cell_type": "markdown",
   "metadata": {
    "id": "ujitZCKaa7nu"
   },
   "source": [
    "track edges"
   ]
  },
  {
   "cell_type": "code",
   "execution_count": null,
   "metadata": {
    "colab": {
     "base_uri": "https://localhost:8080/"
    },
    "id": "NbVG1vdFa-7e",
    "outputId": "c042449b-eef2-4707-a524-5f66f3ec07c7"
   },
   "outputs": [
    {
     "name": "stdout",
     "output_type": "stream",
     "text": [
      "[[1 1 1 1]\n",
      " [1 0 0 1]\n",
      " [0 1 0 0]\n",
      " [0 0 0 0]\n",
      " [1 1 0 0]\n",
      " [0 0 1 1]\n",
      " [0 0 1 0]\n",
      " [0 0 1 1]]\n",
      "[[ 0  8 16 24]\n",
      " [ 1  9 17 25]\n",
      " [ 2 10 18 26]\n",
      " [ 3 11 19 27]\n",
      " [ 4 12 20 28]\n",
      " [ 5 13 21 29]\n",
      " [ 6 14 22 30]\n",
      " [ 7 15 23 31]]\n",
      "[(array([0, 0]), array([1, 0])), (array([1, 0]), array([4, 0]))]\n",
      "[(array([0, 1]), array([2, 1])), (array([2, 1]), array([4, 1]))]\n",
      "[(array([0, 2]), array([5, 2])), (array([5, 2]), array([6, 2])), (array([6, 2]), array([7, 2]))]\n",
      "[(array([0, 3]), array([1, 3])), (array([1, 3]), array([5, 3])), (array([5, 3]), array([7, 3]))]\n",
      "[(0, 1, 1), (1, 4, 3), (8, 10, 2), (10, 12, 2), (16, 21, 5), (21, 22, 1), (22, 23, 1), (24, 25, 1), (25, 29, 4), (29, 31, 2)]\n"
     ]
    }
   ],
   "source": [
    "print(a_t)\n",
    "print(labels)\n",
    "track_edges = []\n",
    "\n",
    "for track in range(a_t.shape[1]):\n",
    "    tr_inds = list(inds[inds[:,1] == track])\n",
    "    e_inds = [(tr_inds[i],\n",
    "               tr_inds[i+1]) for i in range(len(tr_inds)-1)]\n",
    "    print(e_inds)\n",
    "    edges = [(labels[tuple(e[0])], labels[tuple(e[1])], e[1][0]-e[0][0]) for e in e_inds]\n",
    "    track_edges.extend(edges)\n",
    "\n",
    "print(track_edges)"
   ]
  },
  {
   "cell_type": "code",
   "execution_count": null,
   "metadata": {
    "colab": {
     "base_uri": "https://localhost:8080/"
    },
    "id": "8DzouJ5NqALB",
    "outputId": "20a76e82-6305-4154-d894-6d69a64435a1"
   },
   "outputs": [
    {
     "data": {
      "text/plain": [
       "(50, 3)"
      ]
     },
     "execution_count": 124,
     "metadata": {},
     "output_type": "execute_result"
    }
   ],
   "source": [
    "track_edges = np.array(track_edges)\n",
    "onset_edges = np.array(onset_edges)\n",
    "np.concatenate((track_edges, onset_edges)).shape"
   ]
  },
  {
   "cell_type": "code",
   "execution_count": null,
   "metadata": {
    "id": "ihIYkPWPzyGX"
   },
   "outputs": [],
   "source": [
    "pip install pypianoroll"
   ]
  },
  {
   "cell_type": "code",
   "execution_count": null,
   "metadata": {
    "id": "ie0pU8NWAUNM"
   },
   "outputs": [],
   "source": [
    "import pypianoroll"
   ]
  },
  {
   "cell_type": "code",
   "execution_count": null,
   "metadata": {
    "id": "QTbGBSrdAZGH"
   },
   "outputs": [],
   "source": [
    "multitrack = pypianoroll.read(\"tests_fur-elise.mid\")\n",
    "print(multitrack)"
   ]
  },
  {
   "cell_type": "code",
   "execution_count": null,
   "metadata": {
    "id": "3eVo_BKzAmz4"
   },
   "outputs": [],
   "source": [
    "multitrack.tracks[0].pianoroll"
   ]
  },
  {
   "cell_type": "code",
   "execution_count": null,
   "metadata": {
    "id": "PPpWw-rLA7CI"
   },
   "outputs": [],
   "source": [
    "multitrack.plot()"
   ]
  },
  {
   "cell_type": "code",
   "execution_count": null,
   "metadata": {
    "id": "x-PYbS7FA-Gg"
   },
   "outputs": [],
   "source": [
    "multitrack.trim(0, 12 * multitrack.resolution)\n",
    "multitrack.binarize()"
   ]
  },
  {
   "cell_type": "code",
   "execution_count": null,
   "metadata": {
    "id": "psxuoTsZBFXY"
   },
   "outputs": [],
   "source": [
    "multitrack.plot()"
   ]
  },
  {
   "cell_type": "code",
   "execution_count": null,
   "metadata": {
    "id": "ovyixmSvBG3w"
   },
   "outputs": [],
   "source": [
    "multitrack.tracks[0].pianoroll.shape"
   ]
  },
  {
   "cell_type": "code",
   "execution_count": null,
   "metadata": {
    "id": "wHlKNufuBzLn"
   },
   "outputs": [],
   "source": [
    "\n"
   ]
  }
 ],
 "metadata": {
  "colab": {
   "authorship_tag": "ABX9TyOhjCOJb34P4bTid7qFDg58",
   "collapsed_sections": [],
   "include_colab_link": true,
   "mount_file_id": "1NeVldMsPVJd6pXbxZDmuiUP-QJBRhYtj",
   "name": "midi.ipynb",
   "provenance": []
  },
  "kernelspec": {
   "display_name": "Python 3 (ipykernel)",
   "language": "python",
   "name": "python3"
  },
  "language_info": {
   "codemirror_mode": {
    "name": "ipython",
    "version": 3
   },
   "file_extension": ".py",
   "mimetype": "text/x-python",
   "name": "python",
   "nbconvert_exporter": "python",
   "pygments_lexer": "ipython3",
   "version": "3.6.8"
  }
 },
 "nbformat": 4,
 "nbformat_minor": 1
}
